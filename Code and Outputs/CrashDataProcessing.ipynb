{
 "cells": [
  {
   "cell_type": "markdown",
   "id": "674aaaf2-258b-4ff4-b60f-523865b9ed7d",
   "metadata": {},
   "source": [
    "## Crash Data Code"
   ]
  },
  {
   "cell_type": "markdown",
   "id": "62f55381-d2b9-42dd-a45d-c970375b80f6",
   "metadata": {},
   "source": [
    "This code loads and wrangles the crash statistics data from NZTA's crash analysis system. It filters the crashes down to only those that occur in the Canterbury region. It combines it with a table of area unit names to give an overview of the crash statistics in each area unit in Canterbury."
   ]
  },
  {
   "cell_type": "code",
   "execution_count": 20,
   "id": "442df93c-5c15-453a-8ebb-a8dcc3bd0f23",
   "metadata": {
    "tags": []
   },
   "outputs": [],
   "source": [
    "library(tidyverse) # Load the necessary tidyverse library."
   ]
  },
  {
   "cell_type": "markdown",
   "id": "494e1709-05ed-48fd-a569-42ae60de0a7d",
   "metadata": {},
   "source": [
    "First the inital crash dataframe was loaded. This included data for the whole country from 2000 to present. This data can be found here: https://opendata-nzta.opendata.arcgis.com/datasets/NZTA::crash-analysis-system-cas-data-1/about. There was a problem with the name of the first column X, which had a weird symbol before it. This was changed to just X to avoid any problems further down the track."
   ]
  },
  {
   "cell_type": "code",
   "execution_count": null,
   "id": "5b7b783b-6d68-483f-88b1-f5422043d058",
   "metadata": {},
   "outputs": [],
   "source": [
    "initial.df <- read.csv(\"Crash_Analysis_System_(CAS)_data.csv\") # Read the dataframe into R\n",
    "initial.df <- initial.df %>% rename(\"X\" = \"ï..X\") # fix the weird symbol in the column name\n",
    "head(initial.df)"
   ]
  },
  {
   "cell_type": "markdown",
   "id": "c55507e4-d604-4c1e-9945-6c07393b2bf3",
   "metadata": {},
   "source": [
    "The dataset was filtered to get only crashes in Canterbury that happened from 2016 to 2020"
   ]
  },
  {
   "cell_type": "code",
   "execution_count": null,
   "id": "df794421-54f3-4923-a15d-f6afb0040527",
   "metadata": {},
   "outputs": [],
   "source": [
    "crash.df<- initial.df %>% filter(region == \"Canterbury Region\" & crashYear >= 2016 & crashYear < 2021) # Filter the dataframe appropriately\n",
    "head(crash.df)"
   ]
  },
  {
   "cell_type": "markdown",
   "id": "28e33da8-5f4f-4d07-96e5-5af31a5b90ef",
   "metadata": {},
   "source": [
    "This dataframe was saved and exported as it was useful to look at it in excell to get a clearer picture of all the columns."
   ]
  },
  {
   "cell_type": "code",
   "execution_count": null,
   "id": "833a023d-1fe2-4085-8855-857c9d80d439",
   "metadata": {},
   "outputs": [],
   "source": [
    "write_csv(crash.df, \"/home/mathuser/R/x86_64-pc-linux-gnu-library/crash.csv\") # Save the crash.df dataframe."
   ]
  },
  {
   "cell_type": "markdown",
   "id": "d39f8a8e-440d-4a69-8b09-0a2a40839007",
   "metadata": {},
   "source": [
    "Because the original raw dataset was so big, loading it could take a while and sometimes the program crashed. Therefore, the file containing the filtered data-frame that was saved above was often loaded in instead to allow for the development of the code."
   ]
  },
  {
   "cell_type": "code",
   "execution_count": 4,
   "id": "350a1904-e3de-4e9f-bbe6-cd7c6412a156",
   "metadata": {},
   "outputs": [
    {
     "data": {
      "text/html": [
       "<table class=\"dataframe\">\n",
       "<caption>A data.frame: 6 × 72</caption>\n",
       "<thead>\n",
       "\t<tr><th></th><th scope=col>X</th><th scope=col>Y</th><th scope=col>OBJECTID</th><th scope=col>advisorySpeed</th><th scope=col>areaUnitID</th><th scope=col>bicycle</th><th scope=col>bridge</th><th scope=col>bus</th><th scope=col>carStationWagon</th><th scope=col>cliffBank</th><th scope=col>...</th><th scope=col>train</th><th scope=col>tree</th><th scope=col>truck</th><th scope=col>unknownVehicleType</th><th scope=col>urban</th><th scope=col>vanOrUtility</th><th scope=col>vehicle</th><th scope=col>waterRiver</th><th scope=col>weatherA</th><th scope=col>weatherB</th></tr>\n",
       "\t<tr><th></th><th scope=col>&lt;dbl&gt;</th><th scope=col>&lt;dbl&gt;</th><th scope=col>&lt;int&gt;</th><th scope=col>&lt;int&gt;</th><th scope=col>&lt;int&gt;</th><th scope=col>&lt;int&gt;</th><th scope=col>&lt;int&gt;</th><th scope=col>&lt;int&gt;</th><th scope=col>&lt;int&gt;</th><th scope=col>&lt;int&gt;</th><th scope=col>...</th><th scope=col>&lt;int&gt;</th><th scope=col>&lt;int&gt;</th><th scope=col>&lt;int&gt;</th><th scope=col>&lt;int&gt;</th><th scope=col>&lt;chr&gt;</th><th scope=col>&lt;int&gt;</th><th scope=col>&lt;int&gt;</th><th scope=col>&lt;int&gt;</th><th scope=col>&lt;chr&gt;</th><th scope=col>&lt;chr&gt;</th></tr>\n",
       "</thead>\n",
       "<tbody>\n",
       "\t<tr><th scope=row>1</th><td>1565751</td><td>5181488</td><td>123</td><td>NA</td><td>589700</td><td>0</td><td>NA</td><td>0</td><td>2</td><td>NA</td><td>...</td><td>NA</td><td>NA</td><td>0</td><td>0</td><td>Urban</td><td>0</td><td>NA</td><td>NA</td><td>Fine      </td><td>Null</td></tr>\n",
       "\t<tr><th scope=row>2</th><td>1566976</td><td>5180563</td><td>158</td><td>NA</td><td>590701</td><td>1</td><td>NA</td><td>0</td><td>1</td><td>NA</td><td>...</td><td>NA</td><td>NA</td><td>0</td><td>0</td><td>Urban</td><td>0</td><td>NA</td><td>NA</td><td>Light rain</td><td>Null</td></tr>\n",
       "\t<tr><th scope=row>3</th><td>1571770</td><td>5179923</td><td>163</td><td>NA</td><td>593501</td><td>0</td><td>NA</td><td>0</td><td>2</td><td>NA</td><td>...</td><td>NA</td><td>NA</td><td>0</td><td>0</td><td>Urban</td><td>0</td><td>NA</td><td>NA</td><td>Heavy rain</td><td>Null</td></tr>\n",
       "\t<tr><th scope=row>4</th><td>1568150</td><td>5183313</td><td>257</td><td>NA</td><td>592100</td><td>1</td><td>NA</td><td>0</td><td>1</td><td>NA</td><td>...</td><td>NA</td><td>NA</td><td>0</td><td>0</td><td>Urban</td><td>0</td><td>NA</td><td>NA</td><td>Light rain</td><td>Null</td></tr>\n",
       "\t<tr><th scope=row>5</th><td>1570162</td><td>5178324</td><td>276</td><td>NA</td><td>594600</td><td>0</td><td>NA</td><td>0</td><td>0</td><td>NA</td><td>...</td><td>NA</td><td>NA</td><td>1</td><td>0</td><td>Urban</td><td>0</td><td>NA</td><td>NA</td><td>Fine      </td><td>Null</td></tr>\n",
       "\t<tr><th scope=row>6</th><td>1568514</td><td>5178239</td><td>305</td><td>NA</td><td>595000</td><td>0</td><td> 0</td><td>0</td><td>1</td><td> 0</td><td>...</td><td> 0</td><td> 0</td><td>1</td><td>0</td><td>Open </td><td>0</td><td> 0</td><td> 0</td><td>Fine      </td><td>Null</td></tr>\n",
       "</tbody>\n",
       "</table>\n"
      ],
      "text/latex": [
       "A data.frame: 6 × 72\n",
       "\\begin{tabular}{r|lllllllllllllllllllll}\n",
       "  & X & Y & OBJECTID & advisorySpeed & areaUnitID & bicycle & bridge & bus & carStationWagon & cliffBank & ... & train & tree & truck & unknownVehicleType & urban & vanOrUtility & vehicle & waterRiver & weatherA & weatherB\\\\\n",
       "  & <dbl> & <dbl> & <int> & <int> & <int> & <int> & <int> & <int> & <int> & <int> & ... & <int> & <int> & <int> & <int> & <chr> & <int> & <int> & <int> & <chr> & <chr>\\\\\n",
       "\\hline\n",
       "\t1 & 1565751 & 5181488 & 123 & NA & 589700 & 0 & NA & 0 & 2 & NA & ... & NA & NA & 0 & 0 & Urban & 0 & NA & NA & Fine       & Null\\\\\n",
       "\t2 & 1566976 & 5180563 & 158 & NA & 590701 & 1 & NA & 0 & 1 & NA & ... & NA & NA & 0 & 0 & Urban & 0 & NA & NA & Light rain & Null\\\\\n",
       "\t3 & 1571770 & 5179923 & 163 & NA & 593501 & 0 & NA & 0 & 2 & NA & ... & NA & NA & 0 & 0 & Urban & 0 & NA & NA & Heavy rain & Null\\\\\n",
       "\t4 & 1568150 & 5183313 & 257 & NA & 592100 & 1 & NA & 0 & 1 & NA & ... & NA & NA & 0 & 0 & Urban & 0 & NA & NA & Light rain & Null\\\\\n",
       "\t5 & 1570162 & 5178324 & 276 & NA & 594600 & 0 & NA & 0 & 0 & NA & ... & NA & NA & 1 & 0 & Urban & 0 & NA & NA & Fine       & Null\\\\\n",
       "\t6 & 1568514 & 5178239 & 305 & NA & 595000 & 0 &  0 & 0 & 1 &  0 & ... &  0 &  0 & 1 & 0 & Open  & 0 &  0 &  0 & Fine       & Null\\\\\n",
       "\\end{tabular}\n"
      ],
      "text/markdown": [
       "\n",
       "A data.frame: 6 × 72\n",
       "\n",
       "| <!--/--> | X &lt;dbl&gt; | Y &lt;dbl&gt; | OBJECTID &lt;int&gt; | advisorySpeed &lt;int&gt; | areaUnitID &lt;int&gt; | bicycle &lt;int&gt; | bridge &lt;int&gt; | bus &lt;int&gt; | carStationWagon &lt;int&gt; | cliffBank &lt;int&gt; | ... ... | train &lt;int&gt; | tree &lt;int&gt; | truck &lt;int&gt; | unknownVehicleType &lt;int&gt; | urban &lt;chr&gt; | vanOrUtility &lt;int&gt; | vehicle &lt;int&gt; | waterRiver &lt;int&gt; | weatherA &lt;chr&gt; | weatherB &lt;chr&gt; |\n",
       "|---|---|---|---|---|---|---|---|---|---|---|---|---|---|---|---|---|---|---|---|---|---|\n",
       "| 1 | 1565751 | 5181488 | 123 | NA | 589700 | 0 | NA | 0 | 2 | NA | ... | NA | NA | 0 | 0 | Urban | 0 | NA | NA | Fine       | Null |\n",
       "| 2 | 1566976 | 5180563 | 158 | NA | 590701 | 1 | NA | 0 | 1 | NA | ... | NA | NA | 0 | 0 | Urban | 0 | NA | NA | Light rain | Null |\n",
       "| 3 | 1571770 | 5179923 | 163 | NA | 593501 | 0 | NA | 0 | 2 | NA | ... | NA | NA | 0 | 0 | Urban | 0 | NA | NA | Heavy rain | Null |\n",
       "| 4 | 1568150 | 5183313 | 257 | NA | 592100 | 1 | NA | 0 | 1 | NA | ... | NA | NA | 0 | 0 | Urban | 0 | NA | NA | Light rain | Null |\n",
       "| 5 | 1570162 | 5178324 | 276 | NA | 594600 | 0 | NA | 0 | 0 | NA | ... | NA | NA | 1 | 0 | Urban | 0 | NA | NA | Fine       | Null |\n",
       "| 6 | 1568514 | 5178239 | 305 | NA | 595000 | 0 |  0 | 0 | 1 |  0 | ... |  0 |  0 | 1 | 0 | Open  | 0 |  0 |  0 | Fine       | Null |\n",
       "\n"
      ],
      "text/plain": [
       "  X       Y       OBJECTID advisorySpeed areaUnitID bicycle bridge bus\n",
       "1 1565751 5181488 123      NA            589700     0       NA     0  \n",
       "2 1566976 5180563 158      NA            590701     1       NA     0  \n",
       "3 1571770 5179923 163      NA            593501     0       NA     0  \n",
       "4 1568150 5183313 257      NA            592100     1       NA     0  \n",
       "5 1570162 5178324 276      NA            594600     0       NA     0  \n",
       "6 1568514 5178239 305      NA            595000     0        0     0  \n",
       "  carStationWagon cliffBank ... train tree truck unknownVehicleType urban\n",
       "1 2               NA        ... NA    NA   0     0                  Urban\n",
       "2 1               NA        ... NA    NA   0     0                  Urban\n",
       "3 2               NA        ... NA    NA   0     0                  Urban\n",
       "4 1               NA        ... NA    NA   0     0                  Urban\n",
       "5 0               NA        ... NA    NA   1     0                  Urban\n",
       "6 1                0        ...  0     0   1     0                  Open \n",
       "  vanOrUtility vehicle waterRiver weatherA   weatherB\n",
       "1 0            NA      NA         Fine       Null    \n",
       "2 0            NA      NA         Light rain Null    \n",
       "3 0            NA      NA         Heavy rain Null    \n",
       "4 0            NA      NA         Light rain Null    \n",
       "5 0            NA      NA         Fine       Null    \n",
       "6 0             0       0         Fine       Null    "
      ]
     },
     "metadata": {},
     "output_type": "display_data"
    }
   ],
   "source": [
    "crash.df <- read.csv(\"crash.csv\") # Read the dataframe into R\n",
    "#crash.df <- crash.df %>% rename(\"X\" = \"ï..X\") # fix the weird symbol in the column name\n",
    "head(crash.df)"
   ]
  },
  {
   "cell_type": "markdown",
   "id": "a5e578d7-3241-4b8f-a1de-159b2735e6cf",
   "metadata": {},
   "source": [
    "To help with developing the code, all the columns that contained location information were filtered into the dataframe below. This allowed for testing with the different keys for the area that we were thinking of using. i.e. meshblock, area unit, lat & long."
   ]
  },
  {
   "cell_type": "code",
   "execution_count": 5,
   "id": "7d2cd4f3-6414-468b-840b-4987a9b122c7",
   "metadata": {},
   "outputs": [
    {
     "data": {
      "text/html": [
       "<table class=\"dataframe\">\n",
       "<caption>A data.frame: 6 × 7</caption>\n",
       "<thead>\n",
       "\t<tr><th></th><th scope=col>X</th><th scope=col>Y</th><th scope=col>areaUnitID</th><th scope=col>crashLocation1</th><th scope=col>crashYear</th><th scope=col>meshblockId</th><th scope=col>tlaName</th></tr>\n",
       "\t<tr><th></th><th scope=col>&lt;dbl&gt;</th><th scope=col>&lt;dbl&gt;</th><th scope=col>&lt;int&gt;</th><th scope=col>&lt;chr&gt;</th><th scope=col>&lt;int&gt;</th><th scope=col>&lt;int&gt;</th><th scope=col>&lt;chr&gt;</th></tr>\n",
       "</thead>\n",
       "<tbody>\n",
       "\t<tr><th scope=row>1</th><td>1565751</td><td>5181488</td><td>589700</td><td>MAIDSTONE ROAD   </td><td>2019</td><td>2536900</td><td>Christchurch City</td></tr>\n",
       "\t<tr><th scope=row>2</th><td>1566976</td><td>5180563</td><td>590701</td><td>HINAU ST         </td><td>2016</td><td>2470000</td><td>Christchurch City</td></tr>\n",
       "\t<tr><th scope=row>3</th><td>1571770</td><td>5179923</td><td>593501</td><td>FITZGERALD AVENUE</td><td>2016</td><td>2608800</td><td>Christchurch City</td></tr>\n",
       "\t<tr><th scope=row>4</th><td>1568150</td><td>5183313</td><td>592100</td><td>BLIGHS ROAD      </td><td>2019</td><td>2670800</td><td>Christchurch City</td></tr>\n",
       "\t<tr><th scope=row>5</th><td>1570162</td><td>5178324</td><td>594600</td><td>SH 76            </td><td>2016</td><td>2617204</td><td>Christchurch City</td></tr>\n",
       "\t<tr><th scope=row>6</th><td>1568514</td><td>5178239</td><td>595000</td><td>076-0003/02.19-I </td><td>2018</td><td>2642500</td><td>Christchurch City</td></tr>\n",
       "</tbody>\n",
       "</table>\n"
      ],
      "text/latex": [
       "A data.frame: 6 × 7\n",
       "\\begin{tabular}{r|lllllll}\n",
       "  & X & Y & areaUnitID & crashLocation1 & crashYear & meshblockId & tlaName\\\\\n",
       "  & <dbl> & <dbl> & <int> & <chr> & <int> & <int> & <chr>\\\\\n",
       "\\hline\n",
       "\t1 & 1565751 & 5181488 & 589700 & MAIDSTONE ROAD    & 2019 & 2536900 & Christchurch City\\\\\n",
       "\t2 & 1566976 & 5180563 & 590701 & HINAU ST          & 2016 & 2470000 & Christchurch City\\\\\n",
       "\t3 & 1571770 & 5179923 & 593501 & FITZGERALD AVENUE & 2016 & 2608800 & Christchurch City\\\\\n",
       "\t4 & 1568150 & 5183313 & 592100 & BLIGHS ROAD       & 2019 & 2670800 & Christchurch City\\\\\n",
       "\t5 & 1570162 & 5178324 & 594600 & SH 76             & 2016 & 2617204 & Christchurch City\\\\\n",
       "\t6 & 1568514 & 5178239 & 595000 & 076-0003/02.19-I  & 2018 & 2642500 & Christchurch City\\\\\n",
       "\\end{tabular}\n"
      ],
      "text/markdown": [
       "\n",
       "A data.frame: 6 × 7\n",
       "\n",
       "| <!--/--> | X &lt;dbl&gt; | Y &lt;dbl&gt; | areaUnitID &lt;int&gt; | crashLocation1 &lt;chr&gt; | crashYear &lt;int&gt; | meshblockId &lt;int&gt; | tlaName &lt;chr&gt; |\n",
       "|---|---|---|---|---|---|---|---|\n",
       "| 1 | 1565751 | 5181488 | 589700 | MAIDSTONE ROAD    | 2019 | 2536900 | Christchurch City |\n",
       "| 2 | 1566976 | 5180563 | 590701 | HINAU ST          | 2016 | 2470000 | Christchurch City |\n",
       "| 3 | 1571770 | 5179923 | 593501 | FITZGERALD AVENUE | 2016 | 2608800 | Christchurch City |\n",
       "| 4 | 1568150 | 5183313 | 592100 | BLIGHS ROAD       | 2019 | 2670800 | Christchurch City |\n",
       "| 5 | 1570162 | 5178324 | 594600 | SH 76             | 2016 | 2617204 | Christchurch City |\n",
       "| 6 | 1568514 | 5178239 | 595000 | 076-0003/02.19-I  | 2018 | 2642500 | Christchurch City |\n",
       "\n"
      ],
      "text/plain": [
       "  X       Y       areaUnitID crashLocation1    crashYear meshblockId\n",
       "1 1565751 5181488 589700     MAIDSTONE ROAD    2019      2536900    \n",
       "2 1566976 5180563 590701     HINAU ST          2016      2470000    \n",
       "3 1571770 5179923 593501     FITZGERALD AVENUE 2016      2608800    \n",
       "4 1568150 5183313 592100     BLIGHS ROAD       2019      2670800    \n",
       "5 1570162 5178324 594600     SH 76             2016      2617204    \n",
       "6 1568514 5178239 595000     076-0003/02.19-I  2018      2642500    \n",
       "  tlaName          \n",
       "1 Christchurch City\n",
       "2 Christchurch City\n",
       "3 Christchurch City\n",
       "4 Christchurch City\n",
       "5 Christchurch City\n",
       "6 Christchurch City"
      ]
     },
     "metadata": {},
     "output_type": "display_data"
    },
    {
     "data": {
      "text/html": [
       "<style>\n",
       ".list-inline {list-style: none; margin:0; padding: 0}\n",
       ".list-inline>li {display: inline-block}\n",
       ".list-inline>li:not(:last-child)::after {content: \"\\00b7\"; padding: 0 .5ex}\n",
       "</style>\n",
       "<ol class=list-inline><li>17130</li><li>7</li></ol>\n"
      ],
      "text/latex": [
       "\\begin{enumerate*}\n",
       "\\item 17130\n",
       "\\item 7\n",
       "\\end{enumerate*}\n"
      ],
      "text/markdown": [
       "1. 17130\n",
       "2. 7\n",
       "\n",
       "\n"
      ],
      "text/plain": [
       "[1] 17130     7"
      ]
     },
     "metadata": {},
     "output_type": "display_data"
    }
   ],
   "source": [
    "crash_location.df <- crash.df %>% select(X,Y, areaUnitID, crashLocation1,crashYear,meshblockId, tlaName) # Select only the location columns.\n",
    "head(crash_location.df)\n",
    "dim(crash_location.df)"
   ]
  },
  {
   "cell_type": "markdown",
   "id": "fe26bc4b-e306-40ba-bc2e-08b513116248",
   "metadata": {},
   "source": [
    "The geographic key that we finally decided on was area unit, so a dataset containing the area unit id and name was loaded in. All the other columns that contained extra information were removed to give a dataframe the could be joined on to the crash dataframe."
   ]
  },
  {
   "cell_type": "code",
   "execution_count": 6,
   "id": "49204b74-0142-467f-9ec9-51b59c25c6cd",
   "metadata": {
    "tags": []
   },
   "outputs": [],
   "source": [
    "initial_area_unit.df <- read.csv(\"area-unit-2017-generalised-version.csv\") # Read the are unit dataframe into R"
   ]
  },
  {
   "cell_type": "code",
   "execution_count": 7,
   "id": "55a4963f-6251-4d17-bab7-ce1e4f8f9dfc",
   "metadata": {},
   "outputs": [
    {
     "data": {
      "text/html": [
       "<table class=\"dataframe\">\n",
       "<caption>A data.frame: 6 × 2</caption>\n",
       "<thead>\n",
       "\t<tr><th></th><th scope=col>areaUnitID</th><th scope=col>AU2017_NAME</th></tr>\n",
       "\t<tr><th></th><th scope=col>&lt;int&gt;</th><th scope=col>&lt;chr&gt;</th></tr>\n",
       "</thead>\n",
       "<tbody>\n",
       "\t<tr><th scope=row>1</th><td>500100</td><td>Awanui                          </td></tr>\n",
       "\t<tr><th scope=row>2</th><td>500202</td><td>Karikari Peninsula-Maungataniwha</td></tr>\n",
       "\t<tr><th scope=row>3</th><td>500203</td><td>Taipa Bay-Mangonui              </td></tr>\n",
       "\t<tr><th scope=row>4</th><td>500204</td><td>Herekino                        </td></tr>\n",
       "\t<tr><th scope=row>5</th><td>500206</td><td>North Cape                      </td></tr>\n",
       "\t<tr><th scope=row>6</th><td>500207</td><td>Houhora                         </td></tr>\n",
       "</tbody>\n",
       "</table>\n"
      ],
      "text/latex": [
       "A data.frame: 6 × 2\n",
       "\\begin{tabular}{r|ll}\n",
       "  & areaUnitID & AU2017\\_NAME\\\\\n",
       "  & <int> & <chr>\\\\\n",
       "\\hline\n",
       "\t1 & 500100 & Awanui                          \\\\\n",
       "\t2 & 500202 & Karikari Peninsula-Maungataniwha\\\\\n",
       "\t3 & 500203 & Taipa Bay-Mangonui              \\\\\n",
       "\t4 & 500204 & Herekino                        \\\\\n",
       "\t5 & 500206 & North Cape                      \\\\\n",
       "\t6 & 500207 & Houhora                         \\\\\n",
       "\\end{tabular}\n"
      ],
      "text/markdown": [
       "\n",
       "A data.frame: 6 × 2\n",
       "\n",
       "| <!--/--> | areaUnitID &lt;int&gt; | AU2017_NAME &lt;chr&gt; |\n",
       "|---|---|---|\n",
       "| 1 | 500100 | Awanui                           |\n",
       "| 2 | 500202 | Karikari Peninsula-Maungataniwha |\n",
       "| 3 | 500203 | Taipa Bay-Mangonui               |\n",
       "| 4 | 500204 | Herekino                         |\n",
       "| 5 | 500206 | North Cape                       |\n",
       "| 6 | 500207 | Houhora                          |\n",
       "\n"
      ],
      "text/plain": [
       "  areaUnitID AU2017_NAME                     \n",
       "1 500100     Awanui                          \n",
       "2 500202     Karikari Peninsula-Maungataniwha\n",
       "3 500203     Taipa Bay-Mangonui              \n",
       "4 500204     Herekino                        \n",
       "5 500206     North Cape                      \n",
       "6 500207     Houhora                         "
      ]
     },
     "metadata": {},
     "output_type": "display_data"
    }
   ],
   "source": [
    "area_unit.df <- initial_area_unit.df %>% select(AU2017, AU2017_NAME) %>% rename(areaUnitID = AU2017) # Select onyl the wanted columns and rename the id column for joining.\n",
    "head(area_unit.df)"
   ]
  },
  {
   "cell_type": "markdown",
   "id": "21f980ba-9b18-4105-a53a-64e379faf3ae",
   "metadata": {},
   "source": [
    "The area unit dataframe was joined onto the crash dataframe so that each crash had the name of the area unit it occured in. A right join was used to make sure that all the area units remained in the dataframe, even if they had no crashes in them. The dimensions of the resulting dataframe were check if any crashes were lost. As it happened there were no area units with no crashes and no crashes that did not have an area unit in the list."
   ]
  },
  {
   "cell_type": "code",
   "execution_count": 8,
   "id": "36bdfd09-2567-4130-b504-e4ae2acbc3c3",
   "metadata": {},
   "outputs": [
    {
     "data": {
      "text/html": [
       "<table class=\"dataframe\">\n",
       "<caption>A data.frame: 6 × 73</caption>\n",
       "<thead>\n",
       "\t<tr><th></th><th scope=col>areaUnitID</th><th scope=col>AU2017_NAME</th><th scope=col>X</th><th scope=col>Y</th><th scope=col>OBJECTID</th><th scope=col>advisorySpeed</th><th scope=col>bicycle</th><th scope=col>bridge</th><th scope=col>bus</th><th scope=col>carStationWagon</th><th scope=col>...</th><th scope=col>train</th><th scope=col>tree</th><th scope=col>truck</th><th scope=col>unknownVehicleType</th><th scope=col>urban</th><th scope=col>vanOrUtility</th><th scope=col>vehicle</th><th scope=col>waterRiver</th><th scope=col>weatherA</th><th scope=col>weatherB</th></tr>\n",
       "\t<tr><th></th><th scope=col>&lt;int&gt;</th><th scope=col>&lt;chr&gt;</th><th scope=col>&lt;dbl&gt;</th><th scope=col>&lt;dbl&gt;</th><th scope=col>&lt;int&gt;</th><th scope=col>&lt;int&gt;</th><th scope=col>&lt;int&gt;</th><th scope=col>&lt;int&gt;</th><th scope=col>&lt;int&gt;</th><th scope=col>&lt;int&gt;</th><th scope=col>...</th><th scope=col>&lt;int&gt;</th><th scope=col>&lt;int&gt;</th><th scope=col>&lt;int&gt;</th><th scope=col>&lt;int&gt;</th><th scope=col>&lt;chr&gt;</th><th scope=col>&lt;int&gt;</th><th scope=col>&lt;int&gt;</th><th scope=col>&lt;int&gt;</th><th scope=col>&lt;chr&gt;</th><th scope=col>&lt;chr&gt;</th></tr>\n",
       "</thead>\n",
       "<tbody>\n",
       "\t<tr><th scope=row>1</th><td>585506</td><td>Amuri</td><td>1596680</td><td>5263056</td><td> 1160</td><td>NA</td><td>0</td><td> 0</td><td>0</td><td>0</td><td>...</td><td> 0</td><td> 0</td><td>0</td><td>0</td><td>Open</td><td>0</td><td> 0</td><td> 0</td><td>Fine      </td><td>Null</td></tr>\n",
       "\t<tr><th scope=row>2</th><td>585506</td><td>Amuri</td><td>1581726</td><td>5275489</td><td> 3452</td><td>NA</td><td>0</td><td>NA</td><td>0</td><td>0</td><td>...</td><td>NA</td><td>NA</td><td>1</td><td>0</td><td>Open</td><td>0</td><td>NA</td><td>NA</td><td>Fine      </td><td>Null</td></tr>\n",
       "\t<tr><th scope=row>3</th><td>585506</td><td>Amuri</td><td>1589119</td><td>5270593</td><td> 5523</td><td>NA</td><td>0</td><td> 0</td><td>0</td><td>0</td><td>...</td><td> 0</td><td> 0</td><td>0</td><td>0</td><td>Open</td><td>1</td><td> 0</td><td> 0</td><td>Fine      </td><td>Null</td></tr>\n",
       "\t<tr><th scope=row>4</th><td>585506</td><td>Amuri</td><td>1550535</td><td>5305477</td><td>14109</td><td>NA</td><td>0</td><td> 0</td><td>0</td><td>1</td><td>...</td><td> 0</td><td> 0</td><td>0</td><td>0</td><td>Open</td><td>0</td><td> 0</td><td> 0</td><td>Light rain</td><td>Null</td></tr>\n",
       "\t<tr><th scope=row>5</th><td>585506</td><td>Amuri</td><td>1605633</td><td>5281957</td><td>17902</td><td>NA</td><td>0</td><td> 0</td><td>0</td><td>1</td><td>...</td><td> 0</td><td> 0</td><td>0</td><td>0</td><td>Open</td><td>0</td><td> 0</td><td> 0</td><td>Fine      </td><td>Null</td></tr>\n",
       "\t<tr><th scope=row>6</th><td>585506</td><td>Amuri</td><td>1583273</td><td>5287666</td><td>18864</td><td>NA</td><td>0</td><td>NA</td><td>0</td><td>0</td><td>...</td><td>NA</td><td>NA</td><td>0</td><td>0</td><td>Open</td><td>1</td><td>NA</td><td>NA</td><td>Fine      </td><td>Null</td></tr>\n",
       "</tbody>\n",
       "</table>\n"
      ],
      "text/latex": [
       "A data.frame: 6 × 73\n",
       "\\begin{tabular}{r|lllllllllllllllllllll}\n",
       "  & areaUnitID & AU2017\\_NAME & X & Y & OBJECTID & advisorySpeed & bicycle & bridge & bus & carStationWagon & ... & train & tree & truck & unknownVehicleType & urban & vanOrUtility & vehicle & waterRiver & weatherA & weatherB\\\\\n",
       "  & <int> & <chr> & <dbl> & <dbl> & <int> & <int> & <int> & <int> & <int> & <int> & ... & <int> & <int> & <int> & <int> & <chr> & <int> & <int> & <int> & <chr> & <chr>\\\\\n",
       "\\hline\n",
       "\t1 & 585506 & Amuri & 1596680 & 5263056 &  1160 & NA & 0 &  0 & 0 & 0 & ... &  0 &  0 & 0 & 0 & Open & 0 &  0 &  0 & Fine       & Null\\\\\n",
       "\t2 & 585506 & Amuri & 1581726 & 5275489 &  3452 & NA & 0 & NA & 0 & 0 & ... & NA & NA & 1 & 0 & Open & 0 & NA & NA & Fine       & Null\\\\\n",
       "\t3 & 585506 & Amuri & 1589119 & 5270593 &  5523 & NA & 0 &  0 & 0 & 0 & ... &  0 &  0 & 0 & 0 & Open & 1 &  0 &  0 & Fine       & Null\\\\\n",
       "\t4 & 585506 & Amuri & 1550535 & 5305477 & 14109 & NA & 0 &  0 & 0 & 1 & ... &  0 &  0 & 0 & 0 & Open & 0 &  0 &  0 & Light rain & Null\\\\\n",
       "\t5 & 585506 & Amuri & 1605633 & 5281957 & 17902 & NA & 0 &  0 & 0 & 1 & ... &  0 &  0 & 0 & 0 & Open & 0 &  0 &  0 & Fine       & Null\\\\\n",
       "\t6 & 585506 & Amuri & 1583273 & 5287666 & 18864 & NA & 0 & NA & 0 & 0 & ... & NA & NA & 0 & 0 & Open & 1 & NA & NA & Fine       & Null\\\\\n",
       "\\end{tabular}\n"
      ],
      "text/markdown": [
       "\n",
       "A data.frame: 6 × 73\n",
       "\n",
       "| <!--/--> | areaUnitID &lt;int&gt; | AU2017_NAME &lt;chr&gt; | X &lt;dbl&gt; | Y &lt;dbl&gt; | OBJECTID &lt;int&gt; | advisorySpeed &lt;int&gt; | bicycle &lt;int&gt; | bridge &lt;int&gt; | bus &lt;int&gt; | carStationWagon &lt;int&gt; | ... ... | train &lt;int&gt; | tree &lt;int&gt; | truck &lt;int&gt; | unknownVehicleType &lt;int&gt; | urban &lt;chr&gt; | vanOrUtility &lt;int&gt; | vehicle &lt;int&gt; | waterRiver &lt;int&gt; | weatherA &lt;chr&gt; | weatherB &lt;chr&gt; |\n",
       "|---|---|---|---|---|---|---|---|---|---|---|---|---|---|---|---|---|---|---|---|---|---|\n",
       "| 1 | 585506 | Amuri | 1596680 | 5263056 |  1160 | NA | 0 |  0 | 0 | 0 | ... |  0 |  0 | 0 | 0 | Open | 0 |  0 |  0 | Fine       | Null |\n",
       "| 2 | 585506 | Amuri | 1581726 | 5275489 |  3452 | NA | 0 | NA | 0 | 0 | ... | NA | NA | 1 | 0 | Open | 0 | NA | NA | Fine       | Null |\n",
       "| 3 | 585506 | Amuri | 1589119 | 5270593 |  5523 | NA | 0 |  0 | 0 | 0 | ... |  0 |  0 | 0 | 0 | Open | 1 |  0 |  0 | Fine       | Null |\n",
       "| 4 | 585506 | Amuri | 1550535 | 5305477 | 14109 | NA | 0 |  0 | 0 | 1 | ... |  0 |  0 | 0 | 0 | Open | 0 |  0 |  0 | Light rain | Null |\n",
       "| 5 | 585506 | Amuri | 1605633 | 5281957 | 17902 | NA | 0 |  0 | 0 | 1 | ... |  0 |  0 | 0 | 0 | Open | 0 |  0 |  0 | Fine       | Null |\n",
       "| 6 | 585506 | Amuri | 1583273 | 5287666 | 18864 | NA | 0 | NA | 0 | 0 | ... | NA | NA | 0 | 0 | Open | 1 | NA | NA | Fine       | Null |\n",
       "\n"
      ],
      "text/plain": [
       "  areaUnitID AU2017_NAME X       Y       OBJECTID advisorySpeed bicycle bridge\n",
       "1 585506     Amuri       1596680 5263056  1160    NA            0        0    \n",
       "2 585506     Amuri       1581726 5275489  3452    NA            0       NA    \n",
       "3 585506     Amuri       1589119 5270593  5523    NA            0        0    \n",
       "4 585506     Amuri       1550535 5305477 14109    NA            0        0    \n",
       "5 585506     Amuri       1605633 5281957 17902    NA            0        0    \n",
       "6 585506     Amuri       1583273 5287666 18864    NA            0       NA    \n",
       "  bus carStationWagon ... train tree truck unknownVehicleType urban\n",
       "1 0   0               ...  0     0   0     0                  Open \n",
       "2 0   0               ... NA    NA   1     0                  Open \n",
       "3 0   0               ...  0     0   0     0                  Open \n",
       "4 0   1               ...  0     0   0     0                  Open \n",
       "5 0   1               ...  0     0   0     0                  Open \n",
       "6 0   0               ... NA    NA   0     0                  Open \n",
       "  vanOrUtility vehicle waterRiver weatherA   weatherB\n",
       "1 0             0       0         Fine       Null    \n",
       "2 0            NA      NA         Fine       Null    \n",
       "3 1             0       0         Fine       Null    \n",
       "4 0             0       0         Light rain Null    \n",
       "5 0             0       0         Fine       Null    \n",
       "6 1            NA      NA         Fine       Null    "
      ]
     },
     "metadata": {},
     "output_type": "display_data"
    },
    {
     "data": {
      "text/html": [
       "<style>\n",
       ".list-inline {list-style: none; margin:0; padding: 0}\n",
       ".list-inline>li {display: inline-block}\n",
       ".list-inline>li:not(:last-child)::after {content: \"\\00b7\"; padding: 0 .5ex}\n",
       "</style>\n",
       "<ol class=list-inline><li>17130</li><li>73</li></ol>\n"
      ],
      "text/latex": [
       "\\begin{enumerate*}\n",
       "\\item 17130\n",
       "\\item 73\n",
       "\\end{enumerate*}\n"
      ],
      "text/markdown": [
       "1. 17130\n",
       "2. 73\n",
       "\n",
       "\n"
      ],
      "text/plain": [
       "[1] 17130    73"
      ]
     },
     "metadata": {},
     "output_type": "display_data"
    }
   ],
   "source": [
    "crash_area.df <- area_unit.df %>% right_join(crash.df, by = \"areaUnitID\") #Join the crashes and the area unit dataframes.\n",
    "head(crash_area.df)\n",
    "dim(crash_area.df)"
   ]
  },
  {
   "cell_type": "markdown",
   "id": "3a6a6638-12a7-459e-a416-ba5fec5f1944",
   "metadata": {},
   "source": [
    "All the NA values in the above dataframe were transformed into 0's using the is.na query. This was to make further analysis easier."
   ]
  },
  {
   "cell_type": "code",
   "execution_count": 9,
   "id": "53b87a36-0ca4-4ff6-a683-28a5c2122c39",
   "metadata": {},
   "outputs": [
    {
     "data": {
      "text/html": [
       "<table class=\"dataframe\">\n",
       "<caption>A data.frame: 6 × 73</caption>\n",
       "<thead>\n",
       "\t<tr><th></th><th scope=col>areaUnitID</th><th scope=col>AU2017_NAME</th><th scope=col>X</th><th scope=col>Y</th><th scope=col>OBJECTID</th><th scope=col>advisorySpeed</th><th scope=col>bicycle</th><th scope=col>bridge</th><th scope=col>bus</th><th scope=col>carStationWagon</th><th scope=col>...</th><th scope=col>train</th><th scope=col>tree</th><th scope=col>truck</th><th scope=col>unknownVehicleType</th><th scope=col>urban</th><th scope=col>vanOrUtility</th><th scope=col>vehicle</th><th scope=col>waterRiver</th><th scope=col>weatherA</th><th scope=col>weatherB</th></tr>\n",
       "\t<tr><th></th><th scope=col>&lt;int&gt;</th><th scope=col>&lt;chr&gt;</th><th scope=col>&lt;dbl&gt;</th><th scope=col>&lt;dbl&gt;</th><th scope=col>&lt;int&gt;</th><th scope=col>&lt;dbl&gt;</th><th scope=col>&lt;int&gt;</th><th scope=col>&lt;dbl&gt;</th><th scope=col>&lt;int&gt;</th><th scope=col>&lt;int&gt;</th><th scope=col>...</th><th scope=col>&lt;dbl&gt;</th><th scope=col>&lt;dbl&gt;</th><th scope=col>&lt;int&gt;</th><th scope=col>&lt;int&gt;</th><th scope=col>&lt;chr&gt;</th><th scope=col>&lt;int&gt;</th><th scope=col>&lt;dbl&gt;</th><th scope=col>&lt;dbl&gt;</th><th scope=col>&lt;chr&gt;</th><th scope=col>&lt;chr&gt;</th></tr>\n",
       "</thead>\n",
       "<tbody>\n",
       "\t<tr><th scope=row>1</th><td>585506</td><td>Amuri</td><td>1596680</td><td>5263056</td><td> 1160</td><td>0</td><td>0</td><td>0</td><td>0</td><td>0</td><td>...</td><td>0</td><td>0</td><td>0</td><td>0</td><td>Open</td><td>0</td><td>0</td><td>0</td><td>Fine      </td><td>Null</td></tr>\n",
       "\t<tr><th scope=row>2</th><td>585506</td><td>Amuri</td><td>1581726</td><td>5275489</td><td> 3452</td><td>0</td><td>0</td><td>0</td><td>0</td><td>0</td><td>...</td><td>0</td><td>0</td><td>1</td><td>0</td><td>Open</td><td>0</td><td>0</td><td>0</td><td>Fine      </td><td>Null</td></tr>\n",
       "\t<tr><th scope=row>3</th><td>585506</td><td>Amuri</td><td>1589119</td><td>5270593</td><td> 5523</td><td>0</td><td>0</td><td>0</td><td>0</td><td>0</td><td>...</td><td>0</td><td>0</td><td>0</td><td>0</td><td>Open</td><td>1</td><td>0</td><td>0</td><td>Fine      </td><td>Null</td></tr>\n",
       "\t<tr><th scope=row>4</th><td>585506</td><td>Amuri</td><td>1550535</td><td>5305477</td><td>14109</td><td>0</td><td>0</td><td>0</td><td>0</td><td>1</td><td>...</td><td>0</td><td>0</td><td>0</td><td>0</td><td>Open</td><td>0</td><td>0</td><td>0</td><td>Light rain</td><td>Null</td></tr>\n",
       "\t<tr><th scope=row>5</th><td>585506</td><td>Amuri</td><td>1605633</td><td>5281957</td><td>17902</td><td>0</td><td>0</td><td>0</td><td>0</td><td>1</td><td>...</td><td>0</td><td>0</td><td>0</td><td>0</td><td>Open</td><td>0</td><td>0</td><td>0</td><td>Fine      </td><td>Null</td></tr>\n",
       "\t<tr><th scope=row>6</th><td>585506</td><td>Amuri</td><td>1583273</td><td>5287666</td><td>18864</td><td>0</td><td>0</td><td>0</td><td>0</td><td>0</td><td>...</td><td>0</td><td>0</td><td>0</td><td>0</td><td>Open</td><td>1</td><td>0</td><td>0</td><td>Fine      </td><td>Null</td></tr>\n",
       "</tbody>\n",
       "</table>\n"
      ],
      "text/latex": [
       "A data.frame: 6 × 73\n",
       "\\begin{tabular}{r|lllllllllllllllllllll}\n",
       "  & areaUnitID & AU2017\\_NAME & X & Y & OBJECTID & advisorySpeed & bicycle & bridge & bus & carStationWagon & ... & train & tree & truck & unknownVehicleType & urban & vanOrUtility & vehicle & waterRiver & weatherA & weatherB\\\\\n",
       "  & <int> & <chr> & <dbl> & <dbl> & <int> & <dbl> & <int> & <dbl> & <int> & <int> & ... & <dbl> & <dbl> & <int> & <int> & <chr> & <int> & <dbl> & <dbl> & <chr> & <chr>\\\\\n",
       "\\hline\n",
       "\t1 & 585506 & Amuri & 1596680 & 5263056 &  1160 & 0 & 0 & 0 & 0 & 0 & ... & 0 & 0 & 0 & 0 & Open & 0 & 0 & 0 & Fine       & Null\\\\\n",
       "\t2 & 585506 & Amuri & 1581726 & 5275489 &  3452 & 0 & 0 & 0 & 0 & 0 & ... & 0 & 0 & 1 & 0 & Open & 0 & 0 & 0 & Fine       & Null\\\\\n",
       "\t3 & 585506 & Amuri & 1589119 & 5270593 &  5523 & 0 & 0 & 0 & 0 & 0 & ... & 0 & 0 & 0 & 0 & Open & 1 & 0 & 0 & Fine       & Null\\\\\n",
       "\t4 & 585506 & Amuri & 1550535 & 5305477 & 14109 & 0 & 0 & 0 & 0 & 1 & ... & 0 & 0 & 0 & 0 & Open & 0 & 0 & 0 & Light rain & Null\\\\\n",
       "\t5 & 585506 & Amuri & 1605633 & 5281957 & 17902 & 0 & 0 & 0 & 0 & 1 & ... & 0 & 0 & 0 & 0 & Open & 0 & 0 & 0 & Fine       & Null\\\\\n",
       "\t6 & 585506 & Amuri & 1583273 & 5287666 & 18864 & 0 & 0 & 0 & 0 & 0 & ... & 0 & 0 & 0 & 0 & Open & 1 & 0 & 0 & Fine       & Null\\\\\n",
       "\\end{tabular}\n"
      ],
      "text/markdown": [
       "\n",
       "A data.frame: 6 × 73\n",
       "\n",
       "| <!--/--> | areaUnitID &lt;int&gt; | AU2017_NAME &lt;chr&gt; | X &lt;dbl&gt; | Y &lt;dbl&gt; | OBJECTID &lt;int&gt; | advisorySpeed &lt;dbl&gt; | bicycle &lt;int&gt; | bridge &lt;dbl&gt; | bus &lt;int&gt; | carStationWagon &lt;int&gt; | ... ... | train &lt;dbl&gt; | tree &lt;dbl&gt; | truck &lt;int&gt; | unknownVehicleType &lt;int&gt; | urban &lt;chr&gt; | vanOrUtility &lt;int&gt; | vehicle &lt;dbl&gt; | waterRiver &lt;dbl&gt; | weatherA &lt;chr&gt; | weatherB &lt;chr&gt; |\n",
       "|---|---|---|---|---|---|---|---|---|---|---|---|---|---|---|---|---|---|---|---|---|---|\n",
       "| 1 | 585506 | Amuri | 1596680 | 5263056 |  1160 | 0 | 0 | 0 | 0 | 0 | ... | 0 | 0 | 0 | 0 | Open | 0 | 0 | 0 | Fine       | Null |\n",
       "| 2 | 585506 | Amuri | 1581726 | 5275489 |  3452 | 0 | 0 | 0 | 0 | 0 | ... | 0 | 0 | 1 | 0 | Open | 0 | 0 | 0 | Fine       | Null |\n",
       "| 3 | 585506 | Amuri | 1589119 | 5270593 |  5523 | 0 | 0 | 0 | 0 | 0 | ... | 0 | 0 | 0 | 0 | Open | 1 | 0 | 0 | Fine       | Null |\n",
       "| 4 | 585506 | Amuri | 1550535 | 5305477 | 14109 | 0 | 0 | 0 | 0 | 1 | ... | 0 | 0 | 0 | 0 | Open | 0 | 0 | 0 | Light rain | Null |\n",
       "| 5 | 585506 | Amuri | 1605633 | 5281957 | 17902 | 0 | 0 | 0 | 0 | 1 | ... | 0 | 0 | 0 | 0 | Open | 0 | 0 | 0 | Fine       | Null |\n",
       "| 6 | 585506 | Amuri | 1583273 | 5287666 | 18864 | 0 | 0 | 0 | 0 | 0 | ... | 0 | 0 | 0 | 0 | Open | 1 | 0 | 0 | Fine       | Null |\n",
       "\n"
      ],
      "text/plain": [
       "  areaUnitID AU2017_NAME X       Y       OBJECTID advisorySpeed bicycle bridge\n",
       "1 585506     Amuri       1596680 5263056  1160    0             0       0     \n",
       "2 585506     Amuri       1581726 5275489  3452    0             0       0     \n",
       "3 585506     Amuri       1589119 5270593  5523    0             0       0     \n",
       "4 585506     Amuri       1550535 5305477 14109    0             0       0     \n",
       "5 585506     Amuri       1605633 5281957 17902    0             0       0     \n",
       "6 585506     Amuri       1583273 5287666 18864    0             0       0     \n",
       "  bus carStationWagon ... train tree truck unknownVehicleType urban\n",
       "1 0   0               ... 0     0    0     0                  Open \n",
       "2 0   0               ... 0     0    1     0                  Open \n",
       "3 0   0               ... 0     0    0     0                  Open \n",
       "4 0   1               ... 0     0    0     0                  Open \n",
       "5 0   1               ... 0     0    0     0                  Open \n",
       "6 0   0               ... 0     0    0     0                  Open \n",
       "  vanOrUtility vehicle waterRiver weatherA   weatherB\n",
       "1 0            0       0          Fine       Null    \n",
       "2 0            0       0          Fine       Null    \n",
       "3 1            0       0          Fine       Null    \n",
       "4 0            0       0          Light rain Null    \n",
       "5 0            0       0          Fine       Null    \n",
       "6 1            0       0          Fine       Null    "
      ]
     },
     "metadata": {},
     "output_type": "display_data"
    }
   ],
   "source": [
    "crash_area.df[is.na(crash_area.df)] <- 0  # Set all NA values to 0\n",
    "head(crash_area.df)"
   ]
  },
  {
   "cell_type": "markdown",
   "id": "815d6c9c-b0f7-4e42-a44c-6f128e414f64",
   "metadata": {},
   "source": [
    "Then a dataframe was created that contained summaries of the important crash statistics for each area unit including the total number of crashes in each area unit. The summarise function was used to do this aggregation after the old table was grouped by area unit. The type.convert function was used to make all the columns have the appropriate type as beforehand the integer columns were a mixture of int and dbl types. This was used as the final crash data table."
   ]
  },
  {
   "cell_type": "code",
   "execution_count": 19,
   "id": "86376e65-a21f-4278-9a63-5be8dee30620",
   "metadata": {},
   "outputs": [
    {
     "data": {
      "text/html": [
       "<table class=\"dataframe\">\n",
       "<caption>A tibble: 6 × 9</caption>\n",
       "<thead>\n",
       "\t<tr><th scope=col>Area_unit</th><th scope=col>Total_crashes</th><th scope=col>Fatalities</th><th scope=col>Serious_injuries</th><th scope=col>Minor_injuries</th><th scope=col>Bicycles_involved</th><th scope=col>Motorbikes_involved</th><th scope=col>Pedestrians_involved</th><th scope=col>Median_speed_limit</th></tr>\n",
       "\t<tr><th scope=col>&lt;chr&gt;</th><th scope=col>&lt;int&gt;</th><th scope=col>&lt;int&gt;</th><th scope=col>&lt;int&gt;</th><th scope=col>&lt;int&gt;</th><th scope=col>&lt;int&gt;</th><th scope=col>&lt;int&gt;</th><th scope=col>&lt;int&gt;</th><th scope=col>&lt;int&gt;</th></tr>\n",
       "</thead>\n",
       "<tbody>\n",
       "\t<tr><td>Addington     </td><td>127</td><td>1</td><td> 9</td><td>27</td><td>16</td><td> 3</td><td>10</td><td> 50</td></tr>\n",
       "\t<tr><td>Aidanfield    </td><td> 41</td><td>1</td><td> 4</td><td> 5</td><td> 4</td><td> 1</td><td> 2</td><td> 50</td></tr>\n",
       "\t<tr><td>Akaroa        </td><td> 22</td><td>0</td><td> 2</td><td> 1</td><td> 0</td><td> 0</td><td> 1</td><td> 50</td></tr>\n",
       "\t<tr><td>Akaroa Harbour</td><td> 99</td><td>3</td><td>15</td><td>28</td><td> 0</td><td>18</td><td> 0</td><td>100</td></tr>\n",
       "\t<tr><td>Allenton East </td><td> 26</td><td>0</td><td> 1</td><td>10</td><td> 1</td><td> 0</td><td> 2</td><td> 50</td></tr>\n",
       "\t<tr><td>Allenton West </td><td> 21</td><td>0</td><td> 3</td><td>10</td><td> 4</td><td> 0</td><td> 1</td><td> 50</td></tr>\n",
       "</tbody>\n",
       "</table>\n"
      ],
      "text/latex": [
       "A tibble: 6 × 9\n",
       "\\begin{tabular}{lllllllll}\n",
       " Area\\_unit & Total\\_crashes & Fatalities & Serious\\_injuries & Minor\\_injuries & Bicycles\\_involved & Motorbikes\\_involved & Pedestrians\\_involved & Median\\_speed\\_limit\\\\\n",
       " <chr> & <int> & <int> & <int> & <int> & <int> & <int> & <int> & <int>\\\\\n",
       "\\hline\n",
       "\t Addington      & 127 & 1 &  9 & 27 & 16 &  3 & 10 &  50\\\\\n",
       "\t Aidanfield     &  41 & 1 &  4 &  5 &  4 &  1 &  2 &  50\\\\\n",
       "\t Akaroa         &  22 & 0 &  2 &  1 &  0 &  0 &  1 &  50\\\\\n",
       "\t Akaroa Harbour &  99 & 3 & 15 & 28 &  0 & 18 &  0 & 100\\\\\n",
       "\t Allenton East  &  26 & 0 &  1 & 10 &  1 &  0 &  2 &  50\\\\\n",
       "\t Allenton West  &  21 & 0 &  3 & 10 &  4 &  0 &  1 &  50\\\\\n",
       "\\end{tabular}\n"
      ],
      "text/markdown": [
       "\n",
       "A tibble: 6 × 9\n",
       "\n",
       "| Area_unit &lt;chr&gt; | Total_crashes &lt;int&gt; | Fatalities &lt;int&gt; | Serious_injuries &lt;int&gt; | Minor_injuries &lt;int&gt; | Bicycles_involved &lt;int&gt; | Motorbikes_involved &lt;int&gt; | Pedestrians_involved &lt;int&gt; | Median_speed_limit &lt;int&gt; |\n",
       "|---|---|---|---|---|---|---|---|---|\n",
       "| Addington      | 127 | 1 |  9 | 27 | 16 |  3 | 10 |  50 |\n",
       "| Aidanfield     |  41 | 1 |  4 |  5 |  4 |  1 |  2 |  50 |\n",
       "| Akaroa         |  22 | 0 |  2 |  1 |  0 |  0 |  1 |  50 |\n",
       "| Akaroa Harbour |  99 | 3 | 15 | 28 |  0 | 18 |  0 | 100 |\n",
       "| Allenton East  |  26 | 0 |  1 | 10 |  1 |  0 |  2 |  50 |\n",
       "| Allenton West  |  21 | 0 |  3 | 10 |  4 |  0 |  1 |  50 |\n",
       "\n"
      ],
      "text/plain": [
       "  Area_unit      Total_crashes Fatalities Serious_injuries Minor_injuries\n",
       "1 Addington      127           1           9               27            \n",
       "2 Aidanfield      41           1           4                5            \n",
       "3 Akaroa          22           0           2                1            \n",
       "4 Akaroa Harbour  99           3          15               28            \n",
       "5 Allenton East   26           0           1               10            \n",
       "6 Allenton West   21           0           3               10            \n",
       "  Bicycles_involved Motorbikes_involved Pedestrians_involved Median_speed_limit\n",
       "1 16                 3                  10                    50               \n",
       "2  4                 1                   2                    50               \n",
       "3  0                 0                   1                    50               \n",
       "4  0                18                   0                   100               \n",
       "5  1                 0                   2                    50               \n",
       "6  4                 0                   1                    50               "
      ]
     },
     "metadata": {},
     "output_type": "display_data"
    }
   ],
   "source": [
    "crash_summary.df <- crash_area.df %>% \n",
    "    add_column(counter = 1) %>%  # Add a counter column to let the total crashes in each area unit be easily found.\n",
    "    group_by(AU2017_NAME) %>%    # Group by area unit\n",
    "        summarise(Total_crashes = sum(counter), Fatalities = sum(fatalCount), Serious_injuries = sum(seriousInjuryCount), Minor_injuries = sum(minorInjuryCount),  # create columns that  contain interesting infomation.\n",
    "                  Bicycles_involved = sum(bicycle), Motorbikes_involved = sum(moped) + sum(motorcycle), Pedestrians_involved = sum(pedestrian), Median_speed_limit = median(speedLimit))\n",
    "crash_summary.df <- crash_summary.df %>% rename(Area_unit = AU2017_NAME) # Rename the area unit column to be more explicit.\n",
    "crash_summary.df <- type.convert(crash_summary.df, as.is = TRUE) # Convert the columns to their appropriate type.\n",
    "head(crash_summary.df)"
   ]
  },
  {
   "cell_type": "code",
   "execution_count": 13,
   "id": "4fd52c22-b7fa-4415-9065-8644fc03f9f1",
   "metadata": {},
   "outputs": [],
   "source": [
    "write_csv(crash_summary.df, \"/home/mathuser/R/x86_64-pc-linux-gnu-library/crash_final_final.csv\")"
   ]
  },
  {
   "cell_type": "markdown",
   "id": "3c59a1c3-24a9-4c21-b4d0-00b2513012de",
   "metadata": {},
   "source": [
    "A dataframe containing only the data going in the main table, i.e. the total number of crashes was also formed."
   ]
  },
  {
   "cell_type": "code",
   "execution_count": null,
   "id": "53ad80dd-f8b4-4d00-a2fe-bd145923e2cf",
   "metadata": {
    "tags": []
   },
   "outputs": [],
   "source": [
    "crash_total.df <- crash_area.df %>% \n",
    "    add_column(counter = 1) %>%\n",
    "    group_by(AU2017_NAME) %>% \n",
    "        summarise(Total_Crashes = sum(counter))  # count the number of crashes in each area unit."
   ]
  },
  {
   "cell_type": "code",
   "execution_count": null,
   "id": "5b0a13c2-a388-4c5d-995c-9ca8b15793cd",
   "metadata": {},
   "outputs": [],
   "source": [
    "write_csv(crash_total.df, \"/home/mathuser/R/x86_64-pc-linux-gnu-library/crash_final.csv\")"
   ]
  },
  {
   "cell_type": "code",
   "execution_count": null,
   "id": "f4b7b3bc-738e-4174-a299-2183a36fcc95",
   "metadata": {},
   "outputs": [],
   "source": [
    "areaXY <- crash_area.df %>% group_by(AU2017_NAME) %>%\n",
    "    summarise(meanX = mean(X), meanY = mean(Y))"
   ]
  },
  {
   "cell_type": "code",
   "execution_count": null,
   "id": "23b423f5-f233-400b-a8a5-a10284f42a30",
   "metadata": {},
   "outputs": [],
   "source": [
    "write_csv(areaXY, \"/home/mathuser/R/x86_64-pc-linux-gnu-library/areaXY.csv\")"
   ]
  },
  {
   "cell_type": "code",
   "execution_count": null,
   "id": "687a3604-31d1-4296-82ce-edccfc9494bd",
   "metadata": {},
   "outputs": [],
   "source": []
  }
 ],
 "metadata": {
  "kernelspec": {
   "display_name": "R",
   "language": "R",
   "name": "ir"
  },
  "language_info": {
   "codemirror_mode": "r",
   "file_extension": ".r",
   "mimetype": "text/x-r-source",
   "name": "R",
   "pygments_lexer": "r",
   "version": "4.1.0"
  }
 },
 "nbformat": 4,
 "nbformat_minor": 5
}
