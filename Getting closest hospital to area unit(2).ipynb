{
 "cells": [
  {
   "cell_type": "markdown",
   "id": "729eec37",
   "metadata": {},
   "source": [
    "# Code to get the hospital closest to the centre of an area unit, and area unit of hospital\n",
    "\n",
    "We have a hospital dataframe, but don't know the area unit of the hospital. In this notebook we will take the hospital dataframe and the area unit dataframes and use the lat and long coordinates that each have to calculate the nearest hospital to certain unit area"
   ]
  },
  {
   "cell_type": "code",
   "execution_count": 2,
   "id": "ec9dce98",
   "metadata": {},
   "outputs": [],
   "source": [
    "# Installing  and attaching packages\n",
    "using Pkg \n",
    "#Pkg.add(\"DataFrames\")\n",
    "#Pkg.add(\"CSV\")\n",
    "\n",
    "using CSV, DataFrames"
   ]
  },
  {
   "cell_type": "markdown",
   "id": "02bc5bc5",
   "metadata": {},
   "source": [
    "First we need to load the datasets"
   ]
  },
  {
   "cell_type": "code",
   "execution_count": 3,
   "id": "06f6f446",
   "metadata": {},
   "outputs": [
    {
     "data": {
      "text/html": [
       "<div class=\"data-frame\"><p>21 rows × 11 columns (omitted printing of 8 columns)</p><table class=\"data-frame\"><thead><tr><th></th><th>Premises.Name</th><th>Certification.Service.Type</th><th>Service.Types</th></tr><tr><th></th><th title=\"String\">String</th><th title=\"String\">String</th><th title=\"String\">String</th></tr></thead><tbody><tr><th>1</th><td>Ashburton Hospital</td><td>Public Hospital</td><td>Medical, Maternity</td></tr><tr><th>2</th><td>Burwood Hospital</td><td>Public Hospital</td><td>Surgical, Geriatric, Psychogeriatric, Medical</td></tr><tr><th>3</th><td>Chatham Island Health Centre</td><td>Public Hospital</td><td>Medical</td></tr><tr><th>4</th><td>Christchurch Hospital</td><td>Public Hospital</td><td>Childrens health, Medical, Surgical, Maternity</td></tr><tr><th>5</th><td>Darfield Hospital</td><td>Public Hospital</td><td>Medical, Geriatric</td></tr><tr><th>6</th><td>Ellesmere Hospital</td><td>Public Hospital</td><td>Medical, Geriatric</td></tr><tr><th>7</th><td>Hillmorton Hospital</td><td>Public Hospital</td><td>Mental health</td></tr><tr><th>8</th><td>Kaikoura Hospital</td><td>Public Hospital</td><td>Medical, Maternity, Geriatric</td></tr><tr><th>9</th><td>Lincoln Maternity Hospital</td><td>Public Hospital</td><td>Maternity</td></tr><tr><th>10</th><td>Oxford Hospital</td><td>Public Hospital</td><td>Medical, Geriatric</td></tr><tr><th>11</th><td>Rangiora Hospital</td><td>Public Hospital</td><td>Medical, Maternity</td></tr><tr><th>12</th><td>The Princess Margaret Hospital</td><td>Public Hospital</td><td>Mental health</td></tr><tr><th>13</th><td>Tuarangi Home</td><td>Public Hospital</td><td>Geriatric, Dementia care, Medical</td></tr><tr><th>14</th><td>Waikari Hospital</td><td>Public Hospital</td><td>Medical, Geriatric</td></tr><tr><th>15</th><td>Timaru Hospital</td><td>Public Hospital</td><td>Childrens health, Maternity, Surgical, Medical, Mental health</td></tr><tr><th>16</th><td>Bidwill Trust Hospital</td><td>NGO Hospital</td><td>Surgical</td></tr><tr><th>17</th><td>Forte Health Hospital</td><td>NGO Hospital</td><td>Surgical</td></tr><tr><th>18</th><td>Nurse Maude Hospice</td><td>NGO Hospital</td><td>Medical</td></tr><tr><th>19</th><td>Hospice South Canterbury</td><td>NGO Hospital</td><td>Medical</td></tr><tr><th>20</th><td>Southern Cross Hospital Christchurch</td><td>NGO Hospital</td><td>Medical, Surgical</td></tr><tr><th>21</th><td>St George&apos;s Hospital</td><td>NGO Hospital</td><td>Maternity, Surgical</td></tr></tbody></table></div>"
      ],
      "text/latex": [
       "\\begin{tabular}{r|cccc}\n",
       "\t& Premises.Name & Certification.Service.Type & Service.Types & \\\\\n",
       "\t\\hline\n",
       "\t& String & String & String & \\\\\n",
       "\t\\hline\n",
       "\t1 & Ashburton Hospital & Public Hospital & Medical, Maternity & $\\dots$ \\\\\n",
       "\t2 & Burwood Hospital & Public Hospital & Surgical, Geriatric, Psychogeriatric, Medical & $\\dots$ \\\\\n",
       "\t3 & Chatham Island Health Centre & Public Hospital & Medical & $\\dots$ \\\\\n",
       "\t4 & Christchurch Hospital & Public Hospital & Childrens health, Medical, Surgical, Maternity & $\\dots$ \\\\\n",
       "\t5 & Darfield Hospital & Public Hospital & Medical, Geriatric & $\\dots$ \\\\\n",
       "\t6 & Ellesmere Hospital & Public Hospital & Medical, Geriatric & $\\dots$ \\\\\n",
       "\t7 & Hillmorton Hospital & Public Hospital & Mental health & $\\dots$ \\\\\n",
       "\t8 & Kaikoura Hospital & Public Hospital & Medical, Maternity, Geriatric & $\\dots$ \\\\\n",
       "\t9 & Lincoln Maternity Hospital & Public Hospital & Maternity & $\\dots$ \\\\\n",
       "\t10 & Oxford Hospital & Public Hospital & Medical, Geriatric & $\\dots$ \\\\\n",
       "\t11 & Rangiora Hospital & Public Hospital & Medical, Maternity & $\\dots$ \\\\\n",
       "\t12 & The Princess Margaret Hospital & Public Hospital & Mental health & $\\dots$ \\\\\n",
       "\t13 & Tuarangi Home & Public Hospital & Geriatric, Dementia care, Medical & $\\dots$ \\\\\n",
       "\t14 & Waikari Hospital & Public Hospital & Medical, Geriatric & $\\dots$ \\\\\n",
       "\t15 & Timaru Hospital & Public Hospital & Childrens health, Maternity, Surgical, Medical, Mental health & $\\dots$ \\\\\n",
       "\t16 & Bidwill Trust Hospital & NGO Hospital & Surgical & $\\dots$ \\\\\n",
       "\t17 & Forte Health Hospital & NGO Hospital & Surgical & $\\dots$ \\\\\n",
       "\t18 & Nurse Maude Hospice & NGO Hospital & Medical & $\\dots$ \\\\\n",
       "\t19 & Hospice South Canterbury & NGO Hospital & Medical & $\\dots$ \\\\\n",
       "\t20 & Southern Cross Hospital Christchurch & NGO Hospital & Medical, Surgical & $\\dots$ \\\\\n",
       "\t21 & St George's Hospital & NGO Hospital & Maternity, Surgical & $\\dots$ \\\\\n",
       "\\end{tabular}\n"
      ],
      "text/plain": [
       "\u001b[1m21×11 DataFrame\u001b[0m\n",
       "\u001b[1m Row \u001b[0m│\u001b[1m Premises.Name                     \u001b[0m\u001b[1m Certification.Service.Type \u001b[0m\u001b[1m Service.\u001b[0m ⋯\n",
       "\u001b[1m     \u001b[0m│\u001b[90m String                            \u001b[0m\u001b[90m String                     \u001b[0m\u001b[90m String  \u001b[0m ⋯\n",
       "─────┼──────────────────────────────────────────────────────────────────────────\n",
       "   1 │ Ashburton Hospital                 Public Hospital             Medical, ⋯\n",
       "   2 │ Burwood Hospital                   Public Hospital             Surgical\n",
       "   3 │ Chatham Island Health Centre       Public Hospital             Medical\n",
       "   4 │ Christchurch Hospital              Public Hospital             Children\n",
       "   5 │ Darfield Hospital                  Public Hospital             Medical, ⋯\n",
       "   6 │ Ellesmere Hospital                 Public Hospital             Medical,\n",
       "   7 │ Hillmorton Hospital                Public Hospital             Mental h\n",
       "   8 │ Kaikoura Hospital                  Public Hospital             Medical,\n",
       "   9 │ Lincoln Maternity Hospital         Public Hospital             Maternit ⋯\n",
       "  10 │ Oxford Hospital                    Public Hospital             Medical,\n",
       "  11 │ Rangiora Hospital                  Public Hospital             Medical,\n",
       "  12 │ The Princess Margaret Hospital     Public Hospital             Mental h\n",
       "  13 │ Tuarangi Home                      Public Hospital             Geriatri ⋯\n",
       "  14 │ Waikari Hospital                   Public Hospital             Medical,\n",
       "  15 │ Timaru Hospital                    Public Hospital             Children\n",
       "  16 │ Bidwill Trust Hospital             NGO Hospital                Surgical\n",
       "  17 │ Forte Health Hospital              NGO Hospital                Surgical ⋯\n",
       "  18 │ Nurse Maude Hospice                NGO Hospital                Medical\n",
       "  19 │ Hospice South Canterbury           NGO Hospital                Medical\n",
       "  20 │ Southern Cross Hospital Christch…  NGO Hospital                Medical,\n",
       "  21 │ St George's Hospital               NGO Hospital                Maternit ⋯\n",
       "\u001b[36m                                                               9 columns omitted\u001b[0m"
      ]
     },
     "execution_count": 3,
     "metadata": {},
     "output_type": "execute_result"
    }
   ],
   "source": [
    "area_units = CSV.read(\"areaXY.csv\", DataFrame)\n",
    "hospitals = CSV.read(\"CanterburyHospitalsLocations.df.csv\", DataFrame)\n"
   ]
  },
  {
   "cell_type": "markdown",
   "id": "89e549b4",
   "metadata": {},
   "source": [
    "Note that area units has latitude and longitude switched around the wrong way, so we clean up this table."
   ]
  },
  {
   "cell_type": "code",
   "execution_count": 17,
   "id": "98e2d93e",
   "metadata": {},
   "outputs": [
    {
     "data": {
      "text/html": [
       "<div class=\"data-frame\"><p>245 rows × 3 columns</p><table class=\"data-frame\"><thead><tr><th></th><th>AU2017_NAME</th><th>Latitude</th><th>Longitude</th></tr><tr><th></th><th title=\"String\">String</th><th title=\"Float64\">Float64</th><th title=\"Float64\">Float64</th></tr></thead><tbody><tr><th>1</th><td>Addington</td><td>-43.5435</td><td>172.62</td></tr><tr><th>2</th><td>Aidanfield</td><td>-43.5644</td><td>172.569</td></tr><tr><th>3</th><td>Akaroa</td><td>-43.8067</td><td>172.966</td></tr><tr><th>4</th><td>Akaroa Harbour</td><td>-43.7716</td><td>172.939</td></tr><tr><th>5</th><td>Allenton East</td><td>-43.8922</td><td>171.753</td></tr><tr><th>6</th><td>Allenton West</td><td>-43.8905</td><td>171.742</td></tr><tr><th>7</th><td>Amberley</td><td>-43.1558</td><td>172.73</td></tr><tr><th>8</th><td>Amuri</td><td>-42.5893</td><td>172.72</td></tr><tr><th>9</th><td>Aorangi</td><td>-43.4993</td><td>172.595</td></tr><tr><th>10</th><td>Aranui</td><td>-43.5107</td><td>172.703</td></tr><tr><th>11</th><td>Ashburton Central East</td><td>-43.9055</td><td>171.75</td></tr><tr><th>12</th><td>Ashburton Central West</td><td>-43.9016</td><td>171.748</td></tr><tr><th>13</th><td>Ashburton East</td><td>-43.9141</td><td>171.771</td></tr><tr><th>14</th><td>Ashburton North</td><td>-43.8786</td><td>171.769</td></tr><tr><th>15</th><td>Ashley</td><td>-43.2585</td><td>172.62</td></tr><tr><th>16</th><td>Ashley Gorge</td><td>-43.3034</td><td>172.192</td></tr><tr><th>17</th><td>Aviemore</td><td>-44.58</td><td>170.072</td></tr><tr><th>18</th><td>Avon Loop</td><td>-43.5256</td><td>172.643</td></tr><tr><th>19</th><td>Avondale</td><td>-43.5081</td><td>172.693</td></tr><tr><th>20</th><td>Avonhead</td><td>-43.5214</td><td>172.559</td></tr><tr><th>21</th><td>Avonhead West</td><td>-43.5206</td><td>172.54</td></tr><tr><th>22</th><td>Avonside</td><td>-43.5233</td><td>172.672</td></tr><tr><th>23</th><td>Banks Peninsula Eastern Bays</td><td>-43.7333</td><td>172.969</td></tr><tr><th>24</th><td>Barrington North</td><td>-43.554</td><td>172.61</td></tr><tr><th>25</th><td>Barrington South</td><td>-43.5644</td><td>172.619</td></tr><tr><th>26</th><td>Beckenham</td><td>-43.5598</td><td>172.642</td></tr><tr><th>27</th><td>Belfast</td><td>-43.4517</td><td>172.629</td></tr><tr><th>28</th><td>Belfast South</td><td>-43.4604</td><td>172.62</td></tr><tr><th>29</th><td>Ben Mcleod</td><td>-43.8575</td><td>171.258</td></tr><tr><th>30</th><td>Bexley</td><td>-43.5167</td><td>172.71</td></tr><tr><th>&vellip;</th><td>&vellip;</td><td>&vellip;</td><td>&vellip;</td></tr></tbody></table></div>"
      ],
      "text/latex": [
       "\\begin{tabular}{r|ccc}\n",
       "\t& AU2017\\_NAME & Latitude & Longitude\\\\\n",
       "\t\\hline\n",
       "\t& String & Float64 & Float64\\\\\n",
       "\t\\hline\n",
       "\t1 & Addington & -43.5435 & 172.62 \\\\\n",
       "\t2 & Aidanfield & -43.5644 & 172.569 \\\\\n",
       "\t3 & Akaroa & -43.8067 & 172.966 \\\\\n",
       "\t4 & Akaroa Harbour & -43.7716 & 172.939 \\\\\n",
       "\t5 & Allenton East & -43.8922 & 171.753 \\\\\n",
       "\t6 & Allenton West & -43.8905 & 171.742 \\\\\n",
       "\t7 & Amberley & -43.1558 & 172.73 \\\\\n",
       "\t8 & Amuri & -42.5893 & 172.72 \\\\\n",
       "\t9 & Aorangi & -43.4993 & 172.595 \\\\\n",
       "\t10 & Aranui & -43.5107 & 172.703 \\\\\n",
       "\t11 & Ashburton Central East & -43.9055 & 171.75 \\\\\n",
       "\t12 & Ashburton Central West & -43.9016 & 171.748 \\\\\n",
       "\t13 & Ashburton East & -43.9141 & 171.771 \\\\\n",
       "\t14 & Ashburton North & -43.8786 & 171.769 \\\\\n",
       "\t15 & Ashley & -43.2585 & 172.62 \\\\\n",
       "\t16 & Ashley Gorge & -43.3034 & 172.192 \\\\\n",
       "\t17 & Aviemore & -44.58 & 170.072 \\\\\n",
       "\t18 & Avon Loop & -43.5256 & 172.643 \\\\\n",
       "\t19 & Avondale & -43.5081 & 172.693 \\\\\n",
       "\t20 & Avonhead & -43.5214 & 172.559 \\\\\n",
       "\t21 & Avonhead West & -43.5206 & 172.54 \\\\\n",
       "\t22 & Avonside & -43.5233 & 172.672 \\\\\n",
       "\t23 & Banks Peninsula Eastern Bays & -43.7333 & 172.969 \\\\\n",
       "\t24 & Barrington North & -43.554 & 172.61 \\\\\n",
       "\t25 & Barrington South & -43.5644 & 172.619 \\\\\n",
       "\t26 & Beckenham & -43.5598 & 172.642 \\\\\n",
       "\t27 & Belfast & -43.4517 & 172.629 \\\\\n",
       "\t28 & Belfast South & -43.4604 & 172.62 \\\\\n",
       "\t29 & Ben Mcleod & -43.8575 & 171.258 \\\\\n",
       "\t30 & Bexley & -43.5167 & 172.71 \\\\\n",
       "\t$\\dots$ & $\\dots$ & $\\dots$ & $\\dots$ \\\\\n",
       "\\end{tabular}\n"
      ],
      "text/plain": [
       "\u001b[1m245×3 DataFrame\u001b[0m\n",
       "\u001b[1m Row \u001b[0m│\u001b[1m AU2017_NAME            \u001b[0m\u001b[1m Latitude \u001b[0m\u001b[1m Longitude \u001b[0m\n",
       "\u001b[1m     \u001b[0m│\u001b[90m String                 \u001b[0m\u001b[90m Float64  \u001b[0m\u001b[90m Float64   \u001b[0m\n",
       "─────┼─────────────────────────────────────────────\n",
       "   1 │ Addington               -43.5435    172.62\n",
       "   2 │ Aidanfield              -43.5644    172.569\n",
       "   3 │ Akaroa                  -43.8067    172.966\n",
       "   4 │ Akaroa Harbour          -43.7716    172.939\n",
       "   5 │ Allenton East           -43.8922    171.753\n",
       "   6 │ Allenton West           -43.8905    171.742\n",
       "   7 │ Amberley                -43.1558    172.73\n",
       "   8 │ Amuri                   -42.5893    172.72\n",
       "   9 │ Aorangi                 -43.4993    172.595\n",
       "  10 │ Aranui                  -43.5107    172.703\n",
       "  11 │ Ashburton Central East  -43.9055    171.75\n",
       "  ⋮  │           ⋮                ⋮          ⋮\n",
       " 236 │ Westmorland             -43.5805    172.603\n",
       " 237 │ Wharenui                -43.5339    172.58\n",
       " 238 │ Wigram                  -43.5495    172.557\n",
       " 239 │ Winchester              -44.1882    171.278\n",
       " 240 │ Woodend                 -43.3214    172.665\n",
       " 241 │ Woodend Beach           -43.3402    172.67\n",
       " 242 │ Woodend West            -43.3233    172.661\n",
       " 243 │ Woolston South          -43.5539    172.68\n",
       " 244 │ Woolston West           -43.541     172.673\n",
       " 245 │ Yaldhurst               -43.4982    172.535\n",
       "\u001b[36m                                   224 rows omitted\u001b[0m"
      ]
     },
     "execution_count": 17,
     "metadata": {},
     "output_type": "execute_result"
    }
   ],
   "source": [
    "# Fixing column names of area units table\n",
    "area_units = select(area_units, \"AU2017_NAME\", \"Longitude\" => \"Latitude\", \"Latitude\" => \"Longitude\")"
   ]
  },
  {
   "cell_type": "code",
   "execution_count": 28,
   "id": "9fced51c",
   "metadata": {},
   "outputs": [
    {
     "data": {
      "text/html": [
       "<div class=\"data-frame\"><p>14 rows × 7 columns (omitted printing of 4 columns)</p><table class=\"data-frame\"><thead><tr><th></th><th>variable</th><th>mean</th><th>min</th></tr><tr><th></th><th title=\"Symbol\">Symbol</th><th title=\"Union{Nothing, Float64}\">Union…</th><th title=\"Any\">Any</th></tr></thead><tbody><tr><th>1</th><td>Premises.Name</td><td></td><td>Ashburton Hospital</td></tr><tr><th>2</th><td>Certification.Service.Type</td><td></td><td>NGO Hospital</td></tr><tr><th>3</th><td>Service.Types</td><td></td><td>Childrens health, Maternity, Surgical, Medical, Mental health</td></tr><tr><th>4</th><td>Total.Beds</td><td>87.0476</td><td>3</td></tr><tr><th>5</th><td>Premises.Address</td><td></td><td>1 Lincoln Road</td></tr><tr><th>6</th><td>Premises.Address.Suburb.Road</td><td></td><td>Allenton</td></tr><tr><th>7</th><td>Premises.Address.Town.City</td><td></td><td>Ashburton</td></tr><tr><th>8</th><td>Premises.Address.Post.Code</td><td>7792.24</td><td>7300</td></tr><tr><th>9</th><td>DHB.Name</td><td></td><td>Canterbury District Health Board</td></tr><tr><th>10</th><td>Latitude</td><td>-43.6188</td><td>-44.4082</td></tr><tr><th>11</th><td>Longitude</td><td>155.703</td><td>-176.559</td></tr><tr><th>12</th><td>AU2017_NAME</td><td></td><td>Addington</td></tr><tr><th>13</th><td>Latitude_1</td><td>-43.6108</td><td>-44.8535</td></tr><tr><th>14</th><td>Longitude_1</td><td>172.329</td><td>169.969</td></tr></tbody></table></div>"
      ],
      "text/latex": [
       "\\begin{tabular}{r|cccc}\n",
       "\t& variable & mean & min & \\\\\n",
       "\t\\hline\n",
       "\t& Symbol & Union… & Any & \\\\\n",
       "\t\\hline\n",
       "\t1 & Premises.Name &  & Ashburton Hospital & $\\dots$ \\\\\n",
       "\t2 & Certification.Service.Type &  & NGO Hospital & $\\dots$ \\\\\n",
       "\t3 & Service.Types &  & Childrens health, Maternity, Surgical, Medical, Mental health & $\\dots$ \\\\\n",
       "\t4 & Total.Beds & 87.0476 & 3 & $\\dots$ \\\\\n",
       "\t5 & Premises.Address &  & 1 Lincoln Road & $\\dots$ \\\\\n",
       "\t6 & Premises.Address.Suburb.Road &  & Allenton & $\\dots$ \\\\\n",
       "\t7 & Premises.Address.Town.City &  & Ashburton & $\\dots$ \\\\\n",
       "\t8 & Premises.Address.Post.Code & 7792.24 & 7300 & $\\dots$ \\\\\n",
       "\t9 & DHB.Name &  & Canterbury District Health Board & $\\dots$ \\\\\n",
       "\t10 & Latitude & -43.6188 & -44.4082 & $\\dots$ \\\\\n",
       "\t11 & Longitude & 155.703 & -176.559 & $\\dots$ \\\\\n",
       "\t12 & AU2017\\_NAME &  & Addington & $\\dots$ \\\\\n",
       "\t13 & Latitude\\_1 & -43.6108 & -44.8535 & $\\dots$ \\\\\n",
       "\t14 & Longitude\\_1 & 172.329 & 169.969 & $\\dots$ \\\\\n",
       "\\end{tabular}\n"
      ],
      "text/plain": [
       "\u001b[1m14×7 DataFrame\u001b[0m\n",
       "\u001b[1m Row \u001b[0m│\u001b[1m variable                     \u001b[0m\u001b[1m mean     \u001b[0m\u001b[1m min                            \u001b[0m ⋯\n",
       "\u001b[1m     \u001b[0m│\u001b[90m Symbol                       \u001b[0m\u001b[90m Union…   \u001b[0m\u001b[90m Any                            \u001b[0m ⋯\n",
       "─────┼──────────────────────────────────────────────────────────────────────────\n",
       "   1 │ Premises.Name                \u001b[90m          \u001b[0m Ashburton Hospital              ⋯\n",
       "   2 │ Certification.Service.Type   \u001b[90m          \u001b[0m NGO Hospital\n",
       "   3 │ Service.Types                \u001b[90m          \u001b[0m Childrens health, Maternity, Su\n",
       "   4 │ Total.Beds                    87.0476   3\n",
       "   5 │ Premises.Address             \u001b[90m          \u001b[0m 1 Lincoln Road                  ⋯\n",
       "   6 │ Premises.Address.Suburb.Road \u001b[90m          \u001b[0m Allenton\n",
       "   7 │ Premises.Address.Town.City   \u001b[90m          \u001b[0m Ashburton\n",
       "   8 │ Premises.Address.Post.Code    7792.24   7300\n",
       "   9 │ DHB.Name                     \u001b[90m          \u001b[0m Canterbury District Health Boar ⋯\n",
       "  10 │ Latitude                      -43.6188  -44.4082\n",
       "  11 │ Longitude                     155.703   -176.559\n",
       "  12 │ AU2017_NAME                  \u001b[90m          \u001b[0m Addington\n",
       "  13 │ Latitude_1                    -43.6108  -44.8535                        ⋯\n",
       "  14 │ Longitude_1                   172.329   169.969\n",
       "\u001b[36m                                                               5 columns omitted\u001b[0m"
      ]
     },
     "execution_count": 28,
     "metadata": {},
     "output_type": "execute_result"
    }
   ],
   "source": [
    "# Crossjoin hospitals and area units to get one large df with each area unit matched with each hospital\n",
    "cross_df = crossjoin(hospitals, area_units, makeunique = true)\n",
    "describe(cross_df)"
   ]
  },
  {
   "cell_type": "code",
   "execution_count": 29,
   "id": "6b316872",
   "metadata": {},
   "outputs": [
    {
     "data": {
      "text/html": [
       "<div class=\"data-frame\"><p>5,145 rows × 14 columns (omitted printing of 10 columns)</p><table class=\"data-frame\"><thead><tr><th></th><th>Hospital_Name</th><th>Certification_Service_Type</th><th>Service_Types</th><th>Total_Beds</th></tr><tr><th></th><th title=\"String\">String</th><th title=\"String\">String</th><th title=\"String\">String</th><th title=\"Int64\">Int64</th></tr></thead><tbody><tr><th>1</th><td>Ashburton Hospital</td><td>Public Hospital</td><td>Medical, Maternity</td><td>56</td></tr><tr><th>2</th><td>Ashburton Hospital</td><td>Public Hospital</td><td>Medical, Maternity</td><td>56</td></tr><tr><th>3</th><td>Ashburton Hospital</td><td>Public Hospital</td><td>Medical, Maternity</td><td>56</td></tr><tr><th>4</th><td>Ashburton Hospital</td><td>Public Hospital</td><td>Medical, Maternity</td><td>56</td></tr><tr><th>5</th><td>Ashburton Hospital</td><td>Public Hospital</td><td>Medical, Maternity</td><td>56</td></tr><tr><th>6</th><td>Ashburton Hospital</td><td>Public Hospital</td><td>Medical, Maternity</td><td>56</td></tr><tr><th>7</th><td>Ashburton Hospital</td><td>Public Hospital</td><td>Medical, Maternity</td><td>56</td></tr><tr><th>8</th><td>Ashburton Hospital</td><td>Public Hospital</td><td>Medical, Maternity</td><td>56</td></tr><tr><th>9</th><td>Ashburton Hospital</td><td>Public Hospital</td><td>Medical, Maternity</td><td>56</td></tr><tr><th>10</th><td>Ashburton Hospital</td><td>Public Hospital</td><td>Medical, Maternity</td><td>56</td></tr><tr><th>11</th><td>Ashburton Hospital</td><td>Public Hospital</td><td>Medical, Maternity</td><td>56</td></tr><tr><th>12</th><td>Ashburton Hospital</td><td>Public Hospital</td><td>Medical, Maternity</td><td>56</td></tr><tr><th>13</th><td>Ashburton Hospital</td><td>Public Hospital</td><td>Medical, Maternity</td><td>56</td></tr><tr><th>14</th><td>Ashburton Hospital</td><td>Public Hospital</td><td>Medical, Maternity</td><td>56</td></tr><tr><th>15</th><td>Ashburton Hospital</td><td>Public Hospital</td><td>Medical, Maternity</td><td>56</td></tr><tr><th>16</th><td>Ashburton Hospital</td><td>Public Hospital</td><td>Medical, Maternity</td><td>56</td></tr><tr><th>17</th><td>Ashburton Hospital</td><td>Public Hospital</td><td>Medical, Maternity</td><td>56</td></tr><tr><th>18</th><td>Ashburton Hospital</td><td>Public Hospital</td><td>Medical, Maternity</td><td>56</td></tr><tr><th>19</th><td>Ashburton Hospital</td><td>Public Hospital</td><td>Medical, Maternity</td><td>56</td></tr><tr><th>20</th><td>Ashburton Hospital</td><td>Public Hospital</td><td>Medical, Maternity</td><td>56</td></tr><tr><th>21</th><td>Ashburton Hospital</td><td>Public Hospital</td><td>Medical, Maternity</td><td>56</td></tr><tr><th>22</th><td>Ashburton Hospital</td><td>Public Hospital</td><td>Medical, Maternity</td><td>56</td></tr><tr><th>23</th><td>Ashburton Hospital</td><td>Public Hospital</td><td>Medical, Maternity</td><td>56</td></tr><tr><th>24</th><td>Ashburton Hospital</td><td>Public Hospital</td><td>Medical, Maternity</td><td>56</td></tr><tr><th>25</th><td>Ashburton Hospital</td><td>Public Hospital</td><td>Medical, Maternity</td><td>56</td></tr><tr><th>26</th><td>Ashburton Hospital</td><td>Public Hospital</td><td>Medical, Maternity</td><td>56</td></tr><tr><th>27</th><td>Ashburton Hospital</td><td>Public Hospital</td><td>Medical, Maternity</td><td>56</td></tr><tr><th>28</th><td>Ashburton Hospital</td><td>Public Hospital</td><td>Medical, Maternity</td><td>56</td></tr><tr><th>29</th><td>Ashburton Hospital</td><td>Public Hospital</td><td>Medical, Maternity</td><td>56</td></tr><tr><th>30</th><td>Ashburton Hospital</td><td>Public Hospital</td><td>Medical, Maternity</td><td>56</td></tr><tr><th>&vellip;</th><td>&vellip;</td><td>&vellip;</td><td>&vellip;</td><td>&vellip;</td></tr></tbody></table></div>"
      ],
      "text/latex": [
       "\\begin{tabular}{r|ccccc}\n",
       "\t& Hospital\\_Name & Certification\\_Service\\_Type & Service\\_Types & Total\\_Beds & \\\\\n",
       "\t\\hline\n",
       "\t& String & String & String & Int64 & \\\\\n",
       "\t\\hline\n",
       "\t1 & Ashburton Hospital & Public Hospital & Medical, Maternity & 56 & $\\dots$ \\\\\n",
       "\t2 & Ashburton Hospital & Public Hospital & Medical, Maternity & 56 & $\\dots$ \\\\\n",
       "\t3 & Ashburton Hospital & Public Hospital & Medical, Maternity & 56 & $\\dots$ \\\\\n",
       "\t4 & Ashburton Hospital & Public Hospital & Medical, Maternity & 56 & $\\dots$ \\\\\n",
       "\t5 & Ashburton Hospital & Public Hospital & Medical, Maternity & 56 & $\\dots$ \\\\\n",
       "\t6 & Ashburton Hospital & Public Hospital & Medical, Maternity & 56 & $\\dots$ \\\\\n",
       "\t7 & Ashburton Hospital & Public Hospital & Medical, Maternity & 56 & $\\dots$ \\\\\n",
       "\t8 & Ashburton Hospital & Public Hospital & Medical, Maternity & 56 & $\\dots$ \\\\\n",
       "\t9 & Ashburton Hospital & Public Hospital & Medical, Maternity & 56 & $\\dots$ \\\\\n",
       "\t10 & Ashburton Hospital & Public Hospital & Medical, Maternity & 56 & $\\dots$ \\\\\n",
       "\t11 & Ashburton Hospital & Public Hospital & Medical, Maternity & 56 & $\\dots$ \\\\\n",
       "\t12 & Ashburton Hospital & Public Hospital & Medical, Maternity & 56 & $\\dots$ \\\\\n",
       "\t13 & Ashburton Hospital & Public Hospital & Medical, Maternity & 56 & $\\dots$ \\\\\n",
       "\t14 & Ashburton Hospital & Public Hospital & Medical, Maternity & 56 & $\\dots$ \\\\\n",
       "\t15 & Ashburton Hospital & Public Hospital & Medical, Maternity & 56 & $\\dots$ \\\\\n",
       "\t16 & Ashburton Hospital & Public Hospital & Medical, Maternity & 56 & $\\dots$ \\\\\n",
       "\t17 & Ashburton Hospital & Public Hospital & Medical, Maternity & 56 & $\\dots$ \\\\\n",
       "\t18 & Ashburton Hospital & Public Hospital & Medical, Maternity & 56 & $\\dots$ \\\\\n",
       "\t19 & Ashburton Hospital & Public Hospital & Medical, Maternity & 56 & $\\dots$ \\\\\n",
       "\t20 & Ashburton Hospital & Public Hospital & Medical, Maternity & 56 & $\\dots$ \\\\\n",
       "\t21 & Ashburton Hospital & Public Hospital & Medical, Maternity & 56 & $\\dots$ \\\\\n",
       "\t22 & Ashburton Hospital & Public Hospital & Medical, Maternity & 56 & $\\dots$ \\\\\n",
       "\t23 & Ashburton Hospital & Public Hospital & Medical, Maternity & 56 & $\\dots$ \\\\\n",
       "\t24 & Ashburton Hospital & Public Hospital & Medical, Maternity & 56 & $\\dots$ \\\\\n",
       "\t25 & Ashburton Hospital & Public Hospital & Medical, Maternity & 56 & $\\dots$ \\\\\n",
       "\t26 & Ashburton Hospital & Public Hospital & Medical, Maternity & 56 & $\\dots$ \\\\\n",
       "\t27 & Ashburton Hospital & Public Hospital & Medical, Maternity & 56 & $\\dots$ \\\\\n",
       "\t28 & Ashburton Hospital & Public Hospital & Medical, Maternity & 56 & $\\dots$ \\\\\n",
       "\t29 & Ashburton Hospital & Public Hospital & Medical, Maternity & 56 & $\\dots$ \\\\\n",
       "\t30 & Ashburton Hospital & Public Hospital & Medical, Maternity & 56 & $\\dots$ \\\\\n",
       "\t$\\dots$ & $\\dots$ & $\\dots$ & $\\dots$ & $\\dots$ &  \\\\\n",
       "\\end{tabular}\n"
      ],
      "text/plain": [
       "\u001b[1m5145×14 DataFrame\u001b[0m\n",
       "\u001b[1m  Row \u001b[0m│\u001b[1m Hospital_Name        \u001b[0m\u001b[1m Certification_Service_Type \u001b[0m\u001b[1m Service_Types       \u001b[0m\u001b[1m\u001b[0m ⋯\n",
       "\u001b[1m      \u001b[0m│\u001b[90m String               \u001b[0m\u001b[90m String                     \u001b[0m\u001b[90m String              \u001b[0m\u001b[90m\u001b[0m ⋯\n",
       "──────┼─────────────────────────────────────────────────────────────────────────\n",
       "    1 │ Ashburton Hospital    Public Hospital             Medical, Maternity   ⋯\n",
       "    2 │ Ashburton Hospital    Public Hospital             Medical, Maternity\n",
       "    3 │ Ashburton Hospital    Public Hospital             Medical, Maternity\n",
       "    4 │ Ashburton Hospital    Public Hospital             Medical, Maternity\n",
       "    5 │ Ashburton Hospital    Public Hospital             Medical, Maternity   ⋯\n",
       "    6 │ Ashburton Hospital    Public Hospital             Medical, Maternity\n",
       "    7 │ Ashburton Hospital    Public Hospital             Medical, Maternity\n",
       "    8 │ Ashburton Hospital    Public Hospital             Medical, Maternity\n",
       "    9 │ Ashburton Hospital    Public Hospital             Medical, Maternity   ⋯\n",
       "   10 │ Ashburton Hospital    Public Hospital             Medical, Maternity\n",
       "   11 │ Ashburton Hospital    Public Hospital             Medical, Maternity\n",
       "  ⋮   │          ⋮                        ⋮                        ⋮           ⋱\n",
       " 5136 │ St George's Hospital  NGO Hospital                Maternity, Surgical\n",
       " 5137 │ St George's Hospital  NGO Hospital                Maternity, Surgical  ⋯\n",
       " 5138 │ St George's Hospital  NGO Hospital                Maternity, Surgical\n",
       " 5139 │ St George's Hospital  NGO Hospital                Maternity, Surgical\n",
       " 5140 │ St George's Hospital  NGO Hospital                Maternity, Surgical\n",
       " 5141 │ St George's Hospital  NGO Hospital                Maternity, Surgical  ⋯\n",
       " 5142 │ St George's Hospital  NGO Hospital                Maternity, Surgical\n",
       " 5143 │ St George's Hospital  NGO Hospital                Maternity, Surgical\n",
       " 5144 │ St George's Hospital  NGO Hospital                Maternity, Surgical\n",
       " 5145 │ St George's Hospital  NGO Hospital                Maternity, Surgical  ⋯\n",
       "\u001b[36m                                                11 columns and 5124 rows omitted\u001b[0m"
      ]
     },
     "execution_count": 29,
     "metadata": {},
     "output_type": "execute_result"
    }
   ],
   "source": [
    "# Change column names to improve them\n",
    "cross_df = select(cross_df, \"Premises.Name\" => \"Hospital_Name\",\n",
    "    \"Certification.Service.Type\" => \"Certification_Service_Type\",\n",
    "    \"Service.Types\" => \"Service_Types\",\n",
    "    \"Total.Beds\" => \"Total_Beds\",\n",
    "    \"Premises.Address\" => \"Hospital_Address\",\n",
    "    \"Premises.Address.Suburb.Road\" => \"Hospital_Suburb\",\n",
    "    \"Premises.Address.Town.City\" => \"Hospital_City\",\n",
    "    \"Premises.Address.Post.Code\" => \"Hospital_Postcode\",\n",
    "    \"DHB.Name\" => \"DHB_Name\",\n",
    "    \"Latitude\" => \"Hospital_Lat\",\n",
    "    \"Longitude\" => \"Hospital_Long\",\n",
    "    \"AU2017_NAME\" => \"Area_Unit\",\n",
    "    \"Latitude_1\" => \"AU_Lat\",\n",
    "    \"Longitude_1\" => \"AU_Long\"\n",
    "    )\n"
   ]
  },
  {
   "cell_type": "markdown",
   "id": "e9a7bcc9",
   "metadata": {},
   "source": [
    "Now we can write a function that will take the lat long of the hospitals and area units, and calculate the distance between them in metres - we then apply the function to the cross joined dataframe lat and long columns "
   ]
  },
  {
   "cell_type": "code",
   "execution_count": 30,
   "id": "3a642df6",
   "metadata": {},
   "outputs": [
    {
     "data": {
      "text/plain": [
       "3202.3500502926418"
      ]
     },
     "execution_count": 30,
     "metadata": {},
     "output_type": "execute_result"
    }
   ],
   "source": [
    "## Function to convert degrees to radians since we use radians to calculate distance\n",
    "function deg2rad(x)\n",
    "\n",
    "    return x * pi / 180\n",
    "end\n",
    "\n",
    "# Function to calculate distance in metres from two lat and long coordinates\n",
    "function spherical_distance(lat1, long1, lat2, long2)\n",
    "   \n",
    "   \n",
    "    x1 = 0.5*pi - deg2rad(lat1) # creating a variable for x1 in metres, converting latitudes of point 1 and 2 into radians\n",
    "    x2 = 0.5*pi - deg2rad(lat2)\n",
    "   \n",
    "    r = 0.5*(6378137 + 6356752) # mean radius of the Earth in meters\n",
    "   \n",
    "    t = sin(x1)*sin(x2)*cos(deg2rad(long1)-deg2rad(long2)) + cos(x1)*cos(x2) # mathematical function that takes our inputs and calculates\n",
    "                                                                             # distance accounting for points being on a sphere\n",
    "    return float(r * acos(t))\n",
    "end\n",
    "\n",
    "# Testing function\n",
    "spherical_distance(-43.57148, 172.61959, -43.5429307391304, 172.614197202899)"
   ]
  },
  {
   "cell_type": "code",
   "execution_count": 31,
   "id": "8fd37ff7",
   "metadata": {},
   "outputs": [
    {
     "data": {
      "text/html": [
       "<div class=\"data-frame\"><p>5,145 rows × 15 columns (omitted printing of 11 columns)</p><table class=\"data-frame\"><thead><tr><th></th><th>Hospital_Name</th><th>Certification_Service_Type</th><th>Service_Types</th><th>Total_Beds</th></tr><tr><th></th><th title=\"String\">String</th><th title=\"String\">String</th><th title=\"String\">String</th><th title=\"Int64\">Int64</th></tr></thead><tbody><tr><th>1</th><td>Ashburton Hospital</td><td>Public Hospital</td><td>Medical, Maternity</td><td>56</td></tr><tr><th>2</th><td>Ashburton Hospital</td><td>Public Hospital</td><td>Medical, Maternity</td><td>56</td></tr><tr><th>3</th><td>Ashburton Hospital</td><td>Public Hospital</td><td>Medical, Maternity</td><td>56</td></tr><tr><th>4</th><td>Ashburton Hospital</td><td>Public Hospital</td><td>Medical, Maternity</td><td>56</td></tr><tr><th>5</th><td>Ashburton Hospital</td><td>Public Hospital</td><td>Medical, Maternity</td><td>56</td></tr><tr><th>6</th><td>Ashburton Hospital</td><td>Public Hospital</td><td>Medical, Maternity</td><td>56</td></tr><tr><th>7</th><td>Ashburton Hospital</td><td>Public Hospital</td><td>Medical, Maternity</td><td>56</td></tr><tr><th>8</th><td>Ashburton Hospital</td><td>Public Hospital</td><td>Medical, Maternity</td><td>56</td></tr><tr><th>9</th><td>Ashburton Hospital</td><td>Public Hospital</td><td>Medical, Maternity</td><td>56</td></tr><tr><th>10</th><td>Ashburton Hospital</td><td>Public Hospital</td><td>Medical, Maternity</td><td>56</td></tr><tr><th>11</th><td>Ashburton Hospital</td><td>Public Hospital</td><td>Medical, Maternity</td><td>56</td></tr><tr><th>12</th><td>Ashburton Hospital</td><td>Public Hospital</td><td>Medical, Maternity</td><td>56</td></tr><tr><th>13</th><td>Ashburton Hospital</td><td>Public Hospital</td><td>Medical, Maternity</td><td>56</td></tr><tr><th>14</th><td>Ashburton Hospital</td><td>Public Hospital</td><td>Medical, Maternity</td><td>56</td></tr><tr><th>15</th><td>Ashburton Hospital</td><td>Public Hospital</td><td>Medical, Maternity</td><td>56</td></tr><tr><th>16</th><td>Ashburton Hospital</td><td>Public Hospital</td><td>Medical, Maternity</td><td>56</td></tr><tr><th>17</th><td>Ashburton Hospital</td><td>Public Hospital</td><td>Medical, Maternity</td><td>56</td></tr><tr><th>18</th><td>Ashburton Hospital</td><td>Public Hospital</td><td>Medical, Maternity</td><td>56</td></tr><tr><th>19</th><td>Ashburton Hospital</td><td>Public Hospital</td><td>Medical, Maternity</td><td>56</td></tr><tr><th>20</th><td>Ashburton Hospital</td><td>Public Hospital</td><td>Medical, Maternity</td><td>56</td></tr><tr><th>21</th><td>Ashburton Hospital</td><td>Public Hospital</td><td>Medical, Maternity</td><td>56</td></tr><tr><th>22</th><td>Ashburton Hospital</td><td>Public Hospital</td><td>Medical, Maternity</td><td>56</td></tr><tr><th>23</th><td>Ashburton Hospital</td><td>Public Hospital</td><td>Medical, Maternity</td><td>56</td></tr><tr><th>24</th><td>Ashburton Hospital</td><td>Public Hospital</td><td>Medical, Maternity</td><td>56</td></tr><tr><th>25</th><td>Ashburton Hospital</td><td>Public Hospital</td><td>Medical, Maternity</td><td>56</td></tr><tr><th>26</th><td>Ashburton Hospital</td><td>Public Hospital</td><td>Medical, Maternity</td><td>56</td></tr><tr><th>27</th><td>Ashburton Hospital</td><td>Public Hospital</td><td>Medical, Maternity</td><td>56</td></tr><tr><th>28</th><td>Ashburton Hospital</td><td>Public Hospital</td><td>Medical, Maternity</td><td>56</td></tr><tr><th>29</th><td>Ashburton Hospital</td><td>Public Hospital</td><td>Medical, Maternity</td><td>56</td></tr><tr><th>30</th><td>Ashburton Hospital</td><td>Public Hospital</td><td>Medical, Maternity</td><td>56</td></tr><tr><th>&vellip;</th><td>&vellip;</td><td>&vellip;</td><td>&vellip;</td><td>&vellip;</td></tr></tbody></table></div>"
      ],
      "text/latex": [
       "\\begin{tabular}{r|ccccc}\n",
       "\t& Hospital\\_Name & Certification\\_Service\\_Type & Service\\_Types & Total\\_Beds & \\\\\n",
       "\t\\hline\n",
       "\t& String & String & String & Int64 & \\\\\n",
       "\t\\hline\n",
       "\t1 & Ashburton Hospital & Public Hospital & Medical, Maternity & 56 & $\\dots$ \\\\\n",
       "\t2 & Ashburton Hospital & Public Hospital & Medical, Maternity & 56 & $\\dots$ \\\\\n",
       "\t3 & Ashburton Hospital & Public Hospital & Medical, Maternity & 56 & $\\dots$ \\\\\n",
       "\t4 & Ashburton Hospital & Public Hospital & Medical, Maternity & 56 & $\\dots$ \\\\\n",
       "\t5 & Ashburton Hospital & Public Hospital & Medical, Maternity & 56 & $\\dots$ \\\\\n",
       "\t6 & Ashburton Hospital & Public Hospital & Medical, Maternity & 56 & $\\dots$ \\\\\n",
       "\t7 & Ashburton Hospital & Public Hospital & Medical, Maternity & 56 & $\\dots$ \\\\\n",
       "\t8 & Ashburton Hospital & Public Hospital & Medical, Maternity & 56 & $\\dots$ \\\\\n",
       "\t9 & Ashburton Hospital & Public Hospital & Medical, Maternity & 56 & $\\dots$ \\\\\n",
       "\t10 & Ashburton Hospital & Public Hospital & Medical, Maternity & 56 & $\\dots$ \\\\\n",
       "\t11 & Ashburton Hospital & Public Hospital & Medical, Maternity & 56 & $\\dots$ \\\\\n",
       "\t12 & Ashburton Hospital & Public Hospital & Medical, Maternity & 56 & $\\dots$ \\\\\n",
       "\t13 & Ashburton Hospital & Public Hospital & Medical, Maternity & 56 & $\\dots$ \\\\\n",
       "\t14 & Ashburton Hospital & Public Hospital & Medical, Maternity & 56 & $\\dots$ \\\\\n",
       "\t15 & Ashburton Hospital & Public Hospital & Medical, Maternity & 56 & $\\dots$ \\\\\n",
       "\t16 & Ashburton Hospital & Public Hospital & Medical, Maternity & 56 & $\\dots$ \\\\\n",
       "\t17 & Ashburton Hospital & Public Hospital & Medical, Maternity & 56 & $\\dots$ \\\\\n",
       "\t18 & Ashburton Hospital & Public Hospital & Medical, Maternity & 56 & $\\dots$ \\\\\n",
       "\t19 & Ashburton Hospital & Public Hospital & Medical, Maternity & 56 & $\\dots$ \\\\\n",
       "\t20 & Ashburton Hospital & Public Hospital & Medical, Maternity & 56 & $\\dots$ \\\\\n",
       "\t21 & Ashburton Hospital & Public Hospital & Medical, Maternity & 56 & $\\dots$ \\\\\n",
       "\t22 & Ashburton Hospital & Public Hospital & Medical, Maternity & 56 & $\\dots$ \\\\\n",
       "\t23 & Ashburton Hospital & Public Hospital & Medical, Maternity & 56 & $\\dots$ \\\\\n",
       "\t24 & Ashburton Hospital & Public Hospital & Medical, Maternity & 56 & $\\dots$ \\\\\n",
       "\t25 & Ashburton Hospital & Public Hospital & Medical, Maternity & 56 & $\\dots$ \\\\\n",
       "\t26 & Ashburton Hospital & Public Hospital & Medical, Maternity & 56 & $\\dots$ \\\\\n",
       "\t27 & Ashburton Hospital & Public Hospital & Medical, Maternity & 56 & $\\dots$ \\\\\n",
       "\t28 & Ashburton Hospital & Public Hospital & Medical, Maternity & 56 & $\\dots$ \\\\\n",
       "\t29 & Ashburton Hospital & Public Hospital & Medical, Maternity & 56 & $\\dots$ \\\\\n",
       "\t30 & Ashburton Hospital & Public Hospital & Medical, Maternity & 56 & $\\dots$ \\\\\n",
       "\t$\\dots$ & $\\dots$ & $\\dots$ & $\\dots$ & $\\dots$ &  \\\\\n",
       "\\end{tabular}\n"
      ],
      "text/plain": [
       "\u001b[1m5145×15 DataFrame\u001b[0m\n",
       "\u001b[1m  Row \u001b[0m│\u001b[1m Hospital_Name        \u001b[0m\u001b[1m Certification_Service_Type \u001b[0m\u001b[1m Service_Types       \u001b[0m\u001b[1m\u001b[0m ⋯\n",
       "\u001b[1m      \u001b[0m│\u001b[90m String               \u001b[0m\u001b[90m String                     \u001b[0m\u001b[90m String              \u001b[0m\u001b[90m\u001b[0m ⋯\n",
       "──────┼─────────────────────────────────────────────────────────────────────────\n",
       "    1 │ Ashburton Hospital    Public Hospital             Medical, Maternity   ⋯\n",
       "    2 │ Ashburton Hospital    Public Hospital             Medical, Maternity\n",
       "    3 │ Ashburton Hospital    Public Hospital             Medical, Maternity\n",
       "    4 │ Ashburton Hospital    Public Hospital             Medical, Maternity\n",
       "    5 │ Ashburton Hospital    Public Hospital             Medical, Maternity   ⋯\n",
       "    6 │ Ashburton Hospital    Public Hospital             Medical, Maternity\n",
       "    7 │ Ashburton Hospital    Public Hospital             Medical, Maternity\n",
       "    8 │ Ashburton Hospital    Public Hospital             Medical, Maternity\n",
       "    9 │ Ashburton Hospital    Public Hospital             Medical, Maternity   ⋯\n",
       "   10 │ Ashburton Hospital    Public Hospital             Medical, Maternity\n",
       "   11 │ Ashburton Hospital    Public Hospital             Medical, Maternity\n",
       "  ⋮   │          ⋮                        ⋮                        ⋮           ⋱\n",
       " 5136 │ St George's Hospital  NGO Hospital                Maternity, Surgical\n",
       " 5137 │ St George's Hospital  NGO Hospital                Maternity, Surgical  ⋯\n",
       " 5138 │ St George's Hospital  NGO Hospital                Maternity, Surgical\n",
       " 5139 │ St George's Hospital  NGO Hospital                Maternity, Surgical\n",
       " 5140 │ St George's Hospital  NGO Hospital                Maternity, Surgical\n",
       " 5141 │ St George's Hospital  NGO Hospital                Maternity, Surgical  ⋯\n",
       " 5142 │ St George's Hospital  NGO Hospital                Maternity, Surgical\n",
       " 5143 │ St George's Hospital  NGO Hospital                Maternity, Surgical\n",
       " 5144 │ St George's Hospital  NGO Hospital                Maternity, Surgical\n",
       " 5145 │ St George's Hospital  NGO Hospital                Maternity, Surgical  ⋯\n",
       "\u001b[36m                                                12 columns and 5124 rows omitted\u001b[0m"
      ]
     },
     "execution_count": 31,
     "metadata": {},
     "output_type": "execute_result"
    }
   ],
   "source": [
    "# Apply function row-wise to 2 separate sets of lat and long columns in the dataframe\n",
    "distance_df = transform!(cross_df, [:Hospital_Lat, :Hospital_Long, :AU_Lat, :AU_Long] => ByRow(spherical_distance) => :Distance )"
   ]
  },
  {
   "cell_type": "code",
   "execution_count": 32,
   "id": "883fb88c",
   "metadata": {},
   "outputs": [
    {
     "data": {
      "text/html": [
       "<div class=\"data-frame\"><p>5,145 rows × 3 columns</p><table class=\"data-frame\"><thead><tr><th></th><th>Hospital_Name</th><th>Area_Unit</th><th>Distance</th></tr><tr><th></th><th title=\"String\">String</th><th title=\"String\">String</th><th title=\"Float64\">Float64</th></tr></thead><tbody><tr><th>1</th><td>Ashburton Hospital</td><td>Addington</td><td>80339.5</td></tr><tr><th>2</th><td>Ashburton Hospital</td><td>Aidanfield</td><td>75600.5</td></tr><tr><th>3</th><td>Ashburton Hospital</td><td>Akaroa</td><td>98281.2</td></tr><tr><th>4</th><td>Ashburton Hospital</td><td>Akaroa Harbour</td><td>96644.8</td></tr><tr><th>5</th><td>Ashburton Hospital</td><td>Allenton East</td><td>617.26</td></tr><tr><th>6</th><td>Ashburton Hospital</td><td>Allenton West</td><td>554.11</td></tr><tr><th>7</th><td>Ashburton Hospital</td><td>Amberley</td><td>1.14134e5</td></tr><tr><th>8</th><td>Ashburton Hospital</td><td>Amuri</td><td>1.65098e5</td></tr><tr><th>9</th><td>Ashburton Hospital</td><td>Aorangi</td><td>81127.9</td></tr><tr><th>10</th><td>Ashburton Hospital</td><td>Aranui</td><td>87920.0</td></tr><tr><th>11</th><td>Ashburton Hospital</td><td>Ashburton Central East</td><td>1264.83</td></tr><tr><th>12</th><td>Ashburton Hospital</td><td>Ashburton Central West</td><td>790.182</td></tr><tr><th>13</th><td>Ashburton Hospital</td><td>Ashburton East</td><td>2941.04</td></tr><tr><th>14</th><td>Ashburton Hospital</td><td>Ashburton North</td><td>2551.78</td></tr><tr><th>15</th><td>Ashburton Hospital</td><td>Ashley</td><td>99732.3</td></tr><tr><th>16</th><td>Ashburton Hospital</td><td>Ashley Gorge</td><td>74880.1</td></tr><tr><th>17</th><td>Ashburton Hospital</td><td>Aviemore</td><td>1.53533e5</td></tr><tr><th>18</th><td>Ashburton Hospital</td><td>Avon Loop</td><td>82928.0</td></tr><tr><th>19</th><td>Ashburton Hospital</td><td>Avondale</td><td>87379.3</td></tr><tr><th>20</th><td>Ashburton Hospital</td><td>Avonhead</td><td>77369.1</td></tr><tr><th>21</th><td>Ashburton Hospital</td><td>Avonhead West</td><td>76168.5</td></tr><tr><th>22</th><td>Ashburton Hospital</td><td>Avonside</td><td>85090.2</td></tr><tr><th>23</th><td>Ashburton Hospital</td><td>Banks Peninsula Eastern Bays</td><td>99704.2</td></tr><tr><th>24</th><td>Ashburton Hospital</td><td>Barrington North</td><td>79027.2</td></tr><tr><th>25</th><td>Ashburton Hospital</td><td>Barrington South</td><td>79132.8</td></tr><tr><th>26</th><td>Ashburton Hospital</td><td>Beckenham</td><td>80991.0</td></tr><tr><th>27</th><td>Ashburton Hospital</td><td>Belfast</td><td>86368.2</td></tr><tr><th>28</th><td>Ashburton Hospital</td><td>Belfast South</td><td>85244.7</td></tr><tr><th>29</th><td>Ashburton Hospital</td><td>Ben Mcleod</td><td>39271.7</td></tr><tr><th>30</th><td>Ashburton Hospital</td><td>Bexley</td><td>88072.7</td></tr><tr><th>&vellip;</th><td>&vellip;</td><td>&vellip;</td><td>&vellip;</td></tr></tbody></table></div>"
      ],
      "text/latex": [
       "\\begin{tabular}{r|ccc}\n",
       "\t& Hospital\\_Name & Area\\_Unit & Distance\\\\\n",
       "\t\\hline\n",
       "\t& String & String & Float64\\\\\n",
       "\t\\hline\n",
       "\t1 & Ashburton Hospital & Addington & 80339.5 \\\\\n",
       "\t2 & Ashburton Hospital & Aidanfield & 75600.5 \\\\\n",
       "\t3 & Ashburton Hospital & Akaroa & 98281.2 \\\\\n",
       "\t4 & Ashburton Hospital & Akaroa Harbour & 96644.8 \\\\\n",
       "\t5 & Ashburton Hospital & Allenton East & 617.26 \\\\\n",
       "\t6 & Ashburton Hospital & Allenton West & 554.11 \\\\\n",
       "\t7 & Ashburton Hospital & Amberley & 1.14134e5 \\\\\n",
       "\t8 & Ashburton Hospital & Amuri & 1.65098e5 \\\\\n",
       "\t9 & Ashburton Hospital & Aorangi & 81127.9 \\\\\n",
       "\t10 & Ashburton Hospital & Aranui & 87920.0 \\\\\n",
       "\t11 & Ashburton Hospital & Ashburton Central East & 1264.83 \\\\\n",
       "\t12 & Ashburton Hospital & Ashburton Central West & 790.182 \\\\\n",
       "\t13 & Ashburton Hospital & Ashburton East & 2941.04 \\\\\n",
       "\t14 & Ashburton Hospital & Ashburton North & 2551.78 \\\\\n",
       "\t15 & Ashburton Hospital & Ashley & 99732.3 \\\\\n",
       "\t16 & Ashburton Hospital & Ashley Gorge & 74880.1 \\\\\n",
       "\t17 & Ashburton Hospital & Aviemore & 1.53533e5 \\\\\n",
       "\t18 & Ashburton Hospital & Avon Loop & 82928.0 \\\\\n",
       "\t19 & Ashburton Hospital & Avondale & 87379.3 \\\\\n",
       "\t20 & Ashburton Hospital & Avonhead & 77369.1 \\\\\n",
       "\t21 & Ashburton Hospital & Avonhead West & 76168.5 \\\\\n",
       "\t22 & Ashburton Hospital & Avonside & 85090.2 \\\\\n",
       "\t23 & Ashburton Hospital & Banks Peninsula Eastern Bays & 99704.2 \\\\\n",
       "\t24 & Ashburton Hospital & Barrington North & 79027.2 \\\\\n",
       "\t25 & Ashburton Hospital & Barrington South & 79132.8 \\\\\n",
       "\t26 & Ashburton Hospital & Beckenham & 80991.0 \\\\\n",
       "\t27 & Ashburton Hospital & Belfast & 86368.2 \\\\\n",
       "\t28 & Ashburton Hospital & Belfast South & 85244.7 \\\\\n",
       "\t29 & Ashburton Hospital & Ben Mcleod & 39271.7 \\\\\n",
       "\t30 & Ashburton Hospital & Bexley & 88072.7 \\\\\n",
       "\t$\\dots$ & $\\dots$ & $\\dots$ & $\\dots$ \\\\\n",
       "\\end{tabular}\n"
      ],
      "text/plain": [
       "\u001b[1m5145×3 DataFrame\u001b[0m\n",
       "\u001b[1m  Row \u001b[0m│\u001b[1m Hospital_Name        \u001b[0m\u001b[1m Area_Unit              \u001b[0m\u001b[1m Distance      \u001b[0m\n",
       "\u001b[1m      \u001b[0m│\u001b[90m String               \u001b[0m\u001b[90m String                 \u001b[0m\u001b[90m Float64       \u001b[0m\n",
       "──────┼─────────────────────────────────────────────────────────────\n",
       "    1 │ Ashburton Hospital    Addington               80339.5\n",
       "    2 │ Ashburton Hospital    Aidanfield              75600.5\n",
       "    3 │ Ashburton Hospital    Akaroa                  98281.2\n",
       "    4 │ Ashburton Hospital    Akaroa Harbour          96644.8\n",
       "    5 │ Ashburton Hospital    Allenton East             617.26\n",
       "    6 │ Ashburton Hospital    Allenton West             554.11\n",
       "    7 │ Ashburton Hospital    Amberley                    1.14134e5\n",
       "    8 │ Ashburton Hospital    Amuri                       1.65098e5\n",
       "    9 │ Ashburton Hospital    Aorangi                 81127.9\n",
       "   10 │ Ashburton Hospital    Aranui                  87920.0\n",
       "   11 │ Ashburton Hospital    Ashburton Central East   1264.83\n",
       "  ⋮   │          ⋮                      ⋮                   ⋮\n",
       " 5136 │ St George's Hospital  Westmorland              7966.87\n",
       " 5137 │ St George's Hospital  Wharenui                 4128.54\n",
       " 5138 │ St George's Hospital  Wigram                   6699.54\n",
       " 5139 │ St George's Hospital  Winchester                  1.31276e5\n",
       " 5140 │ St George's Hospital  Woodend                 21266.7\n",
       " 5141 │ St George's Hospital  Woodend Beach           19293.0\n",
       " 5142 │ St George's Hospital  Woodend West            20998.3\n",
       " 5143 │ St George's Hospital  Woolston South           6926.95\n",
       " 5144 │ St George's Hospital  Woolston West            5554.43\n",
       " 5145 │ St George's Hospital  Yaldhurst                6936.23\n",
       "\u001b[36m                                                   5124 rows omitted\u001b[0m"
      ]
     },
     "execution_count": 32,
     "metadata": {},
     "output_type": "execute_result"
    }
   ],
   "source": [
    "# Show selected columns\n",
    "distance_df[!, [:Hospital_Name, :Area_Unit, :Distance]]"
   ]
  },
  {
   "cell_type": "markdown",
   "id": "0264ff40",
   "metadata": {},
   "source": [
    "Now that we have all the distances from each hospital to each suburb, we can group the dataframe by area unit and return the mimumim value fo the distances columns, to see which hospital is closesest to centre point of that area unit. Credit to user Bogumił Kamiński on stack overflow post https://stackoverflow.com/questions/65024962/select-rows-of-a-dataframe-containing-minimum-of-grouping-variable-in-julia for the following line of code."
   ]
  },
  {
   "cell_type": "code",
   "execution_count": 36,
   "id": "bfa700c6",
   "metadata": {},
   "outputs": [
    {
     "data": {
      "text/html": [
       "<div class=\"data-frame\"><p>245 rows × 15 columns (omitted printing of 12 columns)</p><table class=\"data-frame\"><thead><tr><th></th><th>Area_Unit</th><th>Hospital_Name</th><th>Certification_Service_Type</th></tr><tr><th></th><th title=\"String\">String</th><th title=\"String\">String</th><th title=\"String\">String</th></tr></thead><tbody><tr><th>1</th><td>Addington</td><td>Christchurch Hospital</td><td>Public Hospital</td></tr><tr><th>2</th><td>Aidanfield</td><td>Hillmorton Hospital</td><td>Public Hospital</td></tr><tr><th>3</th><td>Akaroa</td><td>The Princess Margaret Hospital</td><td>Public Hospital</td></tr><tr><th>4</th><td>Akaroa Harbour</td><td>The Princess Margaret Hospital</td><td>Public Hospital</td></tr><tr><th>5</th><td>Allenton East</td><td>Ashburton Hospital</td><td>Public Hospital</td></tr><tr><th>6</th><td>Allenton West</td><td>Ashburton Hospital</td><td>Public Hospital</td></tr><tr><th>7</th><td>Amberley</td><td>Rangiora Hospital</td><td>Public Hospital</td></tr><tr><th>8</th><td>Amuri</td><td>Waikari Hospital</td><td>Public Hospital</td></tr><tr><th>9</th><td>Aorangi</td><td>St George&apos;s Hospital</td><td>NGO Hospital</td></tr><tr><th>10</th><td>Aranui</td><td>Burwood Hospital</td><td>Public Hospital</td></tr><tr><th>11</th><td>Ashburton Central East</td><td>Tuarangi Home</td><td>Public Hospital</td></tr><tr><th>12</th><td>Ashburton Central West</td><td>Tuarangi Home</td><td>Public Hospital</td></tr><tr><th>13</th><td>Ashburton East</td><td>Tuarangi Home</td><td>Public Hospital</td></tr><tr><th>14</th><td>Ashburton North</td><td>Ashburton Hospital</td><td>Public Hospital</td></tr><tr><th>15</th><td>Ashley</td><td>Rangiora Hospital</td><td>Public Hospital</td></tr><tr><th>16</th><td>Ashley Gorge</td><td>Oxford Hospital</td><td>Public Hospital</td></tr><tr><th>17</th><td>Aviemore</td><td>Hospice South Canterbury</td><td>NGO Hospital</td></tr><tr><th>18</th><td>Avon Loop</td><td>Forte Health Hospital</td><td>NGO Hospital</td></tr><tr><th>19</th><td>Avondale</td><td>Burwood Hospital</td><td>Public Hospital</td></tr><tr><th>20</th><td>Avonhead</td><td>Hillmorton Hospital</td><td>Public Hospital</td></tr><tr><th>21</th><td>Avonhead West</td><td>Hillmorton Hospital</td><td>Public Hospital</td></tr><tr><th>22</th><td>Avonside</td><td>Forte Health Hospital</td><td>NGO Hospital</td></tr><tr><th>23</th><td>Banks Peninsula Eastern Bays</td><td>The Princess Margaret Hospital</td><td>Public Hospital</td></tr><tr><th>24</th><td>Barrington North</td><td>Hillmorton Hospital</td><td>Public Hospital</td></tr><tr><th>25</th><td>Barrington South</td><td>The Princess Margaret Hospital</td><td>Public Hospital</td></tr><tr><th>26</th><td>Beckenham</td><td>The Princess Margaret Hospital</td><td>Public Hospital</td></tr><tr><th>27</th><td>Belfast</td><td>Burwood Hospital</td><td>Public Hospital</td></tr><tr><th>28</th><td>Belfast South</td><td>St George&apos;s Hospital</td><td>NGO Hospital</td></tr><tr><th>29</th><td>Ben Mcleod</td><td>Ashburton Hospital</td><td>Public Hospital</td></tr><tr><th>30</th><td>Bexley</td><td>Burwood Hospital</td><td>Public Hospital</td></tr><tr><th>&vellip;</th><td>&vellip;</td><td>&vellip;</td><td>&vellip;</td></tr></tbody></table></div>"
      ],
      "text/latex": [
       "\\begin{tabular}{r|cccc}\n",
       "\t& Area\\_Unit & Hospital\\_Name & Certification\\_Service\\_Type & \\\\\n",
       "\t\\hline\n",
       "\t& String & String & String & \\\\\n",
       "\t\\hline\n",
       "\t1 & Addington & Christchurch Hospital & Public Hospital & $\\dots$ \\\\\n",
       "\t2 & Aidanfield & Hillmorton Hospital & Public Hospital & $\\dots$ \\\\\n",
       "\t3 & Akaroa & The Princess Margaret Hospital & Public Hospital & $\\dots$ \\\\\n",
       "\t4 & Akaroa Harbour & The Princess Margaret Hospital & Public Hospital & $\\dots$ \\\\\n",
       "\t5 & Allenton East & Ashburton Hospital & Public Hospital & $\\dots$ \\\\\n",
       "\t6 & Allenton West & Ashburton Hospital & Public Hospital & $\\dots$ \\\\\n",
       "\t7 & Amberley & Rangiora Hospital & Public Hospital & $\\dots$ \\\\\n",
       "\t8 & Amuri & Waikari Hospital & Public Hospital & $\\dots$ \\\\\n",
       "\t9 & Aorangi & St George's Hospital & NGO Hospital & $\\dots$ \\\\\n",
       "\t10 & Aranui & Burwood Hospital & Public Hospital & $\\dots$ \\\\\n",
       "\t11 & Ashburton Central East & Tuarangi Home & Public Hospital & $\\dots$ \\\\\n",
       "\t12 & Ashburton Central West & Tuarangi Home & Public Hospital & $\\dots$ \\\\\n",
       "\t13 & Ashburton East & Tuarangi Home & Public Hospital & $\\dots$ \\\\\n",
       "\t14 & Ashburton North & Ashburton Hospital & Public Hospital & $\\dots$ \\\\\n",
       "\t15 & Ashley & Rangiora Hospital & Public Hospital & $\\dots$ \\\\\n",
       "\t16 & Ashley Gorge & Oxford Hospital & Public Hospital & $\\dots$ \\\\\n",
       "\t17 & Aviemore & Hospice South Canterbury & NGO Hospital & $\\dots$ \\\\\n",
       "\t18 & Avon Loop & Forte Health Hospital & NGO Hospital & $\\dots$ \\\\\n",
       "\t19 & Avondale & Burwood Hospital & Public Hospital & $\\dots$ \\\\\n",
       "\t20 & Avonhead & Hillmorton Hospital & Public Hospital & $\\dots$ \\\\\n",
       "\t21 & Avonhead West & Hillmorton Hospital & Public Hospital & $\\dots$ \\\\\n",
       "\t22 & Avonside & Forte Health Hospital & NGO Hospital & $\\dots$ \\\\\n",
       "\t23 & Banks Peninsula Eastern Bays & The Princess Margaret Hospital & Public Hospital & $\\dots$ \\\\\n",
       "\t24 & Barrington North & Hillmorton Hospital & Public Hospital & $\\dots$ \\\\\n",
       "\t25 & Barrington South & The Princess Margaret Hospital & Public Hospital & $\\dots$ \\\\\n",
       "\t26 & Beckenham & The Princess Margaret Hospital & Public Hospital & $\\dots$ \\\\\n",
       "\t27 & Belfast & Burwood Hospital & Public Hospital & $\\dots$ \\\\\n",
       "\t28 & Belfast South & St George's Hospital & NGO Hospital & $\\dots$ \\\\\n",
       "\t29 & Ben Mcleod & Ashburton Hospital & Public Hospital & $\\dots$ \\\\\n",
       "\t30 & Bexley & Burwood Hospital & Public Hospital & $\\dots$ \\\\\n",
       "\t$\\dots$ & $\\dots$ & $\\dots$ & $\\dots$ &  \\\\\n",
       "\\end{tabular}\n"
      ],
      "text/plain": [
       "\u001b[1m245×15 DataFrame\u001b[0m\n",
       "\u001b[1m Row \u001b[0m│\u001b[1m Area_Unit              \u001b[0m\u001b[1m Hospital_Name                  \u001b[0m\u001b[1m Certification_S\u001b[0m ⋯\n",
       "\u001b[1m     \u001b[0m│\u001b[90m String                 \u001b[0m\u001b[90m String                         \u001b[0m\u001b[90m String         \u001b[0m ⋯\n",
       "─────┼──────────────────────────────────────────────────────────────────────────\n",
       "   1 │ Addington               Christchurch Hospital           Public Hospital ⋯\n",
       "   2 │ Aidanfield              Hillmorton Hospital             Public Hospital\n",
       "   3 │ Akaroa                  The Princess Margaret Hospital  Public Hospital\n",
       "   4 │ Akaroa Harbour          The Princess Margaret Hospital  Public Hospital\n",
       "   5 │ Allenton East           Ashburton Hospital              Public Hospital ⋯\n",
       "   6 │ Allenton West           Ashburton Hospital              Public Hospital\n",
       "   7 │ Amberley                Rangiora Hospital               Public Hospital\n",
       "   8 │ Amuri                   Waikari Hospital                Public Hospital\n",
       "   9 │ Aorangi                 St George's Hospital            NGO Hospital    ⋯\n",
       "  10 │ Aranui                  Burwood Hospital                Public Hospital\n",
       "  11 │ Ashburton Central East  Tuarangi Home                   Public Hospital\n",
       "  ⋮  │           ⋮                           ⋮                             ⋮   ⋱\n",
       " 236 │ Westmorland             The Princess Margaret Hospital  Public Hospital\n",
       " 237 │ Wharenui                Hillmorton Hospital             Public Hospital ⋯\n",
       " 238 │ Wigram                  Hillmorton Hospital             Public Hospital\n",
       " 239 │ Winchester              Hospice South Canterbury        NGO Hospital\n",
       " 240 │ Woodend                 Rangiora Hospital               Public Hospital\n",
       " 241 │ Woodend Beach           Rangiora Hospital               Public Hospital ⋯\n",
       " 242 │ Woodend West            Rangiora Hospital               Public Hospital\n",
       " 243 │ Woolston South          Forte Health Hospital           NGO Hospital\n",
       " 244 │ Woolston West           Forte Health Hospital           NGO Hospital\n",
       " 245 │ Yaldhurst               St George's Hospital            NGO Hospital    ⋯\n",
       "\u001b[36m                                                 13 columns and 224 rows omitted\u001b[0m"
      ]
     },
     "execution_count": 36,
     "metadata": {},
     "output_type": "execute_result"
    }
   ],
   "source": [
    "# Grouping by hospital name andd returning row of minimum value for the distance\n",
    "closest_hospital = combine(distance_df -> filter(:Distance => ==(minimum(distance_df.Distance)), distance_df), groupby(distance_df, :Area_Unit))"
   ]
  },
  {
   "cell_type": "markdown",
   "id": "4f7f709f",
   "metadata": {},
   "source": [
    "Now we can find what area unit a hospital is in, by grouping by hospital and finding the smallest distance from hospital to any area unit.\n",
    "NB: this is not as precise as checking if hospital in inside a certain boundary, as it is possible for a hospital to be in a certain Area Unit and still be closer to center of a different area unit. However we with the tools at our disposal, we are happy with this result. "
   ]
  },
  {
   "cell_type": "code",
   "execution_count": 37,
   "id": "f8b6d1d1",
   "metadata": {},
   "outputs": [
    {
     "data": {
      "text/html": [
       "<div class=\"data-frame\"><p>21 rows × 15 columns (omitted printing of 12 columns)</p><table class=\"data-frame\"><thead><tr><th></th><th>Hospital_Name</th><th>Certification_Service_Type</th><th>Service_Types</th></tr><tr><th></th><th title=\"String\">String</th><th title=\"String\">String</th><th title=\"String\">String</th></tr></thead><tbody><tr><th>1</th><td>Ashburton Hospital</td><td>Public Hospital</td><td>Medical, Maternity</td></tr><tr><th>2</th><td>Burwood Hospital</td><td>Public Hospital</td><td>Surgical, Geriatric, Psychogeriatric, Medical</td></tr><tr><th>3</th><td>Chatham Island Health Centre</td><td>Public Hospital</td><td>Medical</td></tr><tr><th>4</th><td>Christchurch Hospital</td><td>Public Hospital</td><td>Childrens health, Medical, Surgical, Maternity</td></tr><tr><th>5</th><td>Darfield Hospital</td><td>Public Hospital</td><td>Medical, Geriatric</td></tr><tr><th>6</th><td>Ellesmere Hospital</td><td>Public Hospital</td><td>Medical, Geriatric</td></tr><tr><th>7</th><td>Hillmorton Hospital</td><td>Public Hospital</td><td>Mental health</td></tr><tr><th>8</th><td>Kaikoura Hospital</td><td>Public Hospital</td><td>Medical, Maternity, Geriatric</td></tr><tr><th>9</th><td>Lincoln Maternity Hospital</td><td>Public Hospital</td><td>Maternity</td></tr><tr><th>10</th><td>Oxford Hospital</td><td>Public Hospital</td><td>Medical, Geriatric</td></tr><tr><th>11</th><td>Rangiora Hospital</td><td>Public Hospital</td><td>Medical, Maternity</td></tr><tr><th>12</th><td>The Princess Margaret Hospital</td><td>Public Hospital</td><td>Mental health</td></tr><tr><th>13</th><td>Tuarangi Home</td><td>Public Hospital</td><td>Geriatric, Dementia care, Medical</td></tr><tr><th>14</th><td>Waikari Hospital</td><td>Public Hospital</td><td>Medical, Geriatric</td></tr><tr><th>15</th><td>Timaru Hospital</td><td>Public Hospital</td><td>Childrens health, Maternity, Surgical, Medical, Mental health</td></tr><tr><th>16</th><td>Bidwill Trust Hospital</td><td>NGO Hospital</td><td>Surgical</td></tr><tr><th>17</th><td>Forte Health Hospital</td><td>NGO Hospital</td><td>Surgical</td></tr><tr><th>18</th><td>Nurse Maude Hospice</td><td>NGO Hospital</td><td>Medical</td></tr><tr><th>19</th><td>Hospice South Canterbury</td><td>NGO Hospital</td><td>Medical</td></tr><tr><th>20</th><td>Southern Cross Hospital Christchurch</td><td>NGO Hospital</td><td>Medical, Surgical</td></tr><tr><th>21</th><td>St George&apos;s Hospital</td><td>NGO Hospital</td><td>Maternity, Surgical</td></tr></tbody></table></div>"
      ],
      "text/latex": [
       "\\begin{tabular}{r|cccc}\n",
       "\t& Hospital\\_Name & Certification\\_Service\\_Type & Service\\_Types & \\\\\n",
       "\t\\hline\n",
       "\t& String & String & String & \\\\\n",
       "\t\\hline\n",
       "\t1 & Ashburton Hospital & Public Hospital & Medical, Maternity & $\\dots$ \\\\\n",
       "\t2 & Burwood Hospital & Public Hospital & Surgical, Geriatric, Psychogeriatric, Medical & $\\dots$ \\\\\n",
       "\t3 & Chatham Island Health Centre & Public Hospital & Medical & $\\dots$ \\\\\n",
       "\t4 & Christchurch Hospital & Public Hospital & Childrens health, Medical, Surgical, Maternity & $\\dots$ \\\\\n",
       "\t5 & Darfield Hospital & Public Hospital & Medical, Geriatric & $\\dots$ \\\\\n",
       "\t6 & Ellesmere Hospital & Public Hospital & Medical, Geriatric & $\\dots$ \\\\\n",
       "\t7 & Hillmorton Hospital & Public Hospital & Mental health & $\\dots$ \\\\\n",
       "\t8 & Kaikoura Hospital & Public Hospital & Medical, Maternity, Geriatric & $\\dots$ \\\\\n",
       "\t9 & Lincoln Maternity Hospital & Public Hospital & Maternity & $\\dots$ \\\\\n",
       "\t10 & Oxford Hospital & Public Hospital & Medical, Geriatric & $\\dots$ \\\\\n",
       "\t11 & Rangiora Hospital & Public Hospital & Medical, Maternity & $\\dots$ \\\\\n",
       "\t12 & The Princess Margaret Hospital & Public Hospital & Mental health & $\\dots$ \\\\\n",
       "\t13 & Tuarangi Home & Public Hospital & Geriatric, Dementia care, Medical & $\\dots$ \\\\\n",
       "\t14 & Waikari Hospital & Public Hospital & Medical, Geriatric & $\\dots$ \\\\\n",
       "\t15 & Timaru Hospital & Public Hospital & Childrens health, Maternity, Surgical, Medical, Mental health & $\\dots$ \\\\\n",
       "\t16 & Bidwill Trust Hospital & NGO Hospital & Surgical & $\\dots$ \\\\\n",
       "\t17 & Forte Health Hospital & NGO Hospital & Surgical & $\\dots$ \\\\\n",
       "\t18 & Nurse Maude Hospice & NGO Hospital & Medical & $\\dots$ \\\\\n",
       "\t19 & Hospice South Canterbury & NGO Hospital & Medical & $\\dots$ \\\\\n",
       "\t20 & Southern Cross Hospital Christchurch & NGO Hospital & Medical, Surgical & $\\dots$ \\\\\n",
       "\t21 & St George's Hospital & NGO Hospital & Maternity, Surgical & $\\dots$ \\\\\n",
       "\\end{tabular}\n"
      ],
      "text/plain": [
       "\u001b[1m21×15 DataFrame\u001b[0m\n",
       "\u001b[1m Row \u001b[0m│\u001b[1m Hospital_Name                     \u001b[0m\u001b[1m Certification_Service_Type \u001b[0m\u001b[1m Service_\u001b[0m ⋯\n",
       "\u001b[1m     \u001b[0m│\u001b[90m String                            \u001b[0m\u001b[90m String                     \u001b[0m\u001b[90m String  \u001b[0m ⋯\n",
       "─────┼──────────────────────────────────────────────────────────────────────────\n",
       "   1 │ Ashburton Hospital                 Public Hospital             Medical, ⋯\n",
       "   2 │ Burwood Hospital                   Public Hospital             Surgical\n",
       "   3 │ Chatham Island Health Centre       Public Hospital             Medical\n",
       "   4 │ Christchurch Hospital              Public Hospital             Children\n",
       "   5 │ Darfield Hospital                  Public Hospital             Medical, ⋯\n",
       "   6 │ Ellesmere Hospital                 Public Hospital             Medical,\n",
       "   7 │ Hillmorton Hospital                Public Hospital             Mental h\n",
       "   8 │ Kaikoura Hospital                  Public Hospital             Medical,\n",
       "   9 │ Lincoln Maternity Hospital         Public Hospital             Maternit ⋯\n",
       "  10 │ Oxford Hospital                    Public Hospital             Medical,\n",
       "  11 │ Rangiora Hospital                  Public Hospital             Medical,\n",
       "  12 │ The Princess Margaret Hospital     Public Hospital             Mental h\n",
       "  13 │ Tuarangi Home                      Public Hospital             Geriatri ⋯\n",
       "  14 │ Waikari Hospital                   Public Hospital             Medical,\n",
       "  15 │ Timaru Hospital                    Public Hospital             Children\n",
       "  16 │ Bidwill Trust Hospital             NGO Hospital                Surgical\n",
       "  17 │ Forte Health Hospital              NGO Hospital                Surgical ⋯\n",
       "  18 │ Nurse Maude Hospice                NGO Hospital                Medical\n",
       "  19 │ Hospice South Canterbury           NGO Hospital                Medical\n",
       "  20 │ Southern Cross Hospital Christch…  NGO Hospital                Medical,\n",
       "  21 │ St George's Hospital               NGO Hospital                Maternit ⋯\n",
       "\u001b[36m                                                              13 columns omitted\u001b[0m"
      ]
     },
     "execution_count": 37,
     "metadata": {},
     "output_type": "execute_result"
    }
   ],
   "source": [
    "# Grouping by hospital name andd returning row of minimum value for the distance\n",
    "hospital_area_unit = combine(distance_df -> filter(:Distance => ==(minimum(distance_df.Distance)), distance_df), groupby(distance_df, :Hospital_Name))"
   ]
  },
  {
   "cell_type": "code",
   "execution_count": 38,
   "id": "dc71d0ab",
   "metadata": {},
   "outputs": [
    {
     "data": {
      "text/html": [
       "<div class=\"data-frame\"><p>21 rows × 3 columns</p><table class=\"data-frame\"><thead><tr><th></th><th>Hospital_Name</th><th>Area_Unit</th><th>Distance</th></tr><tr><th></th><th title=\"String\">String</th><th title=\"String\">String</th><th title=\"Float64\">Float64</th></tr></thead><tbody><tr><th>1</th><td>Ashburton Hospital</td><td>Allenton West</td><td>554.11</td></tr><tr><th>2</th><td>Burwood Hospital</td><td>Travis Wetland</td><td>586.853</td></tr><tr><th>3</th><td>Chatham Island Health Centre</td><td>Kaikoura Township</td><td>8.09089e5</td></tr><tr><th>4</th><td>Christchurch Hospital</td><td>Hagley Park</td><td>635.961</td></tr><tr><th>5</th><td>Darfield Hospital</td><td>Darfield</td><td>628.026</td></tr><tr><th>6</th><td>Ellesmere Hospital</td><td>Leeston</td><td>458.046</td></tr><tr><th>7</th><td>Hillmorton Hospital</td><td>Hillmorton</td><td>805.898</td></tr><tr><th>8</th><td>Kaikoura Hospital</td><td>Kaikoura Township</td><td>527.489</td></tr><tr><th>9</th><td>Lincoln Maternity Hospital</td><td>Lincoln</td><td>801.127</td></tr><tr><th>10</th><td>Oxford Hospital</td><td>Ashley Gorge</td><td>134.761</td></tr><tr><th>11</th><td>Rangiora Hospital</td><td>Kingsbury</td><td>466.058</td></tr><tr><th>12</th><td>The Princess Margaret Hospital</td><td>Hoon Hay South</td><td>632.407</td></tr><tr><th>13</th><td>Tuarangi Home</td><td>Ashburton Central East</td><td>231.846</td></tr><tr><th>14</th><td>Waikari Hospital</td><td>Hurunui</td><td>12321.2</td></tr><tr><th>15</th><td>Timaru Hospital</td><td>Timaru Gardens</td><td>663.552</td></tr><tr><th>16</th><td>Bidwill Trust Hospital</td><td>Seaview</td><td>404.302</td></tr><tr><th>17</th><td>Forte Health Hospital</td><td>Avon Loop</td><td>451.537</td></tr><tr><th>18</th><td>Nurse Maude Hospice</td><td>Merivale</td><td>624.333</td></tr><tr><th>19</th><td>Hospice South Canterbury</td><td>Glenwood</td><td>485.35</td></tr><tr><th>20</th><td>Southern Cross Hospital Christchurch</td><td>St Albans West</td><td>541.243</td></tr><tr><th>21</th><td>St George&apos;s Hospital</td><td>Strowan</td><td>745.39</td></tr></tbody></table></div>"
      ],
      "text/latex": [
       "\\begin{tabular}{r|ccc}\n",
       "\t& Hospital\\_Name & Area\\_Unit & Distance\\\\\n",
       "\t\\hline\n",
       "\t& String & String & Float64\\\\\n",
       "\t\\hline\n",
       "\t1 & Ashburton Hospital & Allenton West & 554.11 \\\\\n",
       "\t2 & Burwood Hospital & Travis Wetland & 586.853 \\\\\n",
       "\t3 & Chatham Island Health Centre & Kaikoura Township & 8.09089e5 \\\\\n",
       "\t4 & Christchurch Hospital & Hagley Park & 635.961 \\\\\n",
       "\t5 & Darfield Hospital & Darfield & 628.026 \\\\\n",
       "\t6 & Ellesmere Hospital & Leeston & 458.046 \\\\\n",
       "\t7 & Hillmorton Hospital & Hillmorton & 805.898 \\\\\n",
       "\t8 & Kaikoura Hospital & Kaikoura Township & 527.489 \\\\\n",
       "\t9 & Lincoln Maternity Hospital & Lincoln & 801.127 \\\\\n",
       "\t10 & Oxford Hospital & Ashley Gorge & 134.761 \\\\\n",
       "\t11 & Rangiora Hospital & Kingsbury & 466.058 \\\\\n",
       "\t12 & The Princess Margaret Hospital & Hoon Hay South & 632.407 \\\\\n",
       "\t13 & Tuarangi Home & Ashburton Central East & 231.846 \\\\\n",
       "\t14 & Waikari Hospital & Hurunui & 12321.2 \\\\\n",
       "\t15 & Timaru Hospital & Timaru Gardens & 663.552 \\\\\n",
       "\t16 & Bidwill Trust Hospital & Seaview & 404.302 \\\\\n",
       "\t17 & Forte Health Hospital & Avon Loop & 451.537 \\\\\n",
       "\t18 & Nurse Maude Hospice & Merivale & 624.333 \\\\\n",
       "\t19 & Hospice South Canterbury & Glenwood & 485.35 \\\\\n",
       "\t20 & Southern Cross Hospital Christchurch & St Albans West & 541.243 \\\\\n",
       "\t21 & St George's Hospital & Strowan & 745.39 \\\\\n",
       "\\end{tabular}\n"
      ],
      "text/plain": [
       "\u001b[1m21×3 DataFrame\u001b[0m\n",
       "\u001b[1m Row \u001b[0m│\u001b[1m Hospital_Name                     \u001b[0m\u001b[1m Area_Unit              \u001b[0m\u001b[1m Distance    \u001b[0m ⋯\n",
       "\u001b[1m     \u001b[0m│\u001b[90m String                            \u001b[0m\u001b[90m String                 \u001b[0m\u001b[90m Float64     \u001b[0m ⋯\n",
       "─────┼──────────────────────────────────────────────────────────────────────────\n",
       "   1 │ Ashburton Hospital                 Allenton West             554.11     ⋯\n",
       "   2 │ Burwood Hospital                   Travis Wetland            586.853\n",
       "   3 │ Chatham Island Health Centre       Kaikoura Township           8.09089e\n",
       "   4 │ Christchurch Hospital              Hagley Park               635.961\n",
       "   5 │ Darfield Hospital                  Darfield                  628.026    ⋯\n",
       "   6 │ Ellesmere Hospital                 Leeston                   458.046\n",
       "   7 │ Hillmorton Hospital                Hillmorton                805.898\n",
       "   8 │ Kaikoura Hospital                  Kaikoura Township         527.489\n",
       "   9 │ Lincoln Maternity Hospital         Lincoln                   801.127    ⋯\n",
       "  10 │ Oxford Hospital                    Ashley Gorge              134.761\n",
       "  11 │ Rangiora Hospital                  Kingsbury                 466.058\n",
       "  12 │ The Princess Margaret Hospital     Hoon Hay South            632.407\n",
       "  13 │ Tuarangi Home                      Ashburton Central East    231.846    ⋯\n",
       "  14 │ Waikari Hospital                   Hurunui                 12321.2\n",
       "  15 │ Timaru Hospital                    Timaru Gardens            663.552\n",
       "  16 │ Bidwill Trust Hospital             Seaview                   404.302\n",
       "  17 │ Forte Health Hospital              Avon Loop                 451.537    ⋯\n",
       "  18 │ Nurse Maude Hospice                Merivale                  624.333\n",
       "  19 │ Hospice South Canterbury           Glenwood                  485.35\n",
       "  20 │ Southern Cross Hospital Christch…  St Albans West            541.243\n",
       "  21 │ St George's Hospital               Strowan                   745.39     ⋯\n",
       "\u001b[36m                                                                1 column omitted\u001b[0m"
      ]
     },
     "execution_count": 38,
     "metadata": {},
     "output_type": "execute_result"
    }
   ],
   "source": [
    "# Show selected columns \n",
    "hospital_area_unit[!, [:Hospital_Name, :Area_Unit, :Distance]]"
   ]
  },
  {
   "cell_type": "code",
   "execution_count": 42,
   "id": "ef0de945",
   "metadata": {},
   "outputs": [
    {
     "data": {
      "text/plain": [
       "\"Hospitals\""
      ]
     },
     "execution_count": 42,
     "metadata": {},
     "output_type": "execute_result"
    }
   ],
   "source": [
    "CSV.write(\"Area Unit Hospitals\", closest_hospital)\n",
    "CSV.write(\"Hospitals\", hospital_area_unit)"
   ]
  },
  {
   "cell_type": "code",
   "execution_count": null,
   "id": "e9c6b699",
   "metadata": {},
   "outputs": [],
   "source": []
  }
 ],
 "metadata": {
  "kernelspec": {
   "display_name": "Julia 1.6.1",
   "language": "julia",
   "name": "julia-1.6"
  },
  "language_info": {
   "file_extension": ".jl",
   "mimetype": "application/julia",
   "name": "julia",
   "version": "1.6.1"
  }
 },
 "nbformat": 4,
 "nbformat_minor": 5
}
