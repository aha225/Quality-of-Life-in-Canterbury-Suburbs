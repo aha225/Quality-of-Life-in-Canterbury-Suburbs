{
 "cells": [
  {
   "cell_type": "markdown",
   "id": "dc01d520",
   "metadata": {},
   "source": [
    "## Crime Table Processing"
   ]
  },
  {
   "cell_type": "markdown",
   "id": "8be71aab",
   "metadata": {},
   "source": [
    "#### The purpose of this notebook is to process the Crime Records table from NZ Police's victimisation records into the Crime table presented in the relational dataset. Then, crime information will be aggregated for each area unit, and this aggregated information will be joined to the main Area Unit Summary table."
   ]
  },
  {
   "cell_type": "markdown",
   "id": "f432f77f",
   "metadata": {},
   "source": [
    "Loading relevant libraries."
   ]
  },
  {
   "cell_type": "code",
   "execution_count": 1,
   "id": "ead5d061",
   "metadata": {},
   "outputs": [
    {
     "name": "stderr",
     "output_type": "stream",
     "text": [
      "-- \u001b[1mAttaching packages\u001b[22m ------------------------------------------------------------------------------- tidyverse 1.3.1 --\n",
      "\n",
      "\u001b[32mv\u001b[39m \u001b[34mggplot2\u001b[39m 3.3.5     \u001b[32mv\u001b[39m \u001b[34mpurrr  \u001b[39m 0.3.4\n",
      "\u001b[32mv\u001b[39m \u001b[34mtibble \u001b[39m 3.1.3     \u001b[32mv\u001b[39m \u001b[34mdplyr  \u001b[39m 1.0.7\n",
      "\u001b[32mv\u001b[39m \u001b[34mtidyr  \u001b[39m 1.1.3     \u001b[32mv\u001b[39m \u001b[34mstringr\u001b[39m 1.4.0\n",
      "\u001b[32mv\u001b[39m \u001b[34mreadr  \u001b[39m 2.0.0     \u001b[32mv\u001b[39m \u001b[34mforcats\u001b[39m 0.5.1\n",
      "\n",
      "Warning message:\n",
      "\"package 'stringr' was built under R version 4.1.1\"\n",
      "-- \u001b[1mConflicts\u001b[22m ---------------------------------------------------------------------------------- tidyverse_conflicts() --\n",
      "\u001b[31mx\u001b[39m \u001b[34mdplyr\u001b[39m::\u001b[32mfilter()\u001b[39m masks \u001b[34mstats\u001b[39m::filter()\n",
      "\u001b[31mx\u001b[39m \u001b[34mdplyr\u001b[39m::\u001b[32mlag()\u001b[39m    masks \u001b[34mstats\u001b[39m::lag()\n",
      "\n"
     ]
    }
   ],
   "source": [
    "library(tidyverse)\n",
    "library(dplyr)\n",
    "library(ggplot2)"
   ]
  },
  {
   "cell_type": "markdown",
   "id": "618912a6",
   "metadata": {},
   "source": [
    "Reading in the NZ Police victimisation record csv."
   ]
  },
  {
   "cell_type": "code",
   "execution_count": 2,
   "id": "40f253ba-8488-4fb0-9f4e-62af8954a22f",
   "metadata": {},
   "outputs": [
    {
     "name": "stderr",
     "output_type": "stream",
     "text": [
      "\u001b[1m\u001b[1mRows: \u001b[1m\u001b[22m\u001b[34m\u001b[34m15112\u001b[34m\u001b[39m \u001b[1m\u001b[1mColumns: \u001b[1m\u001b[22m\u001b[34m\u001b[34m14\u001b[34m\u001b[39m\n",
      "\n",
      "\u001b[36m--\u001b[39m \u001b[1m\u001b[1mColumn specification\u001b[1m\u001b[22m \u001b[36m------------------------------------------------------------------------------------------------\u001b[39m\n",
      "\u001b[1mDelimiter:\u001b[22m \",\"\n",
      "\u001b[31mchr\u001b[39m (10): Occurrence Day Of Week, ANZSOC Division, Map Detail Name, ANZSOC G...\n",
      "\u001b[32mdbl\u001b[39m  (4): Hour, Occurrence Hour Of Day, Mb2014, Number of Victimisations\n",
      "\n",
      "\n",
      "\u001b[36mi\u001b[39m Use \u001b[30m\u001b[47m\u001b[30m\u001b[47m`spec()`\u001b[47m\u001b[30m\u001b[49m\u001b[39m to retrieve the full column specification for this data.\n",
      "\u001b[36mi\u001b[39m Specify the column types or set \u001b[30m\u001b[47m\u001b[30m\u001b[47m`show_col_types = FALSE`\u001b[47m\u001b[30m\u001b[49m\u001b[39m to quiet this message.\n",
      "\n"
     ]
    }
   ],
   "source": [
    "crime <- read_csv(file = \"Crime2021.csv\")"
   ]
  },
  {
   "cell_type": "markdown",
   "id": "de32aa90",
   "metadata": {},
   "source": [
    "Observing the columns in the csv file using th glimpse function."
   ]
  },
  {
   "cell_type": "code",
   "execution_count": 3,
   "id": "8ab0b348-9f9c-484e-8097-b456ede33678",
   "metadata": {},
   "outputs": [
    {
     "name": "stdout",
     "output_type": "stream",
     "text": [
      "Rows: 15,112\n",
      "Columns: 14\n",
      "$ Hour                       \u001b[3m\u001b[90m<dbl>\u001b[39m\u001b[23m 13, 16, 0, 4, 15, 14, 19, 16, 11, 11, 22, 2~\n",
      "$ `Occurrence Day Of Week`   \u001b[3m\u001b[90m<chr>\u001b[39m\u001b[23m \"Sat\", \"Fri\", \"Wed\", \"Fri\", \"Mon\", \"Sat\", \"~\n",
      "$ `ANZSOC Division`          \u001b[3m\u001b[90m<chr>\u001b[39m\u001b[23m \"Abduction, Harassment and Other Related Of~\n",
      "$ `Map Detail Name`          \u001b[3m\u001b[90m<chr>\u001b[39m\u001b[23m \"Christchurch City\", \"Christchurch City\", \"~\n",
      "$ `ANZSOC Group`             \u001b[3m\u001b[90m<chr>\u001b[39m\u001b[23m \"Abduction and Kidnapping\", \"Serious Assaul~\n",
      "$ `Area Unit`                \u001b[3m\u001b[90m<chr>\u001b[39m\u001b[23m \"Sydenham.\", \"Avon-Heathcote Estuary.\", \"Sy~\n",
      "$ `Occurrence Hour Of Day`   \u001b[3m\u001b[90m<dbl>\u001b[39m\u001b[23m 13, 16, 0, 4, 15, 14, 19, 16, 11, 11, 22, 2~\n",
      "$ Region                     \u001b[3m\u001b[90m<chr>\u001b[39m\u001b[23m \"Canterbury Region\", \"Canterbury Region\", \"~\n",
      "$ `Territorial Authority`    \u001b[3m\u001b[90m<chr>\u001b[39m\u001b[23m \"Christchurch City.\", \"Christchurch City.\",~\n",
      "$ `Year Month`               \u001b[3m\u001b[90m<chr>\u001b[39m\u001b[23m \"1/02/2021\", \"1/08/2021\", \"1/08/2021\", \"1/0~\n",
      "$ Mb2014                     \u001b[3m\u001b[90m<dbl>\u001b[39m\u001b[23m 2621701, NA, 2617300, 2629204, NA, 2594400,~\n",
      "$ `REGC2014 label`           \u001b[3m\u001b[90m<chr>\u001b[39m\u001b[23m \"Canterbury Region\", \"Canterbury Region\", \"~\n",
      "$ `Ta2014 Nam`               \u001b[3m\u001b[90m<chr>\u001b[39m\u001b[23m \"Christchurch City\", \"Christchurch City\", \"~\n",
      "$ `Number of Victimisations` \u001b[3m\u001b[90m<dbl>\u001b[39m\u001b[23m 1, 1, 1, 1, 1, 1, 1, 1, 1, 1, 1, 1, 1, 1, 1~\n"
     ]
    }
   ],
   "source": [
    "glimpse(crime)"
   ]
  },
  {
   "cell_type": "markdown",
   "id": "76b522fe",
   "metadata": {},
   "source": [
    "Selecting the relevant columns using the select function and viewing the first six rows of the new data frame using the head function."
   ]
  },
  {
   "cell_type": "code",
   "execution_count": 4,
   "id": "9b7c0b36",
   "metadata": {},
   "outputs": [
    {
     "data": {
      "text/html": [
       "<table class=\"dataframe\">\n",
       "<caption>A tibble: 6 × 6</caption>\n",
       "<thead>\n",
       "\t<tr><th scope=col>Hour</th><th scope=col>Occurrence Day Of Week</th><th scope=col>ANZSOC Division</th><th scope=col>Area Unit</th><th scope=col>Year Month</th><th scope=col>Number of Victimisations</th></tr>\n",
       "\t<tr><th scope=col>&lt;dbl&gt;</th><th scope=col>&lt;chr&gt;</th><th scope=col>&lt;chr&gt;</th><th scope=col>&lt;chr&gt;</th><th scope=col>&lt;chr&gt;</th><th scope=col>&lt;dbl&gt;</th></tr>\n",
       "</thead>\n",
       "<tbody>\n",
       "\t<tr><td>13</td><td>Sat</td><td>Abduction, Harassment and Other Related Offences Against a Person</td><td>Sydenham.              </td><td>1/02/2021</td><td>1</td></tr>\n",
       "\t<tr><td>16</td><td>Fri</td><td>Acts Intended to Cause Injury                                    </td><td>Avon-Heathcote Estuary.</td><td>1/08/2021</td><td>1</td></tr>\n",
       "\t<tr><td> 0</td><td>Wed</td><td>Abduction, Harassment and Other Related Offences Against a Person</td><td>Sydenham.              </td><td>1/08/2021</td><td>1</td></tr>\n",
       "\t<tr><td> 4</td><td>Fri</td><td>Unlawful Entry With Intent/Burglary, Break and Enter             </td><td>Middleton.             </td><td>1/08/2021</td><td>1</td></tr>\n",
       "\t<tr><td>15</td><td>Mon</td><td>Theft and Related Offences                                       </td><td>Avon-Heathcote Estuary.</td><td>1/02/2021</td><td>1</td></tr>\n",
       "\t<tr><td>14</td><td>Sat</td><td>Abduction, Harassment and Other Related Offences Against a Person</td><td>Shirley West.          </td><td>1/02/2021</td><td>1</td></tr>\n",
       "</tbody>\n",
       "</table>\n"
      ],
      "text/latex": [
       "A tibble: 6 × 6\n",
       "\\begin{tabular}{llllll}\n",
       " Hour & Occurrence Day Of Week & ANZSOC Division & Area Unit & Year Month & Number of Victimisations\\\\\n",
       " <dbl> & <chr> & <chr> & <chr> & <chr> & <dbl>\\\\\n",
       "\\hline\n",
       "\t 13 & Sat & Abduction, Harassment and Other Related Offences Against a Person & Sydenham.               & 1/02/2021 & 1\\\\\n",
       "\t 16 & Fri & Acts Intended to Cause Injury                                     & Avon-Heathcote Estuary. & 1/08/2021 & 1\\\\\n",
       "\t  0 & Wed & Abduction, Harassment and Other Related Offences Against a Person & Sydenham.               & 1/08/2021 & 1\\\\\n",
       "\t  4 & Fri & Unlawful Entry With Intent/Burglary, Break and Enter              & Middleton.              & 1/08/2021 & 1\\\\\n",
       "\t 15 & Mon & Theft and Related Offences                                        & Avon-Heathcote Estuary. & 1/02/2021 & 1\\\\\n",
       "\t 14 & Sat & Abduction, Harassment and Other Related Offences Against a Person & Shirley West.           & 1/02/2021 & 1\\\\\n",
       "\\end{tabular}\n"
      ],
      "text/markdown": [
       "\n",
       "A tibble: 6 × 6\n",
       "\n",
       "| Hour &lt;dbl&gt; | Occurrence Day Of Week &lt;chr&gt; | ANZSOC Division &lt;chr&gt; | Area Unit &lt;chr&gt; | Year Month &lt;chr&gt; | Number of Victimisations &lt;dbl&gt; |\n",
       "|---|---|---|---|---|---|\n",
       "| 13 | Sat | Abduction, Harassment and Other Related Offences Against a Person | Sydenham.               | 1/02/2021 | 1 |\n",
       "| 16 | Fri | Acts Intended to Cause Injury                                     | Avon-Heathcote Estuary. | 1/08/2021 | 1 |\n",
       "|  0 | Wed | Abduction, Harassment and Other Related Offences Against a Person | Sydenham.               | 1/08/2021 | 1 |\n",
       "|  4 | Fri | Unlawful Entry With Intent/Burglary, Break and Enter              | Middleton.              | 1/08/2021 | 1 |\n",
       "| 15 | Mon | Theft and Related Offences                                        | Avon-Heathcote Estuary. | 1/02/2021 | 1 |\n",
       "| 14 | Sat | Abduction, Harassment and Other Related Offences Against a Person | Shirley West.           | 1/02/2021 | 1 |\n",
       "\n"
      ],
      "text/plain": [
       "  Hour Occurrence Day Of Week\n",
       "1 13   Sat                   \n",
       "2 16   Fri                   \n",
       "3  0   Wed                   \n",
       "4  4   Fri                   \n",
       "5 15   Mon                   \n",
       "6 14   Sat                   \n",
       "  ANZSOC Division                                                  \n",
       "1 Abduction, Harassment and Other Related Offences Against a Person\n",
       "2 Acts Intended to Cause Injury                                    \n",
       "3 Abduction, Harassment and Other Related Offences Against a Person\n",
       "4 Unlawful Entry With Intent/Burglary, Break and Enter             \n",
       "5 Theft and Related Offences                                       \n",
       "6 Abduction, Harassment and Other Related Offences Against a Person\n",
       "  Area Unit               Year Month Number of Victimisations\n",
       "1 Sydenham.               1/02/2021  1                       \n",
       "2 Avon-Heathcote Estuary. 1/08/2021  1                       \n",
       "3 Sydenham.               1/08/2021  1                       \n",
       "4 Middleton.              1/08/2021  1                       \n",
       "5 Avon-Heathcote Estuary. 1/02/2021  1                       \n",
       "6 Shirley West.           1/02/2021  1                       "
      ]
     },
     "metadata": {},
     "output_type": "display_data"
    }
   ],
   "source": [
    "crime <- crime %>%\n",
    "          select(1, 2, 3, 6, 10, 14) \n",
    "head(crime)"
   ]
  },
  {
   "cell_type": "markdown",
   "id": "598e7483",
   "metadata": {},
   "source": [
    "Renaming the column names to be more interpretable using the rename function."
   ]
  },
  {
   "cell_type": "code",
   "execution_count": 5,
   "id": "a899410b",
   "metadata": {},
   "outputs": [
    {
     "data": {
      "text/html": [
       "<table class=\"dataframe\">\n",
       "<caption>A tibble: 6 × 6</caption>\n",
       "<thead>\n",
       "\t<tr><th scope=col>HourOfDay</th><th scope=col>DayOfWeek</th><th scope=col>CrimeType</th><th scope=col>AreaUnit</th><th scope=col>MonthYear</th><th scope=col>Victimisations</th></tr>\n",
       "\t<tr><th scope=col>&lt;dbl&gt;</th><th scope=col>&lt;chr&gt;</th><th scope=col>&lt;chr&gt;</th><th scope=col>&lt;chr&gt;</th><th scope=col>&lt;chr&gt;</th><th scope=col>&lt;dbl&gt;</th></tr>\n",
       "</thead>\n",
       "<tbody>\n",
       "\t<tr><td>13</td><td>Sat</td><td>Abduction, Harassment and Other Related Offences Against a Person</td><td>Sydenham.              </td><td>1/02/2021</td><td>1</td></tr>\n",
       "\t<tr><td>16</td><td>Fri</td><td>Acts Intended to Cause Injury                                    </td><td>Avon-Heathcote Estuary.</td><td>1/08/2021</td><td>1</td></tr>\n",
       "\t<tr><td> 0</td><td>Wed</td><td>Abduction, Harassment and Other Related Offences Against a Person</td><td>Sydenham.              </td><td>1/08/2021</td><td>1</td></tr>\n",
       "\t<tr><td> 4</td><td>Fri</td><td>Unlawful Entry With Intent/Burglary, Break and Enter             </td><td>Middleton.             </td><td>1/08/2021</td><td>1</td></tr>\n",
       "\t<tr><td>15</td><td>Mon</td><td>Theft and Related Offences                                       </td><td>Avon-Heathcote Estuary.</td><td>1/02/2021</td><td>1</td></tr>\n",
       "\t<tr><td>14</td><td>Sat</td><td>Abduction, Harassment and Other Related Offences Against a Person</td><td>Shirley West.          </td><td>1/02/2021</td><td>1</td></tr>\n",
       "</tbody>\n",
       "</table>\n"
      ],
      "text/latex": [
       "A tibble: 6 × 6\n",
       "\\begin{tabular}{llllll}\n",
       " HourOfDay & DayOfWeek & CrimeType & AreaUnit & MonthYear & Victimisations\\\\\n",
       " <dbl> & <chr> & <chr> & <chr> & <chr> & <dbl>\\\\\n",
       "\\hline\n",
       "\t 13 & Sat & Abduction, Harassment and Other Related Offences Against a Person & Sydenham.               & 1/02/2021 & 1\\\\\n",
       "\t 16 & Fri & Acts Intended to Cause Injury                                     & Avon-Heathcote Estuary. & 1/08/2021 & 1\\\\\n",
       "\t  0 & Wed & Abduction, Harassment and Other Related Offences Against a Person & Sydenham.               & 1/08/2021 & 1\\\\\n",
       "\t  4 & Fri & Unlawful Entry With Intent/Burglary, Break and Enter              & Middleton.              & 1/08/2021 & 1\\\\\n",
       "\t 15 & Mon & Theft and Related Offences                                        & Avon-Heathcote Estuary. & 1/02/2021 & 1\\\\\n",
       "\t 14 & Sat & Abduction, Harassment and Other Related Offences Against a Person & Shirley West.           & 1/02/2021 & 1\\\\\n",
       "\\end{tabular}\n"
      ],
      "text/markdown": [
       "\n",
       "A tibble: 6 × 6\n",
       "\n",
       "| HourOfDay &lt;dbl&gt; | DayOfWeek &lt;chr&gt; | CrimeType &lt;chr&gt; | AreaUnit &lt;chr&gt; | MonthYear &lt;chr&gt; | Victimisations &lt;dbl&gt; |\n",
       "|---|---|---|---|---|---|\n",
       "| 13 | Sat | Abduction, Harassment and Other Related Offences Against a Person | Sydenham.               | 1/02/2021 | 1 |\n",
       "| 16 | Fri | Acts Intended to Cause Injury                                     | Avon-Heathcote Estuary. | 1/08/2021 | 1 |\n",
       "|  0 | Wed | Abduction, Harassment and Other Related Offences Against a Person | Sydenham.               | 1/08/2021 | 1 |\n",
       "|  4 | Fri | Unlawful Entry With Intent/Burglary, Break and Enter              | Middleton.              | 1/08/2021 | 1 |\n",
       "| 15 | Mon | Theft and Related Offences                                        | Avon-Heathcote Estuary. | 1/02/2021 | 1 |\n",
       "| 14 | Sat | Abduction, Harassment and Other Related Offences Against a Person | Shirley West.           | 1/02/2021 | 1 |\n",
       "\n"
      ],
      "text/plain": [
       "  HourOfDay DayOfWeek\n",
       "1 13        Sat      \n",
       "2 16        Fri      \n",
       "3  0        Wed      \n",
       "4  4        Fri      \n",
       "5 15        Mon      \n",
       "6 14        Sat      \n",
       "  CrimeType                                                        \n",
       "1 Abduction, Harassment and Other Related Offences Against a Person\n",
       "2 Acts Intended to Cause Injury                                    \n",
       "3 Abduction, Harassment and Other Related Offences Against a Person\n",
       "4 Unlawful Entry With Intent/Burglary, Break and Enter             \n",
       "5 Theft and Related Offences                                       \n",
       "6 Abduction, Harassment and Other Related Offences Against a Person\n",
       "  AreaUnit                MonthYear Victimisations\n",
       "1 Sydenham.               1/02/2021 1             \n",
       "2 Avon-Heathcote Estuary. 1/08/2021 1             \n",
       "3 Sydenham.               1/08/2021 1             \n",
       "4 Middleton.              1/08/2021 1             \n",
       "5 Avon-Heathcote Estuary. 1/02/2021 1             \n",
       "6 Shirley West.           1/02/2021 1             "
      ]
     },
     "metadata": {},
     "output_type": "display_data"
    }
   ],
   "source": [
    "crime <-  crime %>%\n",
    "          rename(AreaUnit = 4, MonthYear = 5, CrimeType = 3, DayOfWeek = 2, HourOfDay = 1, Victimisations = 6)\n",
    "head(crime)"
   ]
  },
  {
   "cell_type": "markdown",
   "id": "37e7ceaa",
   "metadata": {},
   "source": [
    "The MonthYear columns contains entries which resemble a date. However, the date is obsolete as it just represents the date all the crime records from the previous months were updated by the police department. Thus, only the month and year component is useful. So, this column is split into separate Month and Year columns in the cell below. Using the mutate function, the Year and Month columns are created based on the values in the MonthYear colum. The values for the Year column is extracted by the substring function indexing the sixth to ninth values in the MonthYear column entries. The values for the Month column is extracted by the substring function indexing the third to fourth values in the MonthYear column entries. "
   ]
  },
  {
   "cell_type": "code",
   "execution_count": 6,
   "id": "6b2a6ce5",
   "metadata": {},
   "outputs": [],
   "source": [
    "final_crime <- crime %>%\n",
    "                  mutate(Year = substr(MonthYear, 6, 9)) %>%\n",
    "                  mutate(Month = substr(MonthYear, 3, 4)) %>%\n",
    "                  select(c(-MonthYear))"
   ]
  },
  {
   "cell_type": "markdown",
   "id": "acb7e775",
   "metadata": {},
   "source": [
    "The Area Unit column entries have an unnecessary \".\" symbol at the end. This is removed using the mutate function to access the entries of the Area Unit column and using the str_remove function to remove the \".\" string from each entry."
   ]
  },
  {
   "cell_type": "code",
   "execution_count": 7,
   "id": "7116c9ce",
   "metadata": {},
   "outputs": [],
   "source": [
    "final_crime <- final_crime %>%\n",
    "                 mutate(AreaUnit = str_remove(AreaUnit, '[.]'))"
   ]
  },
  {
   "cell_type": "markdown",
   "id": "cc905f3b",
   "metadata": {},
   "source": [
    "The Year, Month and HourOfDay column column were transformed to the numeric data type."
   ]
  },
  {
   "cell_type": "code",
   "execution_count": 8,
   "id": "785759dc",
   "metadata": {},
   "outputs": [],
   "source": [
    "final_crime$Year <- as.numeric(final_crime$Year)\n",
    "final_crime$Month <- as.numeric(final_crime$Month)\n",
    "final_crime$HourOfDay <- as.numeric(final_crime$HourOfDay)"
   ]
  },
  {
   "cell_type": "markdown",
   "id": "371d875f",
   "metadata": {},
   "source": [
    "The crime table is now as follows."
   ]
  },
  {
   "cell_type": "code",
   "execution_count": 9,
   "id": "295697cb",
   "metadata": {},
   "outputs": [
    {
     "data": {
      "text/html": [
       "<table class=\"dataframe\">\n",
       "<caption>A tibble: 6 × 7</caption>\n",
       "<thead>\n",
       "\t<tr><th scope=col>HourOfDay</th><th scope=col>DayOfWeek</th><th scope=col>CrimeType</th><th scope=col>AreaUnit</th><th scope=col>Victimisations</th><th scope=col>Year</th><th scope=col>Month</th></tr>\n",
       "\t<tr><th scope=col>&lt;dbl&gt;</th><th scope=col>&lt;chr&gt;</th><th scope=col>&lt;chr&gt;</th><th scope=col>&lt;chr&gt;</th><th scope=col>&lt;dbl&gt;</th><th scope=col>&lt;dbl&gt;</th><th scope=col>&lt;dbl&gt;</th></tr>\n",
       "</thead>\n",
       "<tbody>\n",
       "\t<tr><td>13</td><td>Sat</td><td>Abduction, Harassment and Other Related Offences Against a Person</td><td>Sydenham              </td><td>1</td><td>2021</td><td>2</td></tr>\n",
       "\t<tr><td>16</td><td>Fri</td><td>Acts Intended to Cause Injury                                    </td><td>Avon-Heathcote Estuary</td><td>1</td><td>2021</td><td>8</td></tr>\n",
       "\t<tr><td> 0</td><td>Wed</td><td>Abduction, Harassment and Other Related Offences Against a Person</td><td>Sydenham              </td><td>1</td><td>2021</td><td>8</td></tr>\n",
       "\t<tr><td> 4</td><td>Fri</td><td>Unlawful Entry With Intent/Burglary, Break and Enter             </td><td>Middleton             </td><td>1</td><td>2021</td><td>8</td></tr>\n",
       "\t<tr><td>15</td><td>Mon</td><td>Theft and Related Offences                                       </td><td>Avon-Heathcote Estuary</td><td>1</td><td>2021</td><td>2</td></tr>\n",
       "\t<tr><td>14</td><td>Sat</td><td>Abduction, Harassment and Other Related Offences Against a Person</td><td>Shirley West          </td><td>1</td><td>2021</td><td>2</td></tr>\n",
       "</tbody>\n",
       "</table>\n"
      ],
      "text/latex": [
       "A tibble: 6 × 7\n",
       "\\begin{tabular}{lllllll}\n",
       " HourOfDay & DayOfWeek & CrimeType & AreaUnit & Victimisations & Year & Month\\\\\n",
       " <dbl> & <chr> & <chr> & <chr> & <dbl> & <dbl> & <dbl>\\\\\n",
       "\\hline\n",
       "\t 13 & Sat & Abduction, Harassment and Other Related Offences Against a Person & Sydenham               & 1 & 2021 & 2\\\\\n",
       "\t 16 & Fri & Acts Intended to Cause Injury                                     & Avon-Heathcote Estuary & 1 & 2021 & 8\\\\\n",
       "\t  0 & Wed & Abduction, Harassment and Other Related Offences Against a Person & Sydenham               & 1 & 2021 & 8\\\\\n",
       "\t  4 & Fri & Unlawful Entry With Intent/Burglary, Break and Enter              & Middleton              & 1 & 2021 & 8\\\\\n",
       "\t 15 & Mon & Theft and Related Offences                                        & Avon-Heathcote Estuary & 1 & 2021 & 2\\\\\n",
       "\t 14 & Sat & Abduction, Harassment and Other Related Offences Against a Person & Shirley West           & 1 & 2021 & 2\\\\\n",
       "\\end{tabular}\n"
      ],
      "text/markdown": [
       "\n",
       "A tibble: 6 × 7\n",
       "\n",
       "| HourOfDay &lt;dbl&gt; | DayOfWeek &lt;chr&gt; | CrimeType &lt;chr&gt; | AreaUnit &lt;chr&gt; | Victimisations &lt;dbl&gt; | Year &lt;dbl&gt; | Month &lt;dbl&gt; |\n",
       "|---|---|---|---|---|---|---|\n",
       "| 13 | Sat | Abduction, Harassment and Other Related Offences Against a Person | Sydenham               | 1 | 2021 | 2 |\n",
       "| 16 | Fri | Acts Intended to Cause Injury                                     | Avon-Heathcote Estuary | 1 | 2021 | 8 |\n",
       "|  0 | Wed | Abduction, Harassment and Other Related Offences Against a Person | Sydenham               | 1 | 2021 | 8 |\n",
       "|  4 | Fri | Unlawful Entry With Intent/Burglary, Break and Enter              | Middleton              | 1 | 2021 | 8 |\n",
       "| 15 | Mon | Theft and Related Offences                                        | Avon-Heathcote Estuary | 1 | 2021 | 2 |\n",
       "| 14 | Sat | Abduction, Harassment and Other Related Offences Against a Person | Shirley West           | 1 | 2021 | 2 |\n",
       "\n"
      ],
      "text/plain": [
       "  HourOfDay DayOfWeek\n",
       "1 13        Sat      \n",
       "2 16        Fri      \n",
       "3  0        Wed      \n",
       "4  4        Fri      \n",
       "5 15        Mon      \n",
       "6 14        Sat      \n",
       "  CrimeType                                                        \n",
       "1 Abduction, Harassment and Other Related Offences Against a Person\n",
       "2 Acts Intended to Cause Injury                                    \n",
       "3 Abduction, Harassment and Other Related Offences Against a Person\n",
       "4 Unlawful Entry With Intent/Burglary, Break and Enter             \n",
       "5 Theft and Related Offences                                       \n",
       "6 Abduction, Harassment and Other Related Offences Against a Person\n",
       "  AreaUnit               Victimisations Year Month\n",
       "1 Sydenham               1              2021 2    \n",
       "2 Avon-Heathcote Estuary 1              2021 8    \n",
       "3 Sydenham               1              2021 8    \n",
       "4 Middleton              1              2021 8    \n",
       "5 Avon-Heathcote Estuary 1              2021 2    \n",
       "6 Shirley West           1              2021 2    "
      ]
     },
     "metadata": {},
     "output_type": "display_data"
    }
   ],
   "source": [
    "head(final_crime)"
   ]
  },
  {
   "cell_type": "markdown",
   "id": "970e3f4f",
   "metadata": {},
   "source": [
    "Next, we aim to find the most common crime type occurrence in each area unit. The Mode function finds the modal value in a list of values."
   ]
  },
  {
   "cell_type": "code",
   "execution_count": 10,
   "id": "2990b065",
   "metadata": {},
   "outputs": [],
   "source": [
    "Mode <- function(x) {\n",
    "  ux <- unique(x)\n",
    "  ux[which.max(tabulate(match(x, ux)))]\n",
    "}"
   ]
  },
  {
   "cell_type": "markdown",
   "id": "1bf527ea",
   "metadata": {},
   "source": [
    "The mode function is applied to each area unit group, and a column storing these modal crime types for each area unit is created in the crime table. "
   ]
  },
  {
   "cell_type": "code",
   "execution_count": 11,
   "id": "af7f08c7",
   "metadata": {},
   "outputs": [
    {
     "data": {
      "text/html": [
       "<table class=\"dataframe\">\n",
       "<caption>A grouped_df: 15112 × 8</caption>\n",
       "<thead>\n",
       "\t<tr><th scope=col>HourOfDay</th><th scope=col>DayOfWeek</th><th scope=col>CrimeType</th><th scope=col>AreaUnit</th><th scope=col>Victimisations</th><th scope=col>Year</th><th scope=col>Month</th><th scope=col>Commonest_Crime</th></tr>\n",
       "\t<tr><th scope=col>&lt;dbl&gt;</th><th scope=col>&lt;chr&gt;</th><th scope=col>&lt;chr&gt;</th><th scope=col>&lt;chr&gt;</th><th scope=col>&lt;dbl&gt;</th><th scope=col>&lt;dbl&gt;</th><th scope=col>&lt;dbl&gt;</th><th scope=col>&lt;chr&gt;</th></tr>\n",
       "</thead>\n",
       "<tbody>\n",
       "\t<tr><td>13</td><td>Sat</td><td>Abduction, Harassment and Other Related Offences Against a Person</td><td>Sydenham                   </td><td>1</td><td>2021</td><td> 2</td><td>Theft and Related Offences                          </td></tr>\n",
       "\t<tr><td>16</td><td>Fri</td><td>Acts Intended to Cause Injury                                    </td><td>Avon-Heathcote Estuary     </td><td>1</td><td>2021</td><td> 8</td><td>Theft and Related Offences                          </td></tr>\n",
       "\t<tr><td> 0</td><td>Wed</td><td>Abduction, Harassment and Other Related Offences Against a Person</td><td>Sydenham                   </td><td>1</td><td>2021</td><td> 8</td><td>Theft and Related Offences                          </td></tr>\n",
       "\t<tr><td> 4</td><td>Fri</td><td>Unlawful Entry With Intent/Burglary, Break and Enter             </td><td>Middleton                  </td><td>1</td><td>2021</td><td> 8</td><td>Theft and Related Offences                          </td></tr>\n",
       "\t<tr><td>15</td><td>Mon</td><td>Theft and Related Offences                                       </td><td>Avon-Heathcote Estuary     </td><td>1</td><td>2021</td><td> 2</td><td>Theft and Related Offences                          </td></tr>\n",
       "\t<tr><td>14</td><td>Sat</td><td>Abduction, Harassment and Other Related Offences Against a Person</td><td>Shirley West               </td><td>1</td><td>2021</td><td> 2</td><td>Theft and Related Offences                          </td></tr>\n",
       "\t<tr><td>19</td><td>Tue</td><td>Theft and Related Offences                                       </td><td>Inlets-Banks Peninsula Bays</td><td>1</td><td>2021</td><td> 2</td><td>Theft and Related Offences                          </td></tr>\n",
       "\t<tr><td>16</td><td>Sun</td><td>Theft and Related Offences                                       </td><td>Avon-Heathcote Estuary     </td><td>1</td><td>2021</td><td> 3</td><td>Theft and Related Offences                          </td></tr>\n",
       "\t<tr><td>11</td><td>Mon</td><td>Unlawful Entry With Intent/Burglary, Break and Enter             </td><td>Spreydon                   </td><td>1</td><td>2020</td><td> 9</td><td>Theft and Related Offences                          </td></tr>\n",
       "\t<tr><td>11</td><td>Fri</td><td>Unlawful Entry With Intent/Burglary, Break and Enter             </td><td>Springston                 </td><td>1</td><td>2021</td><td> 8</td><td>Theft and Related Offences                          </td></tr>\n",
       "\t<tr><td>22</td><td>Fri</td><td>Unlawful Entry With Intent/Burglary, Break and Enter             </td><td>St Albans East             </td><td>1</td><td>2021</td><td> 8</td><td>Theft and Related Offences                          </td></tr>\n",
       "\t<tr><td>23</td><td>Sat</td><td>Acts Intended to Cause Injury                                    </td><td>Holmwood                   </td><td>1</td><td>2020</td><td>10</td><td>Unlawful Entry With Intent/Burglary, Break and Enter</td></tr>\n",
       "\t<tr><td> 9</td><td>Mon</td><td>Theft and Related Offences                                       </td><td>Northcote                  </td><td>1</td><td>2021</td><td> 1</td><td>Theft and Related Offences                          </td></tr>\n",
       "\t<tr><td>19</td><td>Sat</td><td>Unlawful Entry With Intent/Burglary, Break and Enter             </td><td>Rangiora North             </td><td>1</td><td>2021</td><td> 7</td><td>Theft and Related Offences                          </td></tr>\n",
       "\t<tr><td>16</td><td>Mon</td><td>Acts Intended to Cause Injury                                    </td><td>Aranui                     </td><td>1</td><td>2020</td><td>10</td><td>Acts Intended to Cause Injury                       </td></tr>\n",
       "\t<tr><td>15</td><td>Fri</td><td>Theft and Related Offences                                       </td><td>Wainoni                    </td><td>1</td><td>2021</td><td> 6</td><td>Theft and Related Offences                          </td></tr>\n",
       "\t<tr><td> 5</td><td>Sat</td><td>Unlawful Entry With Intent/Burglary, Break and Enter             </td><td>Rangiora North             </td><td>1</td><td>2021</td><td> 7</td><td>Theft and Related Offences                          </td></tr>\n",
       "\t<tr><td>21</td><td>Sun</td><td>Abduction, Harassment and Other Related Offences Against a Person</td><td>Mona Vale                  </td><td>2</td><td>2021</td><td> 5</td><td>Theft and Related Offences                          </td></tr>\n",
       "\t<tr><td>17</td><td>Tue</td><td>Acts Intended to Cause Injury                                    </td><td>Cathedral Square           </td><td>2</td><td>2021</td><td> 1</td><td>Theft and Related Offences                          </td></tr>\n",
       "\t<tr><td> 3</td><td>Sun</td><td>Acts Intended to Cause Injury                                    </td><td>Avon Loop                  </td><td>1</td><td>2021</td><td> 2</td><td>Theft and Related Offences                          </td></tr>\n",
       "\t<tr><td>10</td><td>Tue</td><td>Robbery, Extortion and Related Offences                          </td><td>Woolston South             </td><td>1</td><td>2021</td><td> 8</td><td>Theft and Related Offences                          </td></tr>\n",
       "\t<tr><td>15</td><td>Sun</td><td>Robbery, Extortion and Related Offences                          </td><td>Avon-Heathcote Estuary     </td><td>2</td><td>2021</td><td> 6</td><td>Theft and Related Offences                          </td></tr>\n",
       "\t<tr><td> 0</td><td>Sun</td><td>Acts Intended to Cause Injury                                    </td><td>Richmond South             </td><td>1</td><td>2020</td><td> 9</td><td>Theft and Related Offences                          </td></tr>\n",
       "\t<tr><td>14</td><td>Sat</td><td>Acts Intended to Cause Injury                                    </td><td>Cathedral Square           </td><td>1</td><td>2020</td><td>10</td><td>Theft and Related Offences                          </td></tr>\n",
       "\t<tr><td>13</td><td>Sat</td><td>Acts Intended to Cause Injury                                    </td><td>Linwood                    </td><td>1</td><td>2020</td><td> 9</td><td>Theft and Related Offences                          </td></tr>\n",
       "\t<tr><td> 6</td><td>Fri</td><td>Theft and Related Offences                                       </td><td>Barrington South           </td><td>1</td><td>2021</td><td> 7</td><td>Theft and Related Offences                          </td></tr>\n",
       "\t<tr><td>11</td><td>Fri</td><td>Acts Intended to Cause Injury                                    </td><td>Mona Vale                  </td><td>1</td><td>2020</td><td> 9</td><td>Theft and Related Offences                          </td></tr>\n",
       "\t<tr><td>20</td><td>Fri</td><td>Unlawful Entry With Intent/Burglary, Break and Enter             </td><td>Allenton West              </td><td>1</td><td>2020</td><td>10</td><td>Theft and Related Offences                          </td></tr>\n",
       "\t<tr><td>12</td><td>Sun</td><td>Acts Intended to Cause Injury                                    </td><td>Avon Loop                  </td><td>1</td><td>2020</td><td>10</td><td>Theft and Related Offences                          </td></tr>\n",
       "\t<tr><td>16</td><td>Sun</td><td>Acts Intended to Cause Injury                                    </td><td>West Melton                </td><td>1</td><td>2020</td><td>10</td><td>Theft and Related Offences                          </td></tr>\n",
       "\t<tr><td>...</td><td>...</td><td>...</td><td>...</td><td>...</td><td>...</td><td>...</td><td>...</td></tr>\n",
       "\t<tr><td>15</td><td>Fri</td><td>Unlawful Entry With Intent/Burglary, Break and Enter</td><td>Bishopdale North</td><td>1</td><td>2021</td><td>5</td><td>Theft and Related Offences                          </td></tr>\n",
       "\t<tr><td> 2</td><td>Fri</td><td>Unlawful Entry With Intent/Burglary, Break and Enter</td><td>Hinds           </td><td>1</td><td>2021</td><td>5</td><td>Unlawful Entry With Intent/Burglary, Break and Enter</td></tr>\n",
       "\t<tr><td>23</td><td>Fri</td><td>Unlawful Entry With Intent/Burglary, Break and Enter</td><td>Ensors          </td><td>1</td><td>2021</td><td>5</td><td>Theft and Related Offences                          </td></tr>\n",
       "\t<tr><td>10</td><td>Tue</td><td>Theft and Related Offences                          </td><td>Aviemore        </td><td>1</td><td>2021</td><td>3</td><td>Unlawful Entry With Intent/Burglary, Break and Enter</td></tr>\n",
       "\t<tr><td> 9</td><td>Mon</td><td>Unlawful Entry With Intent/Burglary, Break and Enter</td><td>Leeston         </td><td>1</td><td>2021</td><td>8</td><td>Theft and Related Offences                          </td></tr>\n",
       "\t<tr><td>18</td><td>Mon</td><td>Unlawful Entry With Intent/Burglary, Break and Enter</td><td>Rawhiti         </td><td>1</td><td>2021</td><td>5</td><td>Theft and Related Offences                          </td></tr>\n",
       "\t<tr><td>20</td><td>Sat</td><td>Unlawful Entry With Intent/Burglary, Break and Enter</td><td>Avonhead        </td><td>1</td><td>2021</td><td>4</td><td>Unlawful Entry With Intent/Burglary, Break and Enter</td></tr>\n",
       "\t<tr><td>11</td><td>Sat</td><td>Unlawful Entry With Intent/Burglary, Break and Enter</td><td>Fendalton       </td><td>1</td><td>2021</td><td>5</td><td>Theft and Related Offences                          </td></tr>\n",
       "\t<tr><td> 8</td><td>Thu</td><td>Unlawful Entry With Intent/Burglary, Break and Enter</td><td>West Melton     </td><td>1</td><td>2021</td><td>8</td><td>Theft and Related Offences                          </td></tr>\n",
       "\t<tr><td>22</td><td>Thu</td><td>Unlawful Entry With Intent/Burglary, Break and Enter</td><td>Russley         </td><td>1</td><td>2021</td><td>4</td><td>Unlawful Entry With Intent/Burglary, Break and Enter</td></tr>\n",
       "\t<tr><td> 8</td><td>Thu</td><td>Unlawful Entry With Intent/Burglary, Break and Enter</td><td>Fairlie         </td><td>1</td><td>2021</td><td>6</td><td>Theft and Related Offences                          </td></tr>\n",
       "\t<tr><td>21</td><td>Thu</td><td>Unlawful Entry With Intent/Burglary, Break and Enter</td><td>Linwood         </td><td>1</td><td>2021</td><td>7</td><td>Theft and Related Offences                          </td></tr>\n",
       "\t<tr><td> 6</td><td>Mon</td><td>Unlawful Entry With Intent/Burglary, Break and Enter</td><td>Riccarton West  </td><td>1</td><td>2021</td><td>1</td><td>Unlawful Entry With Intent/Burglary, Break and Enter</td></tr>\n",
       "\t<tr><td>20</td><td>Mon</td><td>Unlawful Entry With Intent/Burglary, Break and Enter</td><td>Tuahiwi         </td><td>1</td><td>2021</td><td>1</td><td>Acts Intended to Cause Injury                       </td></tr>\n",
       "\t<tr><td> 5</td><td>Tue</td><td>Unlawful Entry With Intent/Burglary, Break and Enter</td><td>Phillipstown    </td><td>1</td><td>2021</td><td>7</td><td>Theft and Related Offences                          </td></tr>\n",
       "\t<tr><td>11</td><td>Tue</td><td>Unlawful Entry With Intent/Burglary, Break and Enter</td><td>Kaiapoi South   </td><td>1</td><td>2021</td><td>6</td><td>Theft and Related Offences                          </td></tr>\n",
       "\t<tr><td> 9</td><td>Wed</td><td>Unlawful Entry With Intent/Burglary, Break and Enter</td><td>Avon Loop       </td><td>1</td><td>2021</td><td>6</td><td>Theft and Related Offences                          </td></tr>\n",
       "\t<tr><td> 3</td><td>Wed</td><td>Unlawful Entry With Intent/Burglary, Break and Enter</td><td>Islington       </td><td>1</td><td>2021</td><td>7</td><td>Theft and Related Offences                          </td></tr>\n",
       "\t<tr><td> 5</td><td>Wed</td><td>Unlawful Entry With Intent/Burglary, Break and Enter</td><td>Upper Riccarton </td><td>1</td><td>2021</td><td>7</td><td>Theft and Related Offences                          </td></tr>\n",
       "\t<tr><td>13</td><td>Wed</td><td>Unlawful Entry With Intent/Burglary, Break and Enter</td><td>Rangiora East   </td><td>1</td><td>2021</td><td>7</td><td>Theft and Related Offences                          </td></tr>\n",
       "\t<tr><td> 5</td><td>Mon</td><td>Unlawful Entry With Intent/Burglary, Break and Enter</td><td>Taitapu         </td><td>1</td><td>2021</td><td>3</td><td>Theft and Related Offences                          </td></tr>\n",
       "\t<tr><td> 2</td><td>Mon</td><td>Unlawful Entry With Intent/Burglary, Break and Enter</td><td>Fairlie         </td><td>1</td><td>2021</td><td>2</td><td>Theft and Related Offences                          </td></tr>\n",
       "\t<tr><td> 1</td><td>Mon</td><td>Unlawful Entry With Intent/Burglary, Break and Enter</td><td>Wigram          </td><td>1</td><td>2021</td><td>4</td><td>Theft and Related Offences                          </td></tr>\n",
       "\t<tr><td> 4</td><td>Mon</td><td>Unlawful Entry With Intent/Burglary, Break and Enter</td><td>Hornby North    </td><td>1</td><td>2021</td><td>4</td><td>Theft and Related Offences                          </td></tr>\n",
       "\t<tr><td> 8</td><td>Mon</td><td>Unlawful Entry With Intent/Burglary, Break and Enter</td><td>Waihao          </td><td>1</td><td>2021</td><td>4</td><td>Theft and Related Offences                          </td></tr>\n",
       "\t<tr><td>11</td><td>Wed</td><td>Unlawful Entry With Intent/Burglary, Break and Enter</td><td>Lehmans         </td><td>1</td><td>2021</td><td>4</td><td>Unlawful Entry With Intent/Burglary, Break and Enter</td></tr>\n",
       "\t<tr><td> 4</td><td>Wed</td><td>Unlawful Entry With Intent/Burglary, Break and Enter</td><td>Cathedral Square</td><td>1</td><td>2021</td><td>2</td><td>Theft and Related Offences                          </td></tr>\n",
       "\t<tr><td>11</td><td>Wed</td><td>Unlawful Entry With Intent/Burglary, Break and Enter</td><td>Hornby South    </td><td>1</td><td>2021</td><td>3</td><td>Theft and Related Offences                          </td></tr>\n",
       "\t<tr><td>15</td><td>Wed</td><td>Unlawful Entry With Intent/Burglary, Break and Enter</td><td>Mona Vale       </td><td>1</td><td>2021</td><td>4</td><td>Theft and Related Offences                          </td></tr>\n",
       "\t<tr><td> 2</td><td>Tue</td><td>Unlawful Entry With Intent/Burglary, Break and Enter</td><td>Omarama         </td><td>1</td><td>2021</td><td>2</td><td>Theft and Related Offences                          </td></tr>\n",
       "</tbody>\n",
       "</table>\n"
      ],
      "text/latex": [
       "A grouped\\_df: 15112 × 8\n",
       "\\begin{tabular}{llllllll}\n",
       " HourOfDay & DayOfWeek & CrimeType & AreaUnit & Victimisations & Year & Month & Commonest\\_Crime\\\\\n",
       " <dbl> & <chr> & <chr> & <chr> & <dbl> & <dbl> & <dbl> & <chr>\\\\\n",
       "\\hline\n",
       "\t 13 & Sat & Abduction, Harassment and Other Related Offences Against a Person & Sydenham                    & 1 & 2021 &  2 & Theft and Related Offences                          \\\\\n",
       "\t 16 & Fri & Acts Intended to Cause Injury                                     & Avon-Heathcote Estuary      & 1 & 2021 &  8 & Theft and Related Offences                          \\\\\n",
       "\t  0 & Wed & Abduction, Harassment and Other Related Offences Against a Person & Sydenham                    & 1 & 2021 &  8 & Theft and Related Offences                          \\\\\n",
       "\t  4 & Fri & Unlawful Entry With Intent/Burglary, Break and Enter              & Middleton                   & 1 & 2021 &  8 & Theft and Related Offences                          \\\\\n",
       "\t 15 & Mon & Theft and Related Offences                                        & Avon-Heathcote Estuary      & 1 & 2021 &  2 & Theft and Related Offences                          \\\\\n",
       "\t 14 & Sat & Abduction, Harassment and Other Related Offences Against a Person & Shirley West                & 1 & 2021 &  2 & Theft and Related Offences                          \\\\\n",
       "\t 19 & Tue & Theft and Related Offences                                        & Inlets-Banks Peninsula Bays & 1 & 2021 &  2 & Theft and Related Offences                          \\\\\n",
       "\t 16 & Sun & Theft and Related Offences                                        & Avon-Heathcote Estuary      & 1 & 2021 &  3 & Theft and Related Offences                          \\\\\n",
       "\t 11 & Mon & Unlawful Entry With Intent/Burglary, Break and Enter              & Spreydon                    & 1 & 2020 &  9 & Theft and Related Offences                          \\\\\n",
       "\t 11 & Fri & Unlawful Entry With Intent/Burglary, Break and Enter              & Springston                  & 1 & 2021 &  8 & Theft and Related Offences                          \\\\\n",
       "\t 22 & Fri & Unlawful Entry With Intent/Burglary, Break and Enter              & St Albans East              & 1 & 2021 &  8 & Theft and Related Offences                          \\\\\n",
       "\t 23 & Sat & Acts Intended to Cause Injury                                     & Holmwood                    & 1 & 2020 & 10 & Unlawful Entry With Intent/Burglary, Break and Enter\\\\\n",
       "\t  9 & Mon & Theft and Related Offences                                        & Northcote                   & 1 & 2021 &  1 & Theft and Related Offences                          \\\\\n",
       "\t 19 & Sat & Unlawful Entry With Intent/Burglary, Break and Enter              & Rangiora North              & 1 & 2021 &  7 & Theft and Related Offences                          \\\\\n",
       "\t 16 & Mon & Acts Intended to Cause Injury                                     & Aranui                      & 1 & 2020 & 10 & Acts Intended to Cause Injury                       \\\\\n",
       "\t 15 & Fri & Theft and Related Offences                                        & Wainoni                     & 1 & 2021 &  6 & Theft and Related Offences                          \\\\\n",
       "\t  5 & Sat & Unlawful Entry With Intent/Burglary, Break and Enter              & Rangiora North              & 1 & 2021 &  7 & Theft and Related Offences                          \\\\\n",
       "\t 21 & Sun & Abduction, Harassment and Other Related Offences Against a Person & Mona Vale                   & 2 & 2021 &  5 & Theft and Related Offences                          \\\\\n",
       "\t 17 & Tue & Acts Intended to Cause Injury                                     & Cathedral Square            & 2 & 2021 &  1 & Theft and Related Offences                          \\\\\n",
       "\t  3 & Sun & Acts Intended to Cause Injury                                     & Avon Loop                   & 1 & 2021 &  2 & Theft and Related Offences                          \\\\\n",
       "\t 10 & Tue & Robbery, Extortion and Related Offences                           & Woolston South              & 1 & 2021 &  8 & Theft and Related Offences                          \\\\\n",
       "\t 15 & Sun & Robbery, Extortion and Related Offences                           & Avon-Heathcote Estuary      & 2 & 2021 &  6 & Theft and Related Offences                          \\\\\n",
       "\t  0 & Sun & Acts Intended to Cause Injury                                     & Richmond South              & 1 & 2020 &  9 & Theft and Related Offences                          \\\\\n",
       "\t 14 & Sat & Acts Intended to Cause Injury                                     & Cathedral Square            & 1 & 2020 & 10 & Theft and Related Offences                          \\\\\n",
       "\t 13 & Sat & Acts Intended to Cause Injury                                     & Linwood                     & 1 & 2020 &  9 & Theft and Related Offences                          \\\\\n",
       "\t  6 & Fri & Theft and Related Offences                                        & Barrington South            & 1 & 2021 &  7 & Theft and Related Offences                          \\\\\n",
       "\t 11 & Fri & Acts Intended to Cause Injury                                     & Mona Vale                   & 1 & 2020 &  9 & Theft and Related Offences                          \\\\\n",
       "\t 20 & Fri & Unlawful Entry With Intent/Burglary, Break and Enter              & Allenton West               & 1 & 2020 & 10 & Theft and Related Offences                          \\\\\n",
       "\t 12 & Sun & Acts Intended to Cause Injury                                     & Avon Loop                   & 1 & 2020 & 10 & Theft and Related Offences                          \\\\\n",
       "\t 16 & Sun & Acts Intended to Cause Injury                                     & West Melton                 & 1 & 2020 & 10 & Theft and Related Offences                          \\\\\n",
       "\t ... & ... & ... & ... & ... & ... & ... & ...\\\\\n",
       "\t 15 & Fri & Unlawful Entry With Intent/Burglary, Break and Enter & Bishopdale North & 1 & 2021 & 5 & Theft and Related Offences                          \\\\\n",
       "\t  2 & Fri & Unlawful Entry With Intent/Burglary, Break and Enter & Hinds            & 1 & 2021 & 5 & Unlawful Entry With Intent/Burglary, Break and Enter\\\\\n",
       "\t 23 & Fri & Unlawful Entry With Intent/Burglary, Break and Enter & Ensors           & 1 & 2021 & 5 & Theft and Related Offences                          \\\\\n",
       "\t 10 & Tue & Theft and Related Offences                           & Aviemore         & 1 & 2021 & 3 & Unlawful Entry With Intent/Burglary, Break and Enter\\\\\n",
       "\t  9 & Mon & Unlawful Entry With Intent/Burglary, Break and Enter & Leeston          & 1 & 2021 & 8 & Theft and Related Offences                          \\\\\n",
       "\t 18 & Mon & Unlawful Entry With Intent/Burglary, Break and Enter & Rawhiti          & 1 & 2021 & 5 & Theft and Related Offences                          \\\\\n",
       "\t 20 & Sat & Unlawful Entry With Intent/Burglary, Break and Enter & Avonhead         & 1 & 2021 & 4 & Unlawful Entry With Intent/Burglary, Break and Enter\\\\\n",
       "\t 11 & Sat & Unlawful Entry With Intent/Burglary, Break and Enter & Fendalton        & 1 & 2021 & 5 & Theft and Related Offences                          \\\\\n",
       "\t  8 & Thu & Unlawful Entry With Intent/Burglary, Break and Enter & West Melton      & 1 & 2021 & 8 & Theft and Related Offences                          \\\\\n",
       "\t 22 & Thu & Unlawful Entry With Intent/Burglary, Break and Enter & Russley          & 1 & 2021 & 4 & Unlawful Entry With Intent/Burglary, Break and Enter\\\\\n",
       "\t  8 & Thu & Unlawful Entry With Intent/Burglary, Break and Enter & Fairlie          & 1 & 2021 & 6 & Theft and Related Offences                          \\\\\n",
       "\t 21 & Thu & Unlawful Entry With Intent/Burglary, Break and Enter & Linwood          & 1 & 2021 & 7 & Theft and Related Offences                          \\\\\n",
       "\t  6 & Mon & Unlawful Entry With Intent/Burglary, Break and Enter & Riccarton West   & 1 & 2021 & 1 & Unlawful Entry With Intent/Burglary, Break and Enter\\\\\n",
       "\t 20 & Mon & Unlawful Entry With Intent/Burglary, Break and Enter & Tuahiwi          & 1 & 2021 & 1 & Acts Intended to Cause Injury                       \\\\\n",
       "\t  5 & Tue & Unlawful Entry With Intent/Burglary, Break and Enter & Phillipstown     & 1 & 2021 & 7 & Theft and Related Offences                          \\\\\n",
       "\t 11 & Tue & Unlawful Entry With Intent/Burglary, Break and Enter & Kaiapoi South    & 1 & 2021 & 6 & Theft and Related Offences                          \\\\\n",
       "\t  9 & Wed & Unlawful Entry With Intent/Burglary, Break and Enter & Avon Loop        & 1 & 2021 & 6 & Theft and Related Offences                          \\\\\n",
       "\t  3 & Wed & Unlawful Entry With Intent/Burglary, Break and Enter & Islington        & 1 & 2021 & 7 & Theft and Related Offences                          \\\\\n",
       "\t  5 & Wed & Unlawful Entry With Intent/Burglary, Break and Enter & Upper Riccarton  & 1 & 2021 & 7 & Theft and Related Offences                          \\\\\n",
       "\t 13 & Wed & Unlawful Entry With Intent/Burglary, Break and Enter & Rangiora East    & 1 & 2021 & 7 & Theft and Related Offences                          \\\\\n",
       "\t  5 & Mon & Unlawful Entry With Intent/Burglary, Break and Enter & Taitapu          & 1 & 2021 & 3 & Theft and Related Offences                          \\\\\n",
       "\t  2 & Mon & Unlawful Entry With Intent/Burglary, Break and Enter & Fairlie          & 1 & 2021 & 2 & Theft and Related Offences                          \\\\\n",
       "\t  1 & Mon & Unlawful Entry With Intent/Burglary, Break and Enter & Wigram           & 1 & 2021 & 4 & Theft and Related Offences                          \\\\\n",
       "\t  4 & Mon & Unlawful Entry With Intent/Burglary, Break and Enter & Hornby North     & 1 & 2021 & 4 & Theft and Related Offences                          \\\\\n",
       "\t  8 & Mon & Unlawful Entry With Intent/Burglary, Break and Enter & Waihao           & 1 & 2021 & 4 & Theft and Related Offences                          \\\\\n",
       "\t 11 & Wed & Unlawful Entry With Intent/Burglary, Break and Enter & Lehmans          & 1 & 2021 & 4 & Unlawful Entry With Intent/Burglary, Break and Enter\\\\\n",
       "\t  4 & Wed & Unlawful Entry With Intent/Burglary, Break and Enter & Cathedral Square & 1 & 2021 & 2 & Theft and Related Offences                          \\\\\n",
       "\t 11 & Wed & Unlawful Entry With Intent/Burglary, Break and Enter & Hornby South     & 1 & 2021 & 3 & Theft and Related Offences                          \\\\\n",
       "\t 15 & Wed & Unlawful Entry With Intent/Burglary, Break and Enter & Mona Vale        & 1 & 2021 & 4 & Theft and Related Offences                          \\\\\n",
       "\t  2 & Tue & Unlawful Entry With Intent/Burglary, Break and Enter & Omarama          & 1 & 2021 & 2 & Theft and Related Offences                          \\\\\n",
       "\\end{tabular}\n"
      ],
      "text/markdown": [
       "\n",
       "A grouped_df: 15112 × 8\n",
       "\n",
       "| HourOfDay &lt;dbl&gt; | DayOfWeek &lt;chr&gt; | CrimeType &lt;chr&gt; | AreaUnit &lt;chr&gt; | Victimisations &lt;dbl&gt; | Year &lt;dbl&gt; | Month &lt;dbl&gt; | Commonest_Crime &lt;chr&gt; |\n",
       "|---|---|---|---|---|---|---|---|\n",
       "| 13 | Sat | Abduction, Harassment and Other Related Offences Against a Person | Sydenham                    | 1 | 2021 |  2 | Theft and Related Offences                           |\n",
       "| 16 | Fri | Acts Intended to Cause Injury                                     | Avon-Heathcote Estuary      | 1 | 2021 |  8 | Theft and Related Offences                           |\n",
       "|  0 | Wed | Abduction, Harassment and Other Related Offences Against a Person | Sydenham                    | 1 | 2021 |  8 | Theft and Related Offences                           |\n",
       "|  4 | Fri | Unlawful Entry With Intent/Burglary, Break and Enter              | Middleton                   | 1 | 2021 |  8 | Theft and Related Offences                           |\n",
       "| 15 | Mon | Theft and Related Offences                                        | Avon-Heathcote Estuary      | 1 | 2021 |  2 | Theft and Related Offences                           |\n",
       "| 14 | Sat | Abduction, Harassment and Other Related Offences Against a Person | Shirley West                | 1 | 2021 |  2 | Theft and Related Offences                           |\n",
       "| 19 | Tue | Theft and Related Offences                                        | Inlets-Banks Peninsula Bays | 1 | 2021 |  2 | Theft and Related Offences                           |\n",
       "| 16 | Sun | Theft and Related Offences                                        | Avon-Heathcote Estuary      | 1 | 2021 |  3 | Theft and Related Offences                           |\n",
       "| 11 | Mon | Unlawful Entry With Intent/Burglary, Break and Enter              | Spreydon                    | 1 | 2020 |  9 | Theft and Related Offences                           |\n",
       "| 11 | Fri | Unlawful Entry With Intent/Burglary, Break and Enter              | Springston                  | 1 | 2021 |  8 | Theft and Related Offences                           |\n",
       "| 22 | Fri | Unlawful Entry With Intent/Burglary, Break and Enter              | St Albans East              | 1 | 2021 |  8 | Theft and Related Offences                           |\n",
       "| 23 | Sat | Acts Intended to Cause Injury                                     | Holmwood                    | 1 | 2020 | 10 | Unlawful Entry With Intent/Burglary, Break and Enter |\n",
       "|  9 | Mon | Theft and Related Offences                                        | Northcote                   | 1 | 2021 |  1 | Theft and Related Offences                           |\n",
       "| 19 | Sat | Unlawful Entry With Intent/Burglary, Break and Enter              | Rangiora North              | 1 | 2021 |  7 | Theft and Related Offences                           |\n",
       "| 16 | Mon | Acts Intended to Cause Injury                                     | Aranui                      | 1 | 2020 | 10 | Acts Intended to Cause Injury                        |\n",
       "| 15 | Fri | Theft and Related Offences                                        | Wainoni                     | 1 | 2021 |  6 | Theft and Related Offences                           |\n",
       "|  5 | Sat | Unlawful Entry With Intent/Burglary, Break and Enter              | Rangiora North              | 1 | 2021 |  7 | Theft and Related Offences                           |\n",
       "| 21 | Sun | Abduction, Harassment and Other Related Offences Against a Person | Mona Vale                   | 2 | 2021 |  5 | Theft and Related Offences                           |\n",
       "| 17 | Tue | Acts Intended to Cause Injury                                     | Cathedral Square            | 2 | 2021 |  1 | Theft and Related Offences                           |\n",
       "|  3 | Sun | Acts Intended to Cause Injury                                     | Avon Loop                   | 1 | 2021 |  2 | Theft and Related Offences                           |\n",
       "| 10 | Tue | Robbery, Extortion and Related Offences                           | Woolston South              | 1 | 2021 |  8 | Theft and Related Offences                           |\n",
       "| 15 | Sun | Robbery, Extortion and Related Offences                           | Avon-Heathcote Estuary      | 2 | 2021 |  6 | Theft and Related Offences                           |\n",
       "|  0 | Sun | Acts Intended to Cause Injury                                     | Richmond South              | 1 | 2020 |  9 | Theft and Related Offences                           |\n",
       "| 14 | Sat | Acts Intended to Cause Injury                                     | Cathedral Square            | 1 | 2020 | 10 | Theft and Related Offences                           |\n",
       "| 13 | Sat | Acts Intended to Cause Injury                                     | Linwood                     | 1 | 2020 |  9 | Theft and Related Offences                           |\n",
       "|  6 | Fri | Theft and Related Offences                                        | Barrington South            | 1 | 2021 |  7 | Theft and Related Offences                           |\n",
       "| 11 | Fri | Acts Intended to Cause Injury                                     | Mona Vale                   | 1 | 2020 |  9 | Theft and Related Offences                           |\n",
       "| 20 | Fri | Unlawful Entry With Intent/Burglary, Break and Enter              | Allenton West               | 1 | 2020 | 10 | Theft and Related Offences                           |\n",
       "| 12 | Sun | Acts Intended to Cause Injury                                     | Avon Loop                   | 1 | 2020 | 10 | Theft and Related Offences                           |\n",
       "| 16 | Sun | Acts Intended to Cause Injury                                     | West Melton                 | 1 | 2020 | 10 | Theft and Related Offences                           |\n",
       "| ... | ... | ... | ... | ... | ... | ... | ... |\n",
       "| 15 | Fri | Unlawful Entry With Intent/Burglary, Break and Enter | Bishopdale North | 1 | 2021 | 5 | Theft and Related Offences                           |\n",
       "|  2 | Fri | Unlawful Entry With Intent/Burglary, Break and Enter | Hinds            | 1 | 2021 | 5 | Unlawful Entry With Intent/Burglary, Break and Enter |\n",
       "| 23 | Fri | Unlawful Entry With Intent/Burglary, Break and Enter | Ensors           | 1 | 2021 | 5 | Theft and Related Offences                           |\n",
       "| 10 | Tue | Theft and Related Offences                           | Aviemore         | 1 | 2021 | 3 | Unlawful Entry With Intent/Burglary, Break and Enter |\n",
       "|  9 | Mon | Unlawful Entry With Intent/Burglary, Break and Enter | Leeston          | 1 | 2021 | 8 | Theft and Related Offences                           |\n",
       "| 18 | Mon | Unlawful Entry With Intent/Burglary, Break and Enter | Rawhiti          | 1 | 2021 | 5 | Theft and Related Offences                           |\n",
       "| 20 | Sat | Unlawful Entry With Intent/Burglary, Break and Enter | Avonhead         | 1 | 2021 | 4 | Unlawful Entry With Intent/Burglary, Break and Enter |\n",
       "| 11 | Sat | Unlawful Entry With Intent/Burglary, Break and Enter | Fendalton        | 1 | 2021 | 5 | Theft and Related Offences                           |\n",
       "|  8 | Thu | Unlawful Entry With Intent/Burglary, Break and Enter | West Melton      | 1 | 2021 | 8 | Theft and Related Offences                           |\n",
       "| 22 | Thu | Unlawful Entry With Intent/Burglary, Break and Enter | Russley          | 1 | 2021 | 4 | Unlawful Entry With Intent/Burglary, Break and Enter |\n",
       "|  8 | Thu | Unlawful Entry With Intent/Burglary, Break and Enter | Fairlie          | 1 | 2021 | 6 | Theft and Related Offences                           |\n",
       "| 21 | Thu | Unlawful Entry With Intent/Burglary, Break and Enter | Linwood          | 1 | 2021 | 7 | Theft and Related Offences                           |\n",
       "|  6 | Mon | Unlawful Entry With Intent/Burglary, Break and Enter | Riccarton West   | 1 | 2021 | 1 | Unlawful Entry With Intent/Burglary, Break and Enter |\n",
       "| 20 | Mon | Unlawful Entry With Intent/Burglary, Break and Enter | Tuahiwi          | 1 | 2021 | 1 | Acts Intended to Cause Injury                        |\n",
       "|  5 | Tue | Unlawful Entry With Intent/Burglary, Break and Enter | Phillipstown     | 1 | 2021 | 7 | Theft and Related Offences                           |\n",
       "| 11 | Tue | Unlawful Entry With Intent/Burglary, Break and Enter | Kaiapoi South    | 1 | 2021 | 6 | Theft and Related Offences                           |\n",
       "|  9 | Wed | Unlawful Entry With Intent/Burglary, Break and Enter | Avon Loop        | 1 | 2021 | 6 | Theft and Related Offences                           |\n",
       "|  3 | Wed | Unlawful Entry With Intent/Burglary, Break and Enter | Islington        | 1 | 2021 | 7 | Theft and Related Offences                           |\n",
       "|  5 | Wed | Unlawful Entry With Intent/Burglary, Break and Enter | Upper Riccarton  | 1 | 2021 | 7 | Theft and Related Offences                           |\n",
       "| 13 | Wed | Unlawful Entry With Intent/Burglary, Break and Enter | Rangiora East    | 1 | 2021 | 7 | Theft and Related Offences                           |\n",
       "|  5 | Mon | Unlawful Entry With Intent/Burglary, Break and Enter | Taitapu          | 1 | 2021 | 3 | Theft and Related Offences                           |\n",
       "|  2 | Mon | Unlawful Entry With Intent/Burglary, Break and Enter | Fairlie          | 1 | 2021 | 2 | Theft and Related Offences                           |\n",
       "|  1 | Mon | Unlawful Entry With Intent/Burglary, Break and Enter | Wigram           | 1 | 2021 | 4 | Theft and Related Offences                           |\n",
       "|  4 | Mon | Unlawful Entry With Intent/Burglary, Break and Enter | Hornby North     | 1 | 2021 | 4 | Theft and Related Offences                           |\n",
       "|  8 | Mon | Unlawful Entry With Intent/Burglary, Break and Enter | Waihao           | 1 | 2021 | 4 | Theft and Related Offences                           |\n",
       "| 11 | Wed | Unlawful Entry With Intent/Burglary, Break and Enter | Lehmans          | 1 | 2021 | 4 | Unlawful Entry With Intent/Burglary, Break and Enter |\n",
       "|  4 | Wed | Unlawful Entry With Intent/Burglary, Break and Enter | Cathedral Square | 1 | 2021 | 2 | Theft and Related Offences                           |\n",
       "| 11 | Wed | Unlawful Entry With Intent/Burglary, Break and Enter | Hornby South     | 1 | 2021 | 3 | Theft and Related Offences                           |\n",
       "| 15 | Wed | Unlawful Entry With Intent/Burglary, Break and Enter | Mona Vale        | 1 | 2021 | 4 | Theft and Related Offences                           |\n",
       "|  2 | Tue | Unlawful Entry With Intent/Burglary, Break and Enter | Omarama          | 1 | 2021 | 2 | Theft and Related Offences                           |\n",
       "\n"
      ],
      "text/plain": [
       "      HourOfDay DayOfWeek\n",
       "1     13        Sat      \n",
       "2     16        Fri      \n",
       "3      0        Wed      \n",
       "4      4        Fri      \n",
       "5     15        Mon      \n",
       "6     14        Sat      \n",
       "7     19        Tue      \n",
       "8     16        Sun      \n",
       "9     11        Mon      \n",
       "10    11        Fri      \n",
       "11    22        Fri      \n",
       "12    23        Sat      \n",
       "13     9        Mon      \n",
       "14    19        Sat      \n",
       "15    16        Mon      \n",
       "16    15        Fri      \n",
       "17     5        Sat      \n",
       "18    21        Sun      \n",
       "19    17        Tue      \n",
       "20     3        Sun      \n",
       "21    10        Tue      \n",
       "22    15        Sun      \n",
       "23     0        Sun      \n",
       "24    14        Sat      \n",
       "25    13        Sat      \n",
       "26     6        Fri      \n",
       "27    11        Fri      \n",
       "28    20        Fri      \n",
       "29    12        Sun      \n",
       "30    16        Sun      \n",
       "...   ...       ...      \n",
       "15083 15        Fri      \n",
       "15084  2        Fri      \n",
       "15085 23        Fri      \n",
       "15086 10        Tue      \n",
       "15087  9        Mon      \n",
       "15088 18        Mon      \n",
       "15089 20        Sat      \n",
       "15090 11        Sat      \n",
       "15091  8        Thu      \n",
       "15092 22        Thu      \n",
       "15093  8        Thu      \n",
       "15094 21        Thu      \n",
       "15095  6        Mon      \n",
       "15096 20        Mon      \n",
       "15097  5        Tue      \n",
       "15098 11        Tue      \n",
       "15099  9        Wed      \n",
       "15100  3        Wed      \n",
       "15101  5        Wed      \n",
       "15102 13        Wed      \n",
       "15103  5        Mon      \n",
       "15104  2        Mon      \n",
       "15105  1        Mon      \n",
       "15106  4        Mon      \n",
       "15107  8        Mon      \n",
       "15108 11        Wed      \n",
       "15109  4        Wed      \n",
       "15110 11        Wed      \n",
       "15111 15        Wed      \n",
       "15112  2        Tue      \n",
       "      CrimeType                                                        \n",
       "1     Abduction, Harassment and Other Related Offences Against a Person\n",
       "2     Acts Intended to Cause Injury                                    \n",
       "3     Abduction, Harassment and Other Related Offences Against a Person\n",
       "4     Unlawful Entry With Intent/Burglary, Break and Enter             \n",
       "5     Theft and Related Offences                                       \n",
       "6     Abduction, Harassment and Other Related Offences Against a Person\n",
       "7     Theft and Related Offences                                       \n",
       "8     Theft and Related Offences                                       \n",
       "9     Unlawful Entry With Intent/Burglary, Break and Enter             \n",
       "10    Unlawful Entry With Intent/Burglary, Break and Enter             \n",
       "11    Unlawful Entry With Intent/Burglary, Break and Enter             \n",
       "12    Acts Intended to Cause Injury                                    \n",
       "13    Theft and Related Offences                                       \n",
       "14    Unlawful Entry With Intent/Burglary, Break and Enter             \n",
       "15    Acts Intended to Cause Injury                                    \n",
       "16    Theft and Related Offences                                       \n",
       "17    Unlawful Entry With Intent/Burglary, Break and Enter             \n",
       "18    Abduction, Harassment and Other Related Offences Against a Person\n",
       "19    Acts Intended to Cause Injury                                    \n",
       "20    Acts Intended to Cause Injury                                    \n",
       "21    Robbery, Extortion and Related Offences                          \n",
       "22    Robbery, Extortion and Related Offences                          \n",
       "23    Acts Intended to Cause Injury                                    \n",
       "24    Acts Intended to Cause Injury                                    \n",
       "25    Acts Intended to Cause Injury                                    \n",
       "26    Theft and Related Offences                                       \n",
       "27    Acts Intended to Cause Injury                                    \n",
       "28    Unlawful Entry With Intent/Burglary, Break and Enter             \n",
       "29    Acts Intended to Cause Injury                                    \n",
       "30    Acts Intended to Cause Injury                                    \n",
       "...   ...                                                              \n",
       "15083 Unlawful Entry With Intent/Burglary, Break and Enter             \n",
       "15084 Unlawful Entry With Intent/Burglary, Break and Enter             \n",
       "15085 Unlawful Entry With Intent/Burglary, Break and Enter             \n",
       "15086 Theft and Related Offences                                       \n",
       "15087 Unlawful Entry With Intent/Burglary, Break and Enter             \n",
       "15088 Unlawful Entry With Intent/Burglary, Break and Enter             \n",
       "15089 Unlawful Entry With Intent/Burglary, Break and Enter             \n",
       "15090 Unlawful Entry With Intent/Burglary, Break and Enter             \n",
       "15091 Unlawful Entry With Intent/Burglary, Break and Enter             \n",
       "15092 Unlawful Entry With Intent/Burglary, Break and Enter             \n",
       "15093 Unlawful Entry With Intent/Burglary, Break and Enter             \n",
       "15094 Unlawful Entry With Intent/Burglary, Break and Enter             \n",
       "15095 Unlawful Entry With Intent/Burglary, Break and Enter             \n",
       "15096 Unlawful Entry With Intent/Burglary, Break and Enter             \n",
       "15097 Unlawful Entry With Intent/Burglary, Break and Enter             \n",
       "15098 Unlawful Entry With Intent/Burglary, Break and Enter             \n",
       "15099 Unlawful Entry With Intent/Burglary, Break and Enter             \n",
       "15100 Unlawful Entry With Intent/Burglary, Break and Enter             \n",
       "15101 Unlawful Entry With Intent/Burglary, Break and Enter             \n",
       "15102 Unlawful Entry With Intent/Burglary, Break and Enter             \n",
       "15103 Unlawful Entry With Intent/Burglary, Break and Enter             \n",
       "15104 Unlawful Entry With Intent/Burglary, Break and Enter             \n",
       "15105 Unlawful Entry With Intent/Burglary, Break and Enter             \n",
       "15106 Unlawful Entry With Intent/Burglary, Break and Enter             \n",
       "15107 Unlawful Entry With Intent/Burglary, Break and Enter             \n",
       "15108 Unlawful Entry With Intent/Burglary, Break and Enter             \n",
       "15109 Unlawful Entry With Intent/Burglary, Break and Enter             \n",
       "15110 Unlawful Entry With Intent/Burglary, Break and Enter             \n",
       "15111 Unlawful Entry With Intent/Burglary, Break and Enter             \n",
       "15112 Unlawful Entry With Intent/Burglary, Break and Enter             \n",
       "      AreaUnit                    Victimisations Year Month\n",
       "1     Sydenham                    1              2021  2   \n",
       "2     Avon-Heathcote Estuary      1              2021  8   \n",
       "3     Sydenham                    1              2021  8   \n",
       "4     Middleton                   1              2021  8   \n",
       "5     Avon-Heathcote Estuary      1              2021  2   \n",
       "6     Shirley West                1              2021  2   \n",
       "7     Inlets-Banks Peninsula Bays 1              2021  2   \n",
       "8     Avon-Heathcote Estuary      1              2021  3   \n",
       "9     Spreydon                    1              2020  9   \n",
       "10    Springston                  1              2021  8   \n",
       "11    St Albans East              1              2021  8   \n",
       "12    Holmwood                    1              2020 10   \n",
       "13    Northcote                   1              2021  1   \n",
       "14    Rangiora North              1              2021  7   \n",
       "15    Aranui                      1              2020 10   \n",
       "16    Wainoni                     1              2021  6   \n",
       "17    Rangiora North              1              2021  7   \n",
       "18    Mona Vale                   2              2021  5   \n",
       "19    Cathedral Square            2              2021  1   \n",
       "20    Avon Loop                   1              2021  2   \n",
       "21    Woolston South              1              2021  8   \n",
       "22    Avon-Heathcote Estuary      2              2021  6   \n",
       "23    Richmond South              1              2020  9   \n",
       "24    Cathedral Square            1              2020 10   \n",
       "25    Linwood                     1              2020  9   \n",
       "26    Barrington South            1              2021  7   \n",
       "27    Mona Vale                   1              2020  9   \n",
       "28    Allenton West               1              2020 10   \n",
       "29    Avon Loop                   1              2020 10   \n",
       "30    West Melton                 1              2020 10   \n",
       "...   ...                         ...            ...  ...  \n",
       "15083 Bishopdale North            1              2021 5    \n",
       "15084 Hinds                       1              2021 5    \n",
       "15085 Ensors                      1              2021 5    \n",
       "15086 Aviemore                    1              2021 3    \n",
       "15087 Leeston                     1              2021 8    \n",
       "15088 Rawhiti                     1              2021 5    \n",
       "15089 Avonhead                    1              2021 4    \n",
       "15090 Fendalton                   1              2021 5    \n",
       "15091 West Melton                 1              2021 8    \n",
       "15092 Russley                     1              2021 4    \n",
       "15093 Fairlie                     1              2021 6    \n",
       "15094 Linwood                     1              2021 7    \n",
       "15095 Riccarton West              1              2021 1    \n",
       "15096 Tuahiwi                     1              2021 1    \n",
       "15097 Phillipstown                1              2021 7    \n",
       "15098 Kaiapoi South               1              2021 6    \n",
       "15099 Avon Loop                   1              2021 6    \n",
       "15100 Islington                   1              2021 7    \n",
       "15101 Upper Riccarton             1              2021 7    \n",
       "15102 Rangiora East               1              2021 7    \n",
       "15103 Taitapu                     1              2021 3    \n",
       "15104 Fairlie                     1              2021 2    \n",
       "15105 Wigram                      1              2021 4    \n",
       "15106 Hornby North                1              2021 4    \n",
       "15107 Waihao                      1              2021 4    \n",
       "15108 Lehmans                     1              2021 4    \n",
       "15109 Cathedral Square            1              2021 2    \n",
       "15110 Hornby South                1              2021 3    \n",
       "15111 Mona Vale                   1              2021 4    \n",
       "15112 Omarama                     1              2021 2    \n",
       "      Commonest_Crime                                     \n",
       "1     Theft and Related Offences                          \n",
       "2     Theft and Related Offences                          \n",
       "3     Theft and Related Offences                          \n",
       "4     Theft and Related Offences                          \n",
       "5     Theft and Related Offences                          \n",
       "6     Theft and Related Offences                          \n",
       "7     Theft and Related Offences                          \n",
       "8     Theft and Related Offences                          \n",
       "9     Theft and Related Offences                          \n",
       "10    Theft and Related Offences                          \n",
       "11    Theft and Related Offences                          \n",
       "12    Unlawful Entry With Intent/Burglary, Break and Enter\n",
       "13    Theft and Related Offences                          \n",
       "14    Theft and Related Offences                          \n",
       "15    Acts Intended to Cause Injury                       \n",
       "16    Theft and Related Offences                          \n",
       "17    Theft and Related Offences                          \n",
       "18    Theft and Related Offences                          \n",
       "19    Theft and Related Offences                          \n",
       "20    Theft and Related Offences                          \n",
       "21    Theft and Related Offences                          \n",
       "22    Theft and Related Offences                          \n",
       "23    Theft and Related Offences                          \n",
       "24    Theft and Related Offences                          \n",
       "25    Theft and Related Offences                          \n",
       "26    Theft and Related Offences                          \n",
       "27    Theft and Related Offences                          \n",
       "28    Theft and Related Offences                          \n",
       "29    Theft and Related Offences                          \n",
       "30    Theft and Related Offences                          \n",
       "...   ...                                                 \n",
       "15083 Theft and Related Offences                          \n",
       "15084 Unlawful Entry With Intent/Burglary, Break and Enter\n",
       "15085 Theft and Related Offences                          \n",
       "15086 Unlawful Entry With Intent/Burglary, Break and Enter\n",
       "15087 Theft and Related Offences                          \n",
       "15088 Theft and Related Offences                          \n",
       "15089 Unlawful Entry With Intent/Burglary, Break and Enter\n",
       "15090 Theft and Related Offences                          \n",
       "15091 Theft and Related Offences                          \n",
       "15092 Unlawful Entry With Intent/Burglary, Break and Enter\n",
       "15093 Theft and Related Offences                          \n",
       "15094 Theft and Related Offences                          \n",
       "15095 Unlawful Entry With Intent/Burglary, Break and Enter\n",
       "15096 Acts Intended to Cause Injury                       \n",
       "15097 Theft and Related Offences                          \n",
       "15098 Theft and Related Offences                          \n",
       "15099 Theft and Related Offences                          \n",
       "15100 Theft and Related Offences                          \n",
       "15101 Theft and Related Offences                          \n",
       "15102 Theft and Related Offences                          \n",
       "15103 Theft and Related Offences                          \n",
       "15104 Theft and Related Offences                          \n",
       "15105 Theft and Related Offences                          \n",
       "15106 Theft and Related Offences                          \n",
       "15107 Theft and Related Offences                          \n",
       "15108 Unlawful Entry With Intent/Burglary, Break and Enter\n",
       "15109 Theft and Related Offences                          \n",
       "15110 Theft and Related Offences                          \n",
       "15111 Theft and Related Offences                          \n",
       "15112 Theft and Related Offences                          "
      ]
     },
     "metadata": {},
     "output_type": "display_data"
    }
   ],
   "source": [
    "common_crime_by_area <- final_crime %>%\n",
    "                  group_by(AreaUnit) %>%\n",
    "                  mutate(Commonest_Crime = Mode(CrimeType)) \n",
    "common_crime_by_area"
   ]
  },
  {
   "cell_type": "markdown",
   "id": "75290e24",
   "metadata": {},
   "source": [
    "From the full table, a unique list of area units and their most common crime type is generated using the unique function."
   ]
  },
  {
   "cell_type": "code",
   "execution_count": 12,
   "id": "329b0bdb",
   "metadata": {},
   "outputs": [],
   "source": [
    "mode_crime <- unique(select(common_crime_by_area, AreaUnit, Commonest_Crime))"
   ]
  },
  {
   "cell_type": "markdown",
   "id": "228d19b3",
   "metadata": {},
   "source": [
    "The crime table is grouped by the area unit and the number of crime occurrences in each group are tallied up to form a total crime column. The dataframe was reordered to have a descending order of total crime. Then, the commonest crime table was left joined onto the total crime table. The final joined table contains the total crime and the most common crime type for each area unit."
   ]
  },
  {
   "cell_type": "code",
   "execution_count": 13,
   "id": "b4a50708",
   "metadata": {},
   "outputs": [
    {
     "data": {
      "text/html": [
       "<table class=\"dataframe\">\n",
       "<caption>A tibble: 6 × 3</caption>\n",
       "<thead>\n",
       "\t<tr><th scope=col>AreaUnit</th><th scope=col>Total_Crime</th><th scope=col>Commonest_Crime</th></tr>\n",
       "\t<tr><th scope=col>&lt;chr&gt;</th><th scope=col>&lt;dbl&gt;</th><th scope=col>&lt;chr&gt;</th></tr>\n",
       "</thead>\n",
       "<tbody>\n",
       "\t<tr><td>Cathedral Square</td><td>1612</td><td>Theft and Related Offences</td></tr>\n",
       "\t<tr><td>Linwood East    </td><td> 655</td><td>Theft and Related Offences</td></tr>\n",
       "\t<tr><td>Northcote       </td><td> 539</td><td>Theft and Related Offences</td></tr>\n",
       "\t<tr><td>Shirley East    </td><td> 534</td><td>Theft and Related Offences</td></tr>\n",
       "\t<tr><td>Riccarton       </td><td> 454</td><td>Theft and Related Offences</td></tr>\n",
       "\t<tr><td>Sydenham        </td><td> 416</td><td>Theft and Related Offences</td></tr>\n",
       "</tbody>\n",
       "</table>\n"
      ],
      "text/latex": [
       "A tibble: 6 × 3\n",
       "\\begin{tabular}{lll}\n",
       " AreaUnit & Total\\_Crime & Commonest\\_Crime\\\\\n",
       " <chr> & <dbl> & <chr>\\\\\n",
       "\\hline\n",
       "\t Cathedral Square & 1612 & Theft and Related Offences\\\\\n",
       "\t Linwood East     &  655 & Theft and Related Offences\\\\\n",
       "\t Northcote        &  539 & Theft and Related Offences\\\\\n",
       "\t Shirley East     &  534 & Theft and Related Offences\\\\\n",
       "\t Riccarton        &  454 & Theft and Related Offences\\\\\n",
       "\t Sydenham         &  416 & Theft and Related Offences\\\\\n",
       "\\end{tabular}\n"
      ],
      "text/markdown": [
       "\n",
       "A tibble: 6 × 3\n",
       "\n",
       "| AreaUnit &lt;chr&gt; | Total_Crime &lt;dbl&gt; | Commonest_Crime &lt;chr&gt; |\n",
       "|---|---|---|\n",
       "| Cathedral Square | 1612 | Theft and Related Offences |\n",
       "| Linwood East     |  655 | Theft and Related Offences |\n",
       "| Northcote        |  539 | Theft and Related Offences |\n",
       "| Shirley East     |  534 | Theft and Related Offences |\n",
       "| Riccarton        |  454 | Theft and Related Offences |\n",
       "| Sydenham         |  416 | Theft and Related Offences |\n",
       "\n"
      ],
      "text/plain": [
       "  AreaUnit         Total_Crime Commonest_Crime           \n",
       "1 Cathedral Square 1612        Theft and Related Offences\n",
       "2 Linwood East      655        Theft and Related Offences\n",
       "3 Northcote         539        Theft and Related Offences\n",
       "4 Shirley East      534        Theft and Related Offences\n",
       "5 Riccarton         454        Theft and Related Offences\n",
       "6 Sydenham          416        Theft and Related Offences"
      ]
     },
     "metadata": {},
     "output_type": "display_data"
    }
   ],
   "source": [
    "crime_by_area <- final_crime %>%\n",
    "                    group_by(AreaUnit) %>%\n",
    "                    tally(Victimisations) %>%\n",
    "                    arrange(desc(n)) %>%\n",
    "                    rename(Total_Crime = 2)\n",
    "crime_by_area <- crime_by_area %>%\n",
    "                    left_join(mode_crime, by='AreaUnit')\n",
    "head(crime_by_area)"
   ]
  },
  {
   "cell_type": "markdown",
   "id": "08e1ab1e",
   "metadata": {},
   "source": [
    "The table above will be joined to another table called area summary table, with Area Unit as the key. Hence, the dataframe is saved as a csv file."
   ]
  },
  {
   "cell_type": "code",
   "execution_count": 14,
   "id": "134a0bd6",
   "metadata": {},
   "outputs": [],
   "source": [
    "crime_by_area %>%\n",
    "  write_csv(\"crime_by_area.csv\")"
   ]
  },
  {
   "cell_type": "markdown",
   "id": "17dd78ab",
   "metadata": {},
   "source": [
    "Further insights are produced from the crime table. Firstly, the crime table is then grouped by HourOfDay and the total crime is tallied up for each hour of day."
   ]
  },
  {
   "cell_type": "code",
   "execution_count": 15,
   "id": "6055140c",
   "metadata": {},
   "outputs": [],
   "source": [
    "crime_by_hour <- final_crime %>%\n",
    "                  group_by(HourOfDay) %>%\n",
    "                  tally(Victimisations)%>%\n",
    "                  arrange(desc(n))%>%\n",
    "                  rename(Total_Crime = 2)"
   ]
  },
  {
   "cell_type": "markdown",
   "id": "8515fbd8",
   "metadata": {},
   "source": [
    "Then, the crime table is grouped by Day Of Week and the total crime tallied for each day. The string day label is recoded to numerical labels."
   ]
  },
  {
   "cell_type": "code",
   "execution_count": 22,
   "id": "809ee59d",
   "metadata": {},
   "outputs": [],
   "source": [
    "crime_by_day <- final_crime %>%\n",
    "                  group_by(DayOfWeek) %>%\n",
    "                  tally(Victimisations)%>%\n",
    "                  rename(Total_Crime = 2)\n",
    "crime_by_day$day_number <- recode(crime_by_day$DayOfWeek, \n",
    "       \"Sun\" = \"0\",\n",
    "       \"Mon\" = \"1\",\n",
    "       \"Tue\" = \"2\",\n",
    "       \"Wed\" = \"3\",\n",
    "       \"Thu\" = \"4\",\n",
    "       \"Fri\" = \"5\",\n",
    "       \"Sat\" = \"6\")"
   ]
  },
  {
   "cell_type": "markdown",
   "id": "05082624",
   "metadata": {},
   "source": [
    "The total crime is plotted against hour of day using the ggplot function."
   ]
  },
  {
   "cell_type": "code",
   "execution_count": 30,
   "id": "f1d8b445",
   "metadata": {},
   "outputs": [
    {
     "data": {
      "image/png": "[encoded data removed]",
      "text/plain": [
       "plot without title"
      ]
     },
     "metadata": {
      "image/png": {
       "height": 420,
       "width": 420
      }
     },
     "output_type": "display_data"
    }
   ],
   "source": [
    "p <- ggplot(crime_by_hour, aes(x=HourOfDay, y=Total_Crime))\n",
    "p + geom_point(size=3) + theme(text = element_text(size=30), axis.text.x = element_text(face=\"bold\", color=\"#993333\", \n",
    "                           size=14, angle=0),\n",
    "          axis.text.y = element_text(face=\"bold\", color=\"#993333\", \n",
    "                           size=14, angle=0)) + labs(x = \"Hour Of Day\", y = \"Total Crime\")\n"
   ]
  },
  {
   "cell_type": "markdown",
   "id": "ff088522",
   "metadata": {},
   "source": [
    "The total crime is plotted against day of week usign the ggplot function."
   ]
  },
  {
   "cell_type": "code",
   "execution_count": 31,
   "id": "67dbdef1",
   "metadata": {},
   "outputs": [
    {
     "data": {
      "image/png": "[encoded data removed]",
      "text/plain": [
       "plot without title"
      ]
     },
     "metadata": {
      "image/png": {
       "height": 420,
       "width": 420
      }
     },
     "output_type": "display_data"
    }
   ],
   "source": [
    "p <- ggplot(crime_by_day, aes(x=day_number, y=Total_Crime))\n",
    "p + geom_point(size=3) + scale_x_discrete(labels=c(\"0\" = \"Sun\", \"1\" = \"Mon\",\n",
    "                              \"2\" = \"Tues\", \"3\" = \"Wed\", \"4\" = \"Thu\", \"5\" = \"Fri\", \"6\" = \"Sat\")) + theme(text = element_text(size=30), axis.text.x = element_text(face=\"bold\", color=\"#993333\", \n",
    "                           size=14, angle=0),\n",
    "          axis.text.y = element_text(face=\"bold\", color=\"#993333\", \n",
    "                           size=14, angle=0)) + labs(x = \"Day Of Week\", y = \"Total Crime\")\n"
   ]
  }
 ],
 "metadata": {
  "kernelspec": {
   "display_name": "R",
   "language": "R",
   "name": "ir"
  },
  "language_info": {
   "codemirror_mode": "r",
   "file_extension": ".r",
   "mimetype": "text/x-r-source",
   "name": "R",
   "pygments_lexer": "r",
   "version": "4.1.0"
  }
 },
 "nbformat": 4,
 "nbformat_minor": 5
}
