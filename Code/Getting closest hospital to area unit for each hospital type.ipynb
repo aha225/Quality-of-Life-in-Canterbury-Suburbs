{
 "cells": [
  {
   "cell_type": "markdown",
   "id": "729eec37",
   "metadata": {},
   "source": [
    "# Code to get the hospital closest to the centre of an area unit, and area unit of hospital\n",
    "\n",
    "We have a hospital dataframe, but don't know the area unit of the hospital. In this notebook we will take the hospital dataframe and the area unit dataframes and use the lat and long coordinates that each have to calculate the nearest hospital to certain unit area"
   ]
  },
  {
   "cell_type": "code",
   "execution_count": 5,
   "id": "ec9dce98",
   "metadata": {},
   "outputs": [],
   "source": [
    "# Installing  and attaching packages\n",
    "using Pkg \n",
    "#Pkg.add(\"DataFrames\")\n",
    "#Pkg.add(\"CSV\")\n",
    "\n",
    "using CSV, DataFrames"
   ]
  },
  {
   "cell_type": "markdown",
   "id": "02bc5bc5",
   "metadata": {},
   "source": [
    "First we need to load the datasets"
   ]
  },
  {
   "cell_type": "code",
   "execution_count": 6,
   "id": "06f6f446",
   "metadata": {},
   "outputs": [
    {
     "data": {
      "text/html": [
       "<div class=\"data-frame\"><p>21 rows × 19 columns (omitted printing of 16 columns)</p><table class=\"data-frame\"><thead><tr><th></th><th>Premises.Name</th><th>Certification.Service.Type</th><th>Service.Types</th></tr><tr><th></th><th title=\"String\">String</th><th title=\"String\">String</th><th title=\"String\">String</th></tr></thead><tbody><tr><th>1</th><td>Ashburton Hospital</td><td>Public Hospital</td><td>Medical, Maternity</td></tr><tr><th>2</th><td>Burwood Hospital</td><td>Public Hospital</td><td>Surgical, Geriatric, Psychogeriatric, Medical</td></tr><tr><th>3</th><td>Chatham Island Health Centre</td><td>Public Hospital</td><td>Medical</td></tr><tr><th>4</th><td>Christchurch Hospital</td><td>Public Hospital</td><td>Childrens health, Medical, Surgical, Maternity</td></tr><tr><th>5</th><td>Darfield Hospital</td><td>Public Hospital</td><td>Medical, Geriatric</td></tr><tr><th>6</th><td>Ellesmere Hospital</td><td>Public Hospital</td><td>Medical, Geriatric</td></tr><tr><th>7</th><td>Hillmorton Hospital</td><td>Public Hospital</td><td>Mental health</td></tr><tr><th>8</th><td>Kaikoura Hospital</td><td>Public Hospital</td><td>Medical, Maternity, Geriatric</td></tr><tr><th>9</th><td>Lincoln Maternity Hospital</td><td>Public Hospital</td><td>Maternity</td></tr><tr><th>10</th><td>Oxford Hospital</td><td>Public Hospital</td><td>Medical, Geriatric</td></tr><tr><th>11</th><td>Rangiora Hospital</td><td>Public Hospital</td><td>Medical, Maternity</td></tr><tr><th>12</th><td>The Princess Margaret Hospital</td><td>Public Hospital</td><td>Mental health</td></tr><tr><th>13</th><td>Tuarangi Home</td><td>Public Hospital</td><td>Geriatric, Dementia care, Medical</td></tr><tr><th>14</th><td>Waikari Hospital</td><td>Public Hospital</td><td>Medical, Geriatric</td></tr><tr><th>15</th><td>Timaru Hospital</td><td>Public Hospital</td><td>Childrens health, Maternity, Surgical, Medical, Mental health</td></tr><tr><th>16</th><td>Bidwill Trust Hospital</td><td>NGO Hospital</td><td>Surgical</td></tr><tr><th>17</th><td>Forte Health Hospital</td><td>NGO Hospital</td><td>Surgical</td></tr><tr><th>18</th><td>Nurse Maude Hospice</td><td>NGO Hospital</td><td>Medical</td></tr><tr><th>19</th><td>Hospice South Canterbury</td><td>NGO Hospital</td><td>Medical</td></tr><tr><th>20</th><td>Southern Cross Hospital Christchurch</td><td>NGO Hospital</td><td>Medical, Surgical</td></tr><tr><th>21</th><td>St George&apos;s Hospital</td><td>NGO Hospital</td><td>Maternity, Surgical</td></tr></tbody></table></div>"
      ],
      "text/latex": [
       "\\begin{tabular}{r|cccc}\n",
       "\t& Premises.Name & Certification.Service.Type & Service.Types & \\\\\n",
       "\t\\hline\n",
       "\t& String & String & String & \\\\\n",
       "\t\\hline\n",
       "\t1 & Ashburton Hospital & Public Hospital & Medical, Maternity & $\\dots$ \\\\\n",
       "\t2 & Burwood Hospital & Public Hospital & Surgical, Geriatric, Psychogeriatric, Medical & $\\dots$ \\\\\n",
       "\t3 & Chatham Island Health Centre & Public Hospital & Medical & $\\dots$ \\\\\n",
       "\t4 & Christchurch Hospital & Public Hospital & Childrens health, Medical, Surgical, Maternity & $\\dots$ \\\\\n",
       "\t5 & Darfield Hospital & Public Hospital & Medical, Geriatric & $\\dots$ \\\\\n",
       "\t6 & Ellesmere Hospital & Public Hospital & Medical, Geriatric & $\\dots$ \\\\\n",
       "\t7 & Hillmorton Hospital & Public Hospital & Mental health & $\\dots$ \\\\\n",
       "\t8 & Kaikoura Hospital & Public Hospital & Medical, Maternity, Geriatric & $\\dots$ \\\\\n",
       "\t9 & Lincoln Maternity Hospital & Public Hospital & Maternity & $\\dots$ \\\\\n",
       "\t10 & Oxford Hospital & Public Hospital & Medical, Geriatric & $\\dots$ \\\\\n",
       "\t11 & Rangiora Hospital & Public Hospital & Medical, Maternity & $\\dots$ \\\\\n",
       "\t12 & The Princess Margaret Hospital & Public Hospital & Mental health & $\\dots$ \\\\\n",
       "\t13 & Tuarangi Home & Public Hospital & Geriatric, Dementia care, Medical & $\\dots$ \\\\\n",
       "\t14 & Waikari Hospital & Public Hospital & Medical, Geriatric & $\\dots$ \\\\\n",
       "\t15 & Timaru Hospital & Public Hospital & Childrens health, Maternity, Surgical, Medical, Mental health & $\\dots$ \\\\\n",
       "\t16 & Bidwill Trust Hospital & NGO Hospital & Surgical & $\\dots$ \\\\\n",
       "\t17 & Forte Health Hospital & NGO Hospital & Surgical & $\\dots$ \\\\\n",
       "\t18 & Nurse Maude Hospice & NGO Hospital & Medical & $\\dots$ \\\\\n",
       "\t19 & Hospice South Canterbury & NGO Hospital & Medical & $\\dots$ \\\\\n",
       "\t20 & Southern Cross Hospital Christchurch & NGO Hospital & Medical, Surgical & $\\dots$ \\\\\n",
       "\t21 & St George's Hospital & NGO Hospital & Maternity, Surgical & $\\dots$ \\\\\n",
       "\\end{tabular}\n"
      ],
      "text/plain": [
       "\u001b[1m21×19 DataFrame\u001b[0m\n",
       "\u001b[1m Row \u001b[0m│\u001b[1m Premises.Name                     \u001b[0m\u001b[1m Certification.Service.Type \u001b[0m\u001b[1m Service.\u001b[0m ⋯\n",
       "\u001b[1m     \u001b[0m│\u001b[90m String                            \u001b[0m\u001b[90m String                     \u001b[0m\u001b[90m String  \u001b[0m ⋯\n",
       "─────┼──────────────────────────────────────────────────────────────────────────\n",
       "   1 │ Ashburton Hospital                 Public Hospital             Medical, ⋯\n",
       "   2 │ Burwood Hospital                   Public Hospital             Surgical\n",
       "   3 │ Chatham Island Health Centre       Public Hospital             Medical\n",
       "   4 │ Christchurch Hospital              Public Hospital             Children\n",
       "   5 │ Darfield Hospital                  Public Hospital             Medical, ⋯\n",
       "   6 │ Ellesmere Hospital                 Public Hospital             Medical,\n",
       "   7 │ Hillmorton Hospital                Public Hospital             Mental h\n",
       "   8 │ Kaikoura Hospital                  Public Hospital             Medical,\n",
       "   9 │ Lincoln Maternity Hospital         Public Hospital             Maternit ⋯\n",
       "  10 │ Oxford Hospital                    Public Hospital             Medical,\n",
       "  11 │ Rangiora Hospital                  Public Hospital             Medical,\n",
       "  12 │ The Princess Margaret Hospital     Public Hospital             Mental h\n",
       "  13 │ Tuarangi Home                      Public Hospital             Geriatri ⋯\n",
       "  14 │ Waikari Hospital                   Public Hospital             Medical,\n",
       "  15 │ Timaru Hospital                    Public Hospital             Children\n",
       "  16 │ Bidwill Trust Hospital             NGO Hospital                Surgical\n",
       "  17 │ Forte Health Hospital              NGO Hospital                Surgical ⋯\n",
       "  18 │ Nurse Maude Hospice                NGO Hospital                Medical\n",
       "  19 │ Hospice South Canterbury           NGO Hospital                Medical\n",
       "  20 │ Southern Cross Hospital Christch…  NGO Hospital                Medical,\n",
       "  21 │ St George's Hospital               NGO Hospital                Maternit ⋯\n",
       "\u001b[36m                                                              17 columns omitted\u001b[0m"
      ]
     },
     "execution_count": 6,
     "metadata": {},
     "output_type": "execute_result"
    }
   ],
   "source": [
    "#Loading datasets\n",
    "area_units = CSV.read(\"areaXY.csv\", DataFrame)\n",
    "hospitals = CSV.read(\"CanterburyHospitalsLocationsFinal.csv\", DataFrame)\n"
   ]
  },
  {
   "cell_type": "markdown",
   "id": "89e549b4",
   "metadata": {},
   "source": [
    "Note that area units has latitude and longitude switched around the wrong way, so we clean up this table."
   ]
  },
  {
   "cell_type": "code",
   "execution_count": 8,
   "id": "98e2d93e",
   "metadata": {},
   "outputs": [
    {
     "data": {
      "text/html": [
       "<div class=\"data-frame\"><p>245 rows × 3 columns</p><table class=\"data-frame\"><thead><tr><th></th><th>AU2017_NAME</th><th>Latitude</th><th>Longitude</th></tr><tr><th></th><th title=\"String\">String</th><th title=\"Float64\">Float64</th><th title=\"Float64\">Float64</th></tr></thead><tbody><tr><th>1</th><td>Addington</td><td>-43.5435</td><td>172.62</td></tr><tr><th>2</th><td>Aidanfield</td><td>-43.5644</td><td>172.569</td></tr><tr><th>3</th><td>Akaroa</td><td>-43.8067</td><td>172.966</td></tr><tr><th>4</th><td>Akaroa Harbour</td><td>-43.7716</td><td>172.939</td></tr><tr><th>5</th><td>Allenton East</td><td>-43.8922</td><td>171.753</td></tr><tr><th>6</th><td>Allenton West</td><td>-43.8905</td><td>171.742</td></tr><tr><th>7</th><td>Amberley</td><td>-43.1558</td><td>172.73</td></tr><tr><th>8</th><td>Amuri</td><td>-42.5893</td><td>172.72</td></tr><tr><th>9</th><td>Aorangi</td><td>-43.4993</td><td>172.595</td></tr><tr><th>10</th><td>Aranui</td><td>-43.5107</td><td>172.703</td></tr><tr><th>11</th><td>Ashburton Central East</td><td>-43.9055</td><td>171.75</td></tr><tr><th>12</th><td>Ashburton Central West</td><td>-43.9016</td><td>171.748</td></tr><tr><th>13</th><td>Ashburton East</td><td>-43.9141</td><td>171.771</td></tr><tr><th>14</th><td>Ashburton North</td><td>-43.8786</td><td>171.769</td></tr><tr><th>15</th><td>Ashley</td><td>-43.2585</td><td>172.62</td></tr><tr><th>16</th><td>Ashley Gorge</td><td>-43.3034</td><td>172.192</td></tr><tr><th>17</th><td>Aviemore</td><td>-44.58</td><td>170.072</td></tr><tr><th>18</th><td>Avon Loop</td><td>-43.5256</td><td>172.643</td></tr><tr><th>19</th><td>Avondale</td><td>-43.5081</td><td>172.693</td></tr><tr><th>20</th><td>Avonhead</td><td>-43.5214</td><td>172.559</td></tr><tr><th>21</th><td>Avonhead West</td><td>-43.5206</td><td>172.54</td></tr><tr><th>22</th><td>Avonside</td><td>-43.5233</td><td>172.672</td></tr><tr><th>23</th><td>Banks Peninsula Eastern Bays</td><td>-43.7333</td><td>172.969</td></tr><tr><th>24</th><td>Barrington North</td><td>-43.554</td><td>172.61</td></tr><tr><th>25</th><td>Barrington South</td><td>-43.5644</td><td>172.619</td></tr><tr><th>26</th><td>Beckenham</td><td>-43.5598</td><td>172.642</td></tr><tr><th>27</th><td>Belfast</td><td>-43.4517</td><td>172.629</td></tr><tr><th>28</th><td>Belfast South</td><td>-43.4604</td><td>172.62</td></tr><tr><th>29</th><td>Ben Mcleod</td><td>-43.8575</td><td>171.258</td></tr><tr><th>30</th><td>Bexley</td><td>-43.5167</td><td>172.71</td></tr><tr><th>&vellip;</th><td>&vellip;</td><td>&vellip;</td><td>&vellip;</td></tr></tbody></table></div>"
      ],
      "text/latex": [
       "\\begin{tabular}{r|ccc}\n",
       "\t& AU2017\\_NAME & Latitude & Longitude\\\\\n",
       "\t\\hline\n",
       "\t& String & Float64 & Float64\\\\\n",
       "\t\\hline\n",
       "\t1 & Addington & -43.5435 & 172.62 \\\\\n",
       "\t2 & Aidanfield & -43.5644 & 172.569 \\\\\n",
       "\t3 & Akaroa & -43.8067 & 172.966 \\\\\n",
       "\t4 & Akaroa Harbour & -43.7716 & 172.939 \\\\\n",
       "\t5 & Allenton East & -43.8922 & 171.753 \\\\\n",
       "\t6 & Allenton West & -43.8905 & 171.742 \\\\\n",
       "\t7 & Amberley & -43.1558 & 172.73 \\\\\n",
       "\t8 & Amuri & -42.5893 & 172.72 \\\\\n",
       "\t9 & Aorangi & -43.4993 & 172.595 \\\\\n",
       "\t10 & Aranui & -43.5107 & 172.703 \\\\\n",
       "\t11 & Ashburton Central East & -43.9055 & 171.75 \\\\\n",
       "\t12 & Ashburton Central West & -43.9016 & 171.748 \\\\\n",
       "\t13 & Ashburton East & -43.9141 & 171.771 \\\\\n",
       "\t14 & Ashburton North & -43.8786 & 171.769 \\\\\n",
       "\t15 & Ashley & -43.2585 & 172.62 \\\\\n",
       "\t16 & Ashley Gorge & -43.3034 & 172.192 \\\\\n",
       "\t17 & Aviemore & -44.58 & 170.072 \\\\\n",
       "\t18 & Avon Loop & -43.5256 & 172.643 \\\\\n",
       "\t19 & Avondale & -43.5081 & 172.693 \\\\\n",
       "\t20 & Avonhead & -43.5214 & 172.559 \\\\\n",
       "\t21 & Avonhead West & -43.5206 & 172.54 \\\\\n",
       "\t22 & Avonside & -43.5233 & 172.672 \\\\\n",
       "\t23 & Banks Peninsula Eastern Bays & -43.7333 & 172.969 \\\\\n",
       "\t24 & Barrington North & -43.554 & 172.61 \\\\\n",
       "\t25 & Barrington South & -43.5644 & 172.619 \\\\\n",
       "\t26 & Beckenham & -43.5598 & 172.642 \\\\\n",
       "\t27 & Belfast & -43.4517 & 172.629 \\\\\n",
       "\t28 & Belfast South & -43.4604 & 172.62 \\\\\n",
       "\t29 & Ben Mcleod & -43.8575 & 171.258 \\\\\n",
       "\t30 & Bexley & -43.5167 & 172.71 \\\\\n",
       "\t$\\dots$ & $\\dots$ & $\\dots$ & $\\dots$ \\\\\n",
       "\\end{tabular}\n"
      ],
      "text/plain": [
       "\u001b[1m245×3 DataFrame\u001b[0m\n",
       "\u001b[1m Row \u001b[0m│\u001b[1m AU2017_NAME            \u001b[0m\u001b[1m Latitude \u001b[0m\u001b[1m Longitude \u001b[0m\n",
       "\u001b[1m     \u001b[0m│\u001b[90m String                 \u001b[0m\u001b[90m Float64  \u001b[0m\u001b[90m Float64   \u001b[0m\n",
       "─────┼─────────────────────────────────────────────\n",
       "   1 │ Addington               -43.5435    172.62\n",
       "   2 │ Aidanfield              -43.5644    172.569\n",
       "   3 │ Akaroa                  -43.8067    172.966\n",
       "   4 │ Akaroa Harbour          -43.7716    172.939\n",
       "   5 │ Allenton East           -43.8922    171.753\n",
       "   6 │ Allenton West           -43.8905    171.742\n",
       "   7 │ Amberley                -43.1558    172.73\n",
       "   8 │ Amuri                   -42.5893    172.72\n",
       "   9 │ Aorangi                 -43.4993    172.595\n",
       "  10 │ Aranui                  -43.5107    172.703\n",
       "  11 │ Ashburton Central East  -43.9055    171.75\n",
       "  ⋮  │           ⋮                ⋮          ⋮\n",
       " 236 │ Westmorland             -43.5805    172.603\n",
       " 237 │ Wharenui                -43.5339    172.58\n",
       " 238 │ Wigram                  -43.5495    172.557\n",
       " 239 │ Winchester              -44.1882    171.278\n",
       " 240 │ Woodend                 -43.3214    172.665\n",
       " 241 │ Woodend Beach           -43.3402    172.67\n",
       " 242 │ Woodend West            -43.3233    172.661\n",
       " 243 │ Woolston South          -43.5539    172.68\n",
       " 244 │ Woolston West           -43.541     172.673\n",
       " 245 │ Yaldhurst               -43.4982    172.535\n",
       "\u001b[36m                                   224 rows omitted\u001b[0m"
      ]
     },
     "execution_count": 8,
     "metadata": {},
     "output_type": "execute_result"
    }
   ],
   "source": [
    "# Fixing column names of area units table\n",
    "area_units = select(area_units, \"AU2017_NAME\", \"Longitude\" => \"Latitude\", \"Latitude\" => \"Longitude\")"
   ]
  },
  {
   "cell_type": "code",
   "execution_count": 9,
   "id": "9fced51c",
   "metadata": {},
   "outputs": [
    {
     "data": {
      "text/html": [
       "<div class=\"data-frame\"><p>22 rows × 7 columns (omitted printing of 4 columns)</p><table class=\"data-frame\"><thead><tr><th></th><th>variable</th><th>mean</th><th>min</th></tr><tr><th></th><th title=\"Symbol\">Symbol</th><th title=\"Union{Nothing, Float64}\">Union…</th><th title=\"Any\">Any</th></tr></thead><tbody><tr><th>1</th><td>Premises.Name</td><td></td><td>Ashburton Hospital</td></tr><tr><th>2</th><td>Certification.Service.Type</td><td></td><td>NGO Hospital</td></tr><tr><th>3</th><td>Service.Types</td><td></td><td>Childrens health, Maternity, Surgical, Medical, Mental health</td></tr><tr><th>4</th><td>Total.Beds</td><td>87.0476</td><td>3</td></tr><tr><th>5</th><td>Premises.Address</td><td></td><td>1 Lincoln Road</td></tr><tr><th>6</th><td>Premises.Address.Suburb.Road</td><td></td><td>Allenton</td></tr><tr><th>7</th><td>Premises.Address.Town.City</td><td></td><td>Ashburton</td></tr><tr><th>8</th><td>Premises.Address.Post.Code</td><td>7792.24</td><td>7300</td></tr><tr><th>9</th><td>DHB.Name</td><td></td><td>Canterbury District Health Board</td></tr><tr><th>10</th><td>Childrens health</td><td>0.0952381</td><td>0</td></tr><tr><th>11</th><td>Dementia care</td><td>0.047619</td><td>0</td></tr><tr><th>12</th><td>Geriatric</td><td>0.333333</td><td>0</td></tr><tr><th>13</th><td>Maternity</td><td>0.333333</td><td>0</td></tr><tr><th>14</th><td>Medical</td><td>0.714286</td><td>0</td></tr><tr><th>15</th><td>Mental health</td><td>0.142857</td><td>0</td></tr><tr><th>16</th><td>Psychogeriatric</td><td>0.047619</td><td>0</td></tr><tr><th>17</th><td>Surgical</td><td>0.333333</td><td>0</td></tr><tr><th>18</th><td>Latitude</td><td>-43.6188</td><td>-44.4082</td></tr><tr><th>19</th><td>Longitude</td><td>155.703</td><td>-176.559</td></tr><tr><th>20</th><td>AU2017_NAME</td><td></td><td>Addington</td></tr><tr><th>21</th><td>Latitude_1</td><td>-43.6108</td><td>-44.8535</td></tr><tr><th>22</th><td>Longitude_1</td><td>172.329</td><td>169.969</td></tr></tbody></table></div>"
      ],
      "text/latex": [
       "\\begin{tabular}{r|cccc}\n",
       "\t& variable & mean & min & \\\\\n",
       "\t\\hline\n",
       "\t& Symbol & Union… & Any & \\\\\n",
       "\t\\hline\n",
       "\t1 & Premises.Name &  & Ashburton Hospital & $\\dots$ \\\\\n",
       "\t2 & Certification.Service.Type &  & NGO Hospital & $\\dots$ \\\\\n",
       "\t3 & Service.Types &  & Childrens health, Maternity, Surgical, Medical, Mental health & $\\dots$ \\\\\n",
       "\t4 & Total.Beds & 87.0476 & 3 & $\\dots$ \\\\\n",
       "\t5 & Premises.Address &  & 1 Lincoln Road & $\\dots$ \\\\\n",
       "\t6 & Premises.Address.Suburb.Road &  & Allenton & $\\dots$ \\\\\n",
       "\t7 & Premises.Address.Town.City &  & Ashburton & $\\dots$ \\\\\n",
       "\t8 & Premises.Address.Post.Code & 7792.24 & 7300 & $\\dots$ \\\\\n",
       "\t9 & DHB.Name &  & Canterbury District Health Board & $\\dots$ \\\\\n",
       "\t10 & Childrens health & 0.0952381 & 0 & $\\dots$ \\\\\n",
       "\t11 & Dementia care & 0.047619 & 0 & $\\dots$ \\\\\n",
       "\t12 & Geriatric & 0.333333 & 0 & $\\dots$ \\\\\n",
       "\t13 & Maternity & 0.333333 & 0 & $\\dots$ \\\\\n",
       "\t14 & Medical & 0.714286 & 0 & $\\dots$ \\\\\n",
       "\t15 & Mental health & 0.142857 & 0 & $\\dots$ \\\\\n",
       "\t16 & Psychogeriatric & 0.047619 & 0 & $\\dots$ \\\\\n",
       "\t17 & Surgical & 0.333333 & 0 & $\\dots$ \\\\\n",
       "\t18 & Latitude & -43.6188 & -44.4082 & $\\dots$ \\\\\n",
       "\t19 & Longitude & 155.703 & -176.559 & $\\dots$ \\\\\n",
       "\t20 & AU2017\\_NAME &  & Addington & $\\dots$ \\\\\n",
       "\t21 & Latitude\\_1 & -43.6108 & -44.8535 & $\\dots$ \\\\\n",
       "\t22 & Longitude\\_1 & 172.329 & 169.969 & $\\dots$ \\\\\n",
       "\\end{tabular}\n"
      ],
      "text/plain": [
       "\u001b[1m22×7 DataFrame\u001b[0m\n",
       "\u001b[1m Row \u001b[0m│\u001b[1m variable                     \u001b[0m\u001b[1m mean      \u001b[0m\u001b[1m min                           \u001b[0m ⋯\n",
       "\u001b[1m     \u001b[0m│\u001b[90m Symbol                       \u001b[0m\u001b[90m Union…    \u001b[0m\u001b[90m Any                           \u001b[0m ⋯\n",
       "─────┼──────────────────────────────────────────────────────────────────────────\n",
       "   1 │ Premises.Name                \u001b[90m           \u001b[0m Ashburton Hospital             ⋯\n",
       "   2 │ Certification.Service.Type   \u001b[90m           \u001b[0m NGO Hospital\n",
       "   3 │ Service.Types                \u001b[90m           \u001b[0m Childrens health, Maternity, S\n",
       "   4 │ Total.Beds                    87.0476    3\n",
       "   5 │ Premises.Address             \u001b[90m           \u001b[0m 1 Lincoln Road                 ⋯\n",
       "   6 │ Premises.Address.Suburb.Road \u001b[90m           \u001b[0m Allenton\n",
       "   7 │ Premises.Address.Town.City   \u001b[90m           \u001b[0m Ashburton\n",
       "   8 │ Premises.Address.Post.Code    7792.24    7300\n",
       "   9 │ DHB.Name                     \u001b[90m           \u001b[0m Canterbury District Health Boa ⋯\n",
       "  10 │ Childrens health              0.0952381  0\n",
       "  11 │ Dementia care                 0.047619   0\n",
       "  12 │ Geriatric                     0.333333   0\n",
       "  13 │ Maternity                     0.333333   0                              ⋯\n",
       "  14 │ Medical                       0.714286   0\n",
       "  15 │ Mental health                 0.142857   0\n",
       "  16 │ Psychogeriatric               0.047619   0\n",
       "  17 │ Surgical                      0.333333   0                              ⋯\n",
       "  18 │ Latitude                      -43.6188   -44.4082\n",
       "  19 │ Longitude                     155.703    -176.559\n",
       "  20 │ AU2017_NAME                  \u001b[90m           \u001b[0m Addington\n",
       "  21 │ Latitude_1                    -43.6108   -44.8535                       ⋯\n",
       "  22 │ Longitude_1                   172.329    169.969\n",
       "\u001b[36m                                                               5 columns omitted\u001b[0m"
      ]
     },
     "execution_count": 9,
     "metadata": {},
     "output_type": "execute_result"
    }
   ],
   "source": [
    "# Crossjoin hospitals and area units to get one large df with each area unit matched with each hospital\n",
    "cross_df = crossjoin(hospitals, area_units, makeunique = true)\n",
    "describe(cross_df)"
   ]
  },
  {
   "cell_type": "code",
   "execution_count": 10,
   "id": "6b316872",
   "metadata": {},
   "outputs": [
    {
     "data": {
      "text/html": [
       "<div class=\"data-frame\"><p>5,145 rows × 22 columns (omitted printing of 18 columns)</p><table class=\"data-frame\"><thead><tr><th></th><th>Hospital_Name</th><th>Certification_Service_Type</th><th>Service_Types</th><th>Total_Beds</th></tr><tr><th></th><th title=\"String\">String</th><th title=\"String\">String</th><th title=\"String\">String</th><th title=\"Int64\">Int64</th></tr></thead><tbody><tr><th>1</th><td>Ashburton Hospital</td><td>Public Hospital</td><td>Medical, Maternity</td><td>56</td></tr><tr><th>2</th><td>Ashburton Hospital</td><td>Public Hospital</td><td>Medical, Maternity</td><td>56</td></tr><tr><th>3</th><td>Ashburton Hospital</td><td>Public Hospital</td><td>Medical, Maternity</td><td>56</td></tr><tr><th>4</th><td>Ashburton Hospital</td><td>Public Hospital</td><td>Medical, Maternity</td><td>56</td></tr><tr><th>5</th><td>Ashburton Hospital</td><td>Public Hospital</td><td>Medical, Maternity</td><td>56</td></tr><tr><th>6</th><td>Ashburton Hospital</td><td>Public Hospital</td><td>Medical, Maternity</td><td>56</td></tr><tr><th>7</th><td>Ashburton Hospital</td><td>Public Hospital</td><td>Medical, Maternity</td><td>56</td></tr><tr><th>8</th><td>Ashburton Hospital</td><td>Public Hospital</td><td>Medical, Maternity</td><td>56</td></tr><tr><th>9</th><td>Ashburton Hospital</td><td>Public Hospital</td><td>Medical, Maternity</td><td>56</td></tr><tr><th>10</th><td>Ashburton Hospital</td><td>Public Hospital</td><td>Medical, Maternity</td><td>56</td></tr><tr><th>11</th><td>Ashburton Hospital</td><td>Public Hospital</td><td>Medical, Maternity</td><td>56</td></tr><tr><th>12</th><td>Ashburton Hospital</td><td>Public Hospital</td><td>Medical, Maternity</td><td>56</td></tr><tr><th>13</th><td>Ashburton Hospital</td><td>Public Hospital</td><td>Medical, Maternity</td><td>56</td></tr><tr><th>14</th><td>Ashburton Hospital</td><td>Public Hospital</td><td>Medical, Maternity</td><td>56</td></tr><tr><th>15</th><td>Ashburton Hospital</td><td>Public Hospital</td><td>Medical, Maternity</td><td>56</td></tr><tr><th>16</th><td>Ashburton Hospital</td><td>Public Hospital</td><td>Medical, Maternity</td><td>56</td></tr><tr><th>17</th><td>Ashburton Hospital</td><td>Public Hospital</td><td>Medical, Maternity</td><td>56</td></tr><tr><th>18</th><td>Ashburton Hospital</td><td>Public Hospital</td><td>Medical, Maternity</td><td>56</td></tr><tr><th>19</th><td>Ashburton Hospital</td><td>Public Hospital</td><td>Medical, Maternity</td><td>56</td></tr><tr><th>20</th><td>Ashburton Hospital</td><td>Public Hospital</td><td>Medical, Maternity</td><td>56</td></tr><tr><th>21</th><td>Ashburton Hospital</td><td>Public Hospital</td><td>Medical, Maternity</td><td>56</td></tr><tr><th>22</th><td>Ashburton Hospital</td><td>Public Hospital</td><td>Medical, Maternity</td><td>56</td></tr><tr><th>23</th><td>Ashburton Hospital</td><td>Public Hospital</td><td>Medical, Maternity</td><td>56</td></tr><tr><th>24</th><td>Ashburton Hospital</td><td>Public Hospital</td><td>Medical, Maternity</td><td>56</td></tr><tr><th>25</th><td>Ashburton Hospital</td><td>Public Hospital</td><td>Medical, Maternity</td><td>56</td></tr><tr><th>26</th><td>Ashburton Hospital</td><td>Public Hospital</td><td>Medical, Maternity</td><td>56</td></tr><tr><th>27</th><td>Ashburton Hospital</td><td>Public Hospital</td><td>Medical, Maternity</td><td>56</td></tr><tr><th>28</th><td>Ashburton Hospital</td><td>Public Hospital</td><td>Medical, Maternity</td><td>56</td></tr><tr><th>29</th><td>Ashburton Hospital</td><td>Public Hospital</td><td>Medical, Maternity</td><td>56</td></tr><tr><th>30</th><td>Ashburton Hospital</td><td>Public Hospital</td><td>Medical, Maternity</td><td>56</td></tr><tr><th>&vellip;</th><td>&vellip;</td><td>&vellip;</td><td>&vellip;</td><td>&vellip;</td></tr></tbody></table></div>"
      ],
      "text/latex": [
       "\\begin{tabular}{r|ccccc}\n",
       "\t& Hospital\\_Name & Certification\\_Service\\_Type & Service\\_Types & Total\\_Beds & \\\\\n",
       "\t\\hline\n",
       "\t& String & String & String & Int64 & \\\\\n",
       "\t\\hline\n",
       "\t1 & Ashburton Hospital & Public Hospital & Medical, Maternity & 56 & $\\dots$ \\\\\n",
       "\t2 & Ashburton Hospital & Public Hospital & Medical, Maternity & 56 & $\\dots$ \\\\\n",
       "\t3 & Ashburton Hospital & Public Hospital & Medical, Maternity & 56 & $\\dots$ \\\\\n",
       "\t4 & Ashburton Hospital & Public Hospital & Medical, Maternity & 56 & $\\dots$ \\\\\n",
       "\t5 & Ashburton Hospital & Public Hospital & Medical, Maternity & 56 & $\\dots$ \\\\\n",
       "\t6 & Ashburton Hospital & Public Hospital & Medical, Maternity & 56 & $\\dots$ \\\\\n",
       "\t7 & Ashburton Hospital & Public Hospital & Medical, Maternity & 56 & $\\dots$ \\\\\n",
       "\t8 & Ashburton Hospital & Public Hospital & Medical, Maternity & 56 & $\\dots$ \\\\\n",
       "\t9 & Ashburton Hospital & Public Hospital & Medical, Maternity & 56 & $\\dots$ \\\\\n",
       "\t10 & Ashburton Hospital & Public Hospital & Medical, Maternity & 56 & $\\dots$ \\\\\n",
       "\t11 & Ashburton Hospital & Public Hospital & Medical, Maternity & 56 & $\\dots$ \\\\\n",
       "\t12 & Ashburton Hospital & Public Hospital & Medical, Maternity & 56 & $\\dots$ \\\\\n",
       "\t13 & Ashburton Hospital & Public Hospital & Medical, Maternity & 56 & $\\dots$ \\\\\n",
       "\t14 & Ashburton Hospital & Public Hospital & Medical, Maternity & 56 & $\\dots$ \\\\\n",
       "\t15 & Ashburton Hospital & Public Hospital & Medical, Maternity & 56 & $\\dots$ \\\\\n",
       "\t16 & Ashburton Hospital & Public Hospital & Medical, Maternity & 56 & $\\dots$ \\\\\n",
       "\t17 & Ashburton Hospital & Public Hospital & Medical, Maternity & 56 & $\\dots$ \\\\\n",
       "\t18 & Ashburton Hospital & Public Hospital & Medical, Maternity & 56 & $\\dots$ \\\\\n",
       "\t19 & Ashburton Hospital & Public Hospital & Medical, Maternity & 56 & $\\dots$ \\\\\n",
       "\t20 & Ashburton Hospital & Public Hospital & Medical, Maternity & 56 & $\\dots$ \\\\\n",
       "\t21 & Ashburton Hospital & Public Hospital & Medical, Maternity & 56 & $\\dots$ \\\\\n",
       "\t22 & Ashburton Hospital & Public Hospital & Medical, Maternity & 56 & $\\dots$ \\\\\n",
       "\t23 & Ashburton Hospital & Public Hospital & Medical, Maternity & 56 & $\\dots$ \\\\\n",
       "\t24 & Ashburton Hospital & Public Hospital & Medical, Maternity & 56 & $\\dots$ \\\\\n",
       "\t25 & Ashburton Hospital & Public Hospital & Medical, Maternity & 56 & $\\dots$ \\\\\n",
       "\t26 & Ashburton Hospital & Public Hospital & Medical, Maternity & 56 & $\\dots$ \\\\\n",
       "\t27 & Ashburton Hospital & Public Hospital & Medical, Maternity & 56 & $\\dots$ \\\\\n",
       "\t28 & Ashburton Hospital & Public Hospital & Medical, Maternity & 56 & $\\dots$ \\\\\n",
       "\t29 & Ashburton Hospital & Public Hospital & Medical, Maternity & 56 & $\\dots$ \\\\\n",
       "\t30 & Ashburton Hospital & Public Hospital & Medical, Maternity & 56 & $\\dots$ \\\\\n",
       "\t$\\dots$ & $\\dots$ & $\\dots$ & $\\dots$ & $\\dots$ &  \\\\\n",
       "\\end{tabular}\n"
      ],
      "text/plain": [
       "\u001b[1m5145×22 DataFrame\u001b[0m\n",
       "\u001b[1m  Row \u001b[0m│\u001b[1m Hospital_Name        \u001b[0m\u001b[1m Certification_Service_Type \u001b[0m\u001b[1m Service_Types       \u001b[0m\u001b[1m\u001b[0m ⋯\n",
       "\u001b[1m      \u001b[0m│\u001b[90m String               \u001b[0m\u001b[90m String                     \u001b[0m\u001b[90m String              \u001b[0m\u001b[90m\u001b[0m ⋯\n",
       "──────┼─────────────────────────────────────────────────────────────────────────\n",
       "    1 │ Ashburton Hospital    Public Hospital             Medical, Maternity   ⋯\n",
       "    2 │ Ashburton Hospital    Public Hospital             Medical, Maternity\n",
       "    3 │ Ashburton Hospital    Public Hospital             Medical, Maternity\n",
       "    4 │ Ashburton Hospital    Public Hospital             Medical, Maternity\n",
       "    5 │ Ashburton Hospital    Public Hospital             Medical, Maternity   ⋯\n",
       "    6 │ Ashburton Hospital    Public Hospital             Medical, Maternity\n",
       "    7 │ Ashburton Hospital    Public Hospital             Medical, Maternity\n",
       "    8 │ Ashburton Hospital    Public Hospital             Medical, Maternity\n",
       "    9 │ Ashburton Hospital    Public Hospital             Medical, Maternity   ⋯\n",
       "   10 │ Ashburton Hospital    Public Hospital             Medical, Maternity\n",
       "   11 │ Ashburton Hospital    Public Hospital             Medical, Maternity\n",
       "  ⋮   │          ⋮                        ⋮                        ⋮           ⋱\n",
       " 5136 │ St George's Hospital  NGO Hospital                Maternity, Surgical\n",
       " 5137 │ St George's Hospital  NGO Hospital                Maternity, Surgical  ⋯\n",
       " 5138 │ St George's Hospital  NGO Hospital                Maternity, Surgical\n",
       " 5139 │ St George's Hospital  NGO Hospital                Maternity, Surgical\n",
       " 5140 │ St George's Hospital  NGO Hospital                Maternity, Surgical\n",
       " 5141 │ St George's Hospital  NGO Hospital                Maternity, Surgical  ⋯\n",
       " 5142 │ St George's Hospital  NGO Hospital                Maternity, Surgical\n",
       " 5143 │ St George's Hospital  NGO Hospital                Maternity, Surgical\n",
       " 5144 │ St George's Hospital  NGO Hospital                Maternity, Surgical\n",
       " 5145 │ St George's Hospital  NGO Hospital                Maternity, Surgical  ⋯\n",
       "\u001b[36m                                                19 columns and 5124 rows omitted\u001b[0m"
      ]
     },
     "execution_count": 10,
     "metadata": {},
     "output_type": "execute_result"
    }
   ],
   "source": [
    "# Change column names to improve them\n",
    "cross_df = rename(cross_df, \n",
    "    \"Premises.Name\" => \"Hospital_Name\",\n",
    "    \"Certification.Service.Type\" => \"Certification_Service_Type\",\n",
    "    \"Service.Types\" => \"Service_Types\",\n",
    "    \"Total.Beds\" => \"Total_Beds\",\n",
    "    \"Premises.Address\" => \"Hospital_Address\",\n",
    "    \"Premises.Address.Suburb.Road\" => \"Hospital_Suburb\",\n",
    "    \"Premises.Address.Town.City\" => \"Hospital_City\",\n",
    "    \"Premises.Address.Post.Code\" => \"Hospital_Postcode\",\n",
    "    \"DHB.Name\" => \"DHB_Name\",\n",
    "    \"Latitude\" => \"Hospital_Lat\",\n",
    "    \"Longitude\" => \"Hospital_Long\",\n",
    "    \"Latitude_1\" => \"AU_Lat\",\n",
    "    \"Longitude_1\" => \"AU_Long\",\n",
    "    \"Childrens health\" => \"Childrens_Health\",\n",
    "    \"Dementia care\" => \"Dementia_Care\",\n",
    "    \"Mental health\" => \"Mental_Health\"\n",
    "    )\n"
   ]
  },
  {
   "cell_type": "markdown",
   "id": "e9a7bcc9",
   "metadata": {},
   "source": [
    "Now we can write a function that will take the lat long of the hospitals and area units, and calculate the distance between them in metres - we then apply the function to the cross joined dataframe lat and long columns "
   ]
  },
  {
   "cell_type": "code",
   "execution_count": 11,
   "id": "3a642df6",
   "metadata": {},
   "outputs": [
    {
     "data": {
      "text/plain": [
       "3.2023500502926416"
      ]
     },
     "execution_count": 11,
     "metadata": {},
     "output_type": "execute_result"
    }
   ],
   "source": [
    "## Function to convert degrees to radians since we use radians to calculate distance\n",
    "function deg2rad(x)\n",
    "\n",
    "    return x * pi / 180\n",
    "end\n",
    "\n",
    "# Function to calculate distance in metres from two lat and long coordinates\n",
    "function spherical_distance(lat1, long1, lat2, long2)\n",
    "   \n",
    "   \n",
    "    x1 = 0.5*pi - deg2rad(lat1) # creating a variable for x1 in metres, converting latitudes of point 1 and 2 into radians\n",
    "    x2 = 0.5*pi - deg2rad(lat2)\n",
    "   \n",
    "    r = 0.5*(6378.137 + 6356.752) # mean radius of the Earth in kilometers\n",
    "     \n",
    "    # mathematical function that takes our inputs and calculates distance accounting for points being on a sphere\n",
    "    t = sin(x1)*sin(x2)*cos(deg2rad(long1)-deg2rad(long2)) + cos(x1)*cos(x2)\n",
    "    return float(r * acos(t))\n",
    "end\n",
    "\n",
    "# Testing function\n",
    "spherical_distance(-43.57148, 172.61959, -43.5429307391304, 172.614197202899)"
   ]
  },
  {
   "cell_type": "markdown",
   "id": "0264ff40",
   "metadata": {},
   "source": [
    "Now that we have all the distances from each hospital to each suburb, we can group the dataframe by area unit and return the mimumim value fo the distances columns, to see which hospital is closesest to centre point of that area unit. Credit to user Bogumił Kamiński on stack overflow post https://stackoverflow.com/questions/65024962/select-rows-of-a-dataframe-containing-minimum-of-grouping-variable-in-julia for the following line of code."
   ]
  },
  {
   "cell_type": "code",
   "execution_count": 12,
   "id": "8fd37ff7",
   "metadata": {},
   "outputs": [
    {
     "data": {
      "text/html": [
       "<div class=\"data-frame\"><p>5,145 rows × 23 columns (omitted printing of 19 columns)</p><table class=\"data-frame\"><thead><tr><th></th><th>Hospital_Name</th><th>Certification_Service_Type</th><th>Service_Types</th><th>Total_Beds</th></tr><tr><th></th><th title=\"String\">String</th><th title=\"String\">String</th><th title=\"String\">String</th><th title=\"Int64\">Int64</th></tr></thead><tbody><tr><th>1</th><td>Ashburton Hospital</td><td>Public Hospital</td><td>Medical, Maternity</td><td>56</td></tr><tr><th>2</th><td>Ashburton Hospital</td><td>Public Hospital</td><td>Medical, Maternity</td><td>56</td></tr><tr><th>3</th><td>Ashburton Hospital</td><td>Public Hospital</td><td>Medical, Maternity</td><td>56</td></tr><tr><th>4</th><td>Ashburton Hospital</td><td>Public Hospital</td><td>Medical, Maternity</td><td>56</td></tr><tr><th>5</th><td>Ashburton Hospital</td><td>Public Hospital</td><td>Medical, Maternity</td><td>56</td></tr><tr><th>6</th><td>Ashburton Hospital</td><td>Public Hospital</td><td>Medical, Maternity</td><td>56</td></tr><tr><th>7</th><td>Ashburton Hospital</td><td>Public Hospital</td><td>Medical, Maternity</td><td>56</td></tr><tr><th>8</th><td>Ashburton Hospital</td><td>Public Hospital</td><td>Medical, Maternity</td><td>56</td></tr><tr><th>9</th><td>Ashburton Hospital</td><td>Public Hospital</td><td>Medical, Maternity</td><td>56</td></tr><tr><th>10</th><td>Ashburton Hospital</td><td>Public Hospital</td><td>Medical, Maternity</td><td>56</td></tr><tr><th>11</th><td>Ashburton Hospital</td><td>Public Hospital</td><td>Medical, Maternity</td><td>56</td></tr><tr><th>12</th><td>Ashburton Hospital</td><td>Public Hospital</td><td>Medical, Maternity</td><td>56</td></tr><tr><th>13</th><td>Ashburton Hospital</td><td>Public Hospital</td><td>Medical, Maternity</td><td>56</td></tr><tr><th>14</th><td>Ashburton Hospital</td><td>Public Hospital</td><td>Medical, Maternity</td><td>56</td></tr><tr><th>15</th><td>Ashburton Hospital</td><td>Public Hospital</td><td>Medical, Maternity</td><td>56</td></tr><tr><th>16</th><td>Ashburton Hospital</td><td>Public Hospital</td><td>Medical, Maternity</td><td>56</td></tr><tr><th>17</th><td>Ashburton Hospital</td><td>Public Hospital</td><td>Medical, Maternity</td><td>56</td></tr><tr><th>18</th><td>Ashburton Hospital</td><td>Public Hospital</td><td>Medical, Maternity</td><td>56</td></tr><tr><th>19</th><td>Ashburton Hospital</td><td>Public Hospital</td><td>Medical, Maternity</td><td>56</td></tr><tr><th>20</th><td>Ashburton Hospital</td><td>Public Hospital</td><td>Medical, Maternity</td><td>56</td></tr><tr><th>21</th><td>Ashburton Hospital</td><td>Public Hospital</td><td>Medical, Maternity</td><td>56</td></tr><tr><th>22</th><td>Ashburton Hospital</td><td>Public Hospital</td><td>Medical, Maternity</td><td>56</td></tr><tr><th>23</th><td>Ashburton Hospital</td><td>Public Hospital</td><td>Medical, Maternity</td><td>56</td></tr><tr><th>24</th><td>Ashburton Hospital</td><td>Public Hospital</td><td>Medical, Maternity</td><td>56</td></tr><tr><th>25</th><td>Ashburton Hospital</td><td>Public Hospital</td><td>Medical, Maternity</td><td>56</td></tr><tr><th>26</th><td>Ashburton Hospital</td><td>Public Hospital</td><td>Medical, Maternity</td><td>56</td></tr><tr><th>27</th><td>Ashburton Hospital</td><td>Public Hospital</td><td>Medical, Maternity</td><td>56</td></tr><tr><th>28</th><td>Ashburton Hospital</td><td>Public Hospital</td><td>Medical, Maternity</td><td>56</td></tr><tr><th>29</th><td>Ashburton Hospital</td><td>Public Hospital</td><td>Medical, Maternity</td><td>56</td></tr><tr><th>30</th><td>Ashburton Hospital</td><td>Public Hospital</td><td>Medical, Maternity</td><td>56</td></tr><tr><th>&vellip;</th><td>&vellip;</td><td>&vellip;</td><td>&vellip;</td><td>&vellip;</td></tr></tbody></table></div>"
      ],
      "text/latex": [
       "\\begin{tabular}{r|ccccc}\n",
       "\t& Hospital\\_Name & Certification\\_Service\\_Type & Service\\_Types & Total\\_Beds & \\\\\n",
       "\t\\hline\n",
       "\t& String & String & String & Int64 & \\\\\n",
       "\t\\hline\n",
       "\t1 & Ashburton Hospital & Public Hospital & Medical, Maternity & 56 & $\\dots$ \\\\\n",
       "\t2 & Ashburton Hospital & Public Hospital & Medical, Maternity & 56 & $\\dots$ \\\\\n",
       "\t3 & Ashburton Hospital & Public Hospital & Medical, Maternity & 56 & $\\dots$ \\\\\n",
       "\t4 & Ashburton Hospital & Public Hospital & Medical, Maternity & 56 & $\\dots$ \\\\\n",
       "\t5 & Ashburton Hospital & Public Hospital & Medical, Maternity & 56 & $\\dots$ \\\\\n",
       "\t6 & Ashburton Hospital & Public Hospital & Medical, Maternity & 56 & $\\dots$ \\\\\n",
       "\t7 & Ashburton Hospital & Public Hospital & Medical, Maternity & 56 & $\\dots$ \\\\\n",
       "\t8 & Ashburton Hospital & Public Hospital & Medical, Maternity & 56 & $\\dots$ \\\\\n",
       "\t9 & Ashburton Hospital & Public Hospital & Medical, Maternity & 56 & $\\dots$ \\\\\n",
       "\t10 & Ashburton Hospital & Public Hospital & Medical, Maternity & 56 & $\\dots$ \\\\\n",
       "\t11 & Ashburton Hospital & Public Hospital & Medical, Maternity & 56 & $\\dots$ \\\\\n",
       "\t12 & Ashburton Hospital & Public Hospital & Medical, Maternity & 56 & $\\dots$ \\\\\n",
       "\t13 & Ashburton Hospital & Public Hospital & Medical, Maternity & 56 & $\\dots$ \\\\\n",
       "\t14 & Ashburton Hospital & Public Hospital & Medical, Maternity & 56 & $\\dots$ \\\\\n",
       "\t15 & Ashburton Hospital & Public Hospital & Medical, Maternity & 56 & $\\dots$ \\\\\n",
       "\t16 & Ashburton Hospital & Public Hospital & Medical, Maternity & 56 & $\\dots$ \\\\\n",
       "\t17 & Ashburton Hospital & Public Hospital & Medical, Maternity & 56 & $\\dots$ \\\\\n",
       "\t18 & Ashburton Hospital & Public Hospital & Medical, Maternity & 56 & $\\dots$ \\\\\n",
       "\t19 & Ashburton Hospital & Public Hospital & Medical, Maternity & 56 & $\\dots$ \\\\\n",
       "\t20 & Ashburton Hospital & Public Hospital & Medical, Maternity & 56 & $\\dots$ \\\\\n",
       "\t21 & Ashburton Hospital & Public Hospital & Medical, Maternity & 56 & $\\dots$ \\\\\n",
       "\t22 & Ashburton Hospital & Public Hospital & Medical, Maternity & 56 & $\\dots$ \\\\\n",
       "\t23 & Ashburton Hospital & Public Hospital & Medical, Maternity & 56 & $\\dots$ \\\\\n",
       "\t24 & Ashburton Hospital & Public Hospital & Medical, Maternity & 56 & $\\dots$ \\\\\n",
       "\t25 & Ashburton Hospital & Public Hospital & Medical, Maternity & 56 & $\\dots$ \\\\\n",
       "\t26 & Ashburton Hospital & Public Hospital & Medical, Maternity & 56 & $\\dots$ \\\\\n",
       "\t27 & Ashburton Hospital & Public Hospital & Medical, Maternity & 56 & $\\dots$ \\\\\n",
       "\t28 & Ashburton Hospital & Public Hospital & Medical, Maternity & 56 & $\\dots$ \\\\\n",
       "\t29 & Ashburton Hospital & Public Hospital & Medical, Maternity & 56 & $\\dots$ \\\\\n",
       "\t30 & Ashburton Hospital & Public Hospital & Medical, Maternity & 56 & $\\dots$ \\\\\n",
       "\t$\\dots$ & $\\dots$ & $\\dots$ & $\\dots$ & $\\dots$ &  \\\\\n",
       "\\end{tabular}\n"
      ],
      "text/plain": [
       "\u001b[1m5145×23 DataFrame\u001b[0m\n",
       "\u001b[1m  Row \u001b[0m│\u001b[1m Hospital_Name        \u001b[0m\u001b[1m Certification_Service_Type \u001b[0m\u001b[1m Service_Types       \u001b[0m\u001b[1m\u001b[0m ⋯\n",
       "\u001b[1m      \u001b[0m│\u001b[90m String               \u001b[0m\u001b[90m String                     \u001b[0m\u001b[90m String              \u001b[0m\u001b[90m\u001b[0m ⋯\n",
       "──────┼─────────────────────────────────────────────────────────────────────────\n",
       "    1 │ Ashburton Hospital    Public Hospital             Medical, Maternity   ⋯\n",
       "    2 │ Ashburton Hospital    Public Hospital             Medical, Maternity\n",
       "    3 │ Ashburton Hospital    Public Hospital             Medical, Maternity\n",
       "    4 │ Ashburton Hospital    Public Hospital             Medical, Maternity\n",
       "    5 │ Ashburton Hospital    Public Hospital             Medical, Maternity   ⋯\n",
       "    6 │ Ashburton Hospital    Public Hospital             Medical, Maternity\n",
       "    7 │ Ashburton Hospital    Public Hospital             Medical, Maternity\n",
       "    8 │ Ashburton Hospital    Public Hospital             Medical, Maternity\n",
       "    9 │ Ashburton Hospital    Public Hospital             Medical, Maternity   ⋯\n",
       "   10 │ Ashburton Hospital    Public Hospital             Medical, Maternity\n",
       "   11 │ Ashburton Hospital    Public Hospital             Medical, Maternity\n",
       "  ⋮   │          ⋮                        ⋮                        ⋮           ⋱\n",
       " 5136 │ St George's Hospital  NGO Hospital                Maternity, Surgical\n",
       " 5137 │ St George's Hospital  NGO Hospital                Maternity, Surgical  ⋯\n",
       " 5138 │ St George's Hospital  NGO Hospital                Maternity, Surgical\n",
       " 5139 │ St George's Hospital  NGO Hospital                Maternity, Surgical\n",
       " 5140 │ St George's Hospital  NGO Hospital                Maternity, Surgical\n",
       " 5141 │ St George's Hospital  NGO Hospital                Maternity, Surgical  ⋯\n",
       " 5142 │ St George's Hospital  NGO Hospital                Maternity, Surgical\n",
       " 5143 │ St George's Hospital  NGO Hospital                Maternity, Surgical\n",
       " 5144 │ St George's Hospital  NGO Hospital                Maternity, Surgical\n",
       " 5145 │ St George's Hospital  NGO Hospital                Maternity, Surgical  ⋯\n",
       "\u001b[36m                                                20 columns and 5124 rows omitted\u001b[0m"
      ]
     },
     "execution_count": 12,
     "metadata": {},
     "output_type": "execute_result"
    }
   ],
   "source": [
    "# Apply function row-wise to 2 separate sets of lat and long columns in the dataframe\n",
    "distance_df = transform!(cross_df, [:Hospital_Lat, :Hospital_Long, :AU_Lat, :AU_Long] => ByRow(spherical_distance) => :Distance )"
   ]
  },
  {
   "cell_type": "code",
   "execution_count": 13,
   "id": "883fb88c",
   "metadata": {},
   "outputs": [
    {
     "data": {
      "text/html": [
       "<div class=\"data-frame\"><p>5,145 rows × 3 columns</p><table class=\"data-frame\"><thead><tr><th></th><th>Hospital_Name</th><th>AU2017_NAME</th><th>Distance</th></tr><tr><th></th><th title=\"String\">String</th><th title=\"String\">String</th><th title=\"Float64\">Float64</th></tr></thead><tbody><tr><th>1</th><td>Ashburton Hospital</td><td>Addington</td><td>80.3395</td></tr><tr><th>2</th><td>Ashburton Hospital</td><td>Aidanfield</td><td>75.6005</td></tr><tr><th>3</th><td>Ashburton Hospital</td><td>Akaroa</td><td>98.2812</td></tr><tr><th>4</th><td>Ashburton Hospital</td><td>Akaroa Harbour</td><td>96.6448</td></tr><tr><th>5</th><td>Ashburton Hospital</td><td>Allenton East</td><td>0.61726</td></tr><tr><th>6</th><td>Ashburton Hospital</td><td>Allenton West</td><td>0.55411</td></tr><tr><th>7</th><td>Ashburton Hospital</td><td>Amberley</td><td>114.134</td></tr><tr><th>8</th><td>Ashburton Hospital</td><td>Amuri</td><td>165.098</td></tr><tr><th>9</th><td>Ashburton Hospital</td><td>Aorangi</td><td>81.1279</td></tr><tr><th>10</th><td>Ashburton Hospital</td><td>Aranui</td><td>87.92</td></tr><tr><th>11</th><td>Ashburton Hospital</td><td>Ashburton Central East</td><td>1.26483</td></tr><tr><th>12</th><td>Ashburton Hospital</td><td>Ashburton Central West</td><td>0.790182</td></tr><tr><th>13</th><td>Ashburton Hospital</td><td>Ashburton East</td><td>2.94104</td></tr><tr><th>14</th><td>Ashburton Hospital</td><td>Ashburton North</td><td>2.55178</td></tr><tr><th>15</th><td>Ashburton Hospital</td><td>Ashley</td><td>99.7323</td></tr><tr><th>16</th><td>Ashburton Hospital</td><td>Ashley Gorge</td><td>74.8801</td></tr><tr><th>17</th><td>Ashburton Hospital</td><td>Aviemore</td><td>153.533</td></tr><tr><th>18</th><td>Ashburton Hospital</td><td>Avon Loop</td><td>82.928</td></tr><tr><th>19</th><td>Ashburton Hospital</td><td>Avondale</td><td>87.3793</td></tr><tr><th>20</th><td>Ashburton Hospital</td><td>Avonhead</td><td>77.3691</td></tr><tr><th>21</th><td>Ashburton Hospital</td><td>Avonhead West</td><td>76.1685</td></tr><tr><th>22</th><td>Ashburton Hospital</td><td>Avonside</td><td>85.0902</td></tr><tr><th>23</th><td>Ashburton Hospital</td><td>Banks Peninsula Eastern Bays</td><td>99.7042</td></tr><tr><th>24</th><td>Ashburton Hospital</td><td>Barrington North</td><td>79.0272</td></tr><tr><th>25</th><td>Ashburton Hospital</td><td>Barrington South</td><td>79.1328</td></tr><tr><th>26</th><td>Ashburton Hospital</td><td>Beckenham</td><td>80.991</td></tr><tr><th>27</th><td>Ashburton Hospital</td><td>Belfast</td><td>86.3682</td></tr><tr><th>28</th><td>Ashburton Hospital</td><td>Belfast South</td><td>85.2447</td></tr><tr><th>29</th><td>Ashburton Hospital</td><td>Ben Mcleod</td><td>39.2717</td></tr><tr><th>30</th><td>Ashburton Hospital</td><td>Bexley</td><td>88.0727</td></tr><tr><th>&vellip;</th><td>&vellip;</td><td>&vellip;</td><td>&vellip;</td></tr></tbody></table></div>"
      ],
      "text/latex": [
       "\\begin{tabular}{r|ccc}\n",
       "\t& Hospital\\_Name & AU2017\\_NAME & Distance\\\\\n",
       "\t\\hline\n",
       "\t& String & String & Float64\\\\\n",
       "\t\\hline\n",
       "\t1 & Ashburton Hospital & Addington & 80.3395 \\\\\n",
       "\t2 & Ashburton Hospital & Aidanfield & 75.6005 \\\\\n",
       "\t3 & Ashburton Hospital & Akaroa & 98.2812 \\\\\n",
       "\t4 & Ashburton Hospital & Akaroa Harbour & 96.6448 \\\\\n",
       "\t5 & Ashburton Hospital & Allenton East & 0.61726 \\\\\n",
       "\t6 & Ashburton Hospital & Allenton West & 0.55411 \\\\\n",
       "\t7 & Ashburton Hospital & Amberley & 114.134 \\\\\n",
       "\t8 & Ashburton Hospital & Amuri & 165.098 \\\\\n",
       "\t9 & Ashburton Hospital & Aorangi & 81.1279 \\\\\n",
       "\t10 & Ashburton Hospital & Aranui & 87.92 \\\\\n",
       "\t11 & Ashburton Hospital & Ashburton Central East & 1.26483 \\\\\n",
       "\t12 & Ashburton Hospital & Ashburton Central West & 0.790182 \\\\\n",
       "\t13 & Ashburton Hospital & Ashburton East & 2.94104 \\\\\n",
       "\t14 & Ashburton Hospital & Ashburton North & 2.55178 \\\\\n",
       "\t15 & Ashburton Hospital & Ashley & 99.7323 \\\\\n",
       "\t16 & Ashburton Hospital & Ashley Gorge & 74.8801 \\\\\n",
       "\t17 & Ashburton Hospital & Aviemore & 153.533 \\\\\n",
       "\t18 & Ashburton Hospital & Avon Loop & 82.928 \\\\\n",
       "\t19 & Ashburton Hospital & Avondale & 87.3793 \\\\\n",
       "\t20 & Ashburton Hospital & Avonhead & 77.3691 \\\\\n",
       "\t21 & Ashburton Hospital & Avonhead West & 76.1685 \\\\\n",
       "\t22 & Ashburton Hospital & Avonside & 85.0902 \\\\\n",
       "\t23 & Ashburton Hospital & Banks Peninsula Eastern Bays & 99.7042 \\\\\n",
       "\t24 & Ashburton Hospital & Barrington North & 79.0272 \\\\\n",
       "\t25 & Ashburton Hospital & Barrington South & 79.1328 \\\\\n",
       "\t26 & Ashburton Hospital & Beckenham & 80.991 \\\\\n",
       "\t27 & Ashburton Hospital & Belfast & 86.3682 \\\\\n",
       "\t28 & Ashburton Hospital & Belfast South & 85.2447 \\\\\n",
       "\t29 & Ashburton Hospital & Ben Mcleod & 39.2717 \\\\\n",
       "\t30 & Ashburton Hospital & Bexley & 88.0727 \\\\\n",
       "\t$\\dots$ & $\\dots$ & $\\dots$ & $\\dots$ \\\\\n",
       "\\end{tabular}\n"
      ],
      "text/plain": [
       "\u001b[1m5145×3 DataFrame\u001b[0m\n",
       "\u001b[1m  Row \u001b[0m│\u001b[1m Hospital_Name        \u001b[0m\u001b[1m AU2017_NAME            \u001b[0m\u001b[1m Distance   \u001b[0m\n",
       "\u001b[1m      \u001b[0m│\u001b[90m String               \u001b[0m\u001b[90m String                 \u001b[0m\u001b[90m Float64    \u001b[0m\n",
       "──────┼──────────────────────────────────────────────────────────\n",
       "    1 │ Ashburton Hospital    Addington                80.3395\n",
       "    2 │ Ashburton Hospital    Aidanfield               75.6005\n",
       "    3 │ Ashburton Hospital    Akaroa                   98.2812\n",
       "    4 │ Ashburton Hospital    Akaroa Harbour           96.6448\n",
       "    5 │ Ashburton Hospital    Allenton East             0.61726\n",
       "    6 │ Ashburton Hospital    Allenton West             0.55411\n",
       "    7 │ Ashburton Hospital    Amberley                114.134\n",
       "    8 │ Ashburton Hospital    Amuri                   165.098\n",
       "    9 │ Ashburton Hospital    Aorangi                  81.1279\n",
       "   10 │ Ashburton Hospital    Aranui                   87.92\n",
       "   11 │ Ashburton Hospital    Ashburton Central East    1.26483\n",
       "  ⋮   │          ⋮                      ⋮                 ⋮\n",
       " 5136 │ St George's Hospital  Westmorland               7.96687\n",
       " 5137 │ St George's Hospital  Wharenui                  4.12854\n",
       " 5138 │ St George's Hospital  Wigram                    6.69954\n",
       " 5139 │ St George's Hospital  Winchester              131.276\n",
       " 5140 │ St George's Hospital  Woodend                  21.2667\n",
       " 5141 │ St George's Hospital  Woodend Beach            19.293\n",
       " 5142 │ St George's Hospital  Woodend West             20.9983\n",
       " 5143 │ St George's Hospital  Woolston South            6.92695\n",
       " 5144 │ St George's Hospital  Woolston West             5.55443\n",
       " 5145 │ St George's Hospital  Yaldhurst                 6.93623\n",
       "\u001b[36m                                                5124 rows omitted\u001b[0m"
      ]
     },
     "execution_count": 13,
     "metadata": {},
     "output_type": "execute_result"
    }
   ],
   "source": [
    "# Show selected columns\n",
    "distance_df[!, [:Hospital_Name, :AU2017_NAME, :Distance]]"
   ]
  },
  {
   "cell_type": "markdown",
   "id": "b72265a6",
   "metadata": {},
   "source": [
    "We want to find which hospital for each type is closest to each area unit. Using our one hot encoded columns, we find the closest hospital separately for each type, and the join the results."
   ]
  },
  {
   "cell_type": "code",
   "execution_count": 14,
   "id": "1afcf688",
   "metadata": {},
   "outputs": [
    {
     "data": {
      "text/html": [
       "<div class=\"data-frame\"><p>245 rows × 3 columns</p><table class=\"data-frame\"><thead><tr><th></th><th>AU2017_NAME</th><th>Closest_Surgical_Hospital</th><th>Distance_Surgical_Hospital</th></tr><tr><th></th><th title=\"String\">String</th><th title=\"String\">String</th><th title=\"Float64\">Float64</th></tr></thead><tbody><tr><th>1</th><td>Addington</td><td>Christchurch Hospital</td><td>1.11558</td></tr><tr><th>2</th><td>Aidanfield</td><td>Christchurch Hospital</td><td>5.6341</td></tr><tr><th>3</th><td>Akaroa</td><td>Christchurch Hospital</td><td>40.8662</td></tr><tr><th>4</th><td>Akaroa Harbour</td><td>Forte Health Hospital</td><td>36.5193</td></tr><tr><th>5</th><td>Allenton East</td><td>Bidwill Trust Hospital</td><td>69.0885</td></tr><tr><th>6</th><td>Allenton West</td><td>Bidwill Trust Hospital</td><td>68.7317</td></tr><tr><th>7</th><td>Amberley</td><td>Burwood Hospital</td><td>36.4268</td></tr><tr><th>8</th><td>Amuri</td><td>Burwood Hospital</td><td>99.2386</td></tr><tr><th>9</th><td>Aorangi</td><td>St George&apos;s Hospital</td><td>2.30784</td></tr><tr><th>10</th><td>Aranui</td><td>Burwood Hospital</td><td>3.55733</td></tr><tr><th>11</th><td>Ashburton Central East</td><td>Bidwill Trust Hospital</td><td>67.7744</td></tr><tr><th>12</th><td>Ashburton Central West</td><td>Bidwill Trust Hospital</td><td>67.9931</td></tr><tr><th>13</th><td>Ashburton East</td><td>Bidwill Trust Hospital</td><td>68.0076</td></tr><tr><th>14</th><td>Ashburton North</td><td>Bidwill Trust Hospital</td><td>71.0576</td></tr><tr><th>15</th><td>Ashley</td><td>Burwood Hospital</td><td>25.3596</td></tr><tr><th>16</th><td>Ashley Gorge</td><td>St George&apos;s Hospital</td><td>41.4347</td></tr><tr><th>17</th><td>Aviemore</td><td>Bidwill Trust Hospital</td><td>95.0892</td></tr><tr><th>18</th><td>Avon Loop</td><td>Forte Health Hospital</td><td>0.451537</td></tr><tr><th>19</th><td>Avondale</td><td>Burwood Hospital</td><td>3.01269</td></tr><tr><th>20</th><td>Avonhead</td><td>St George&apos;s Hospital</td><td>5.04301</td></tr><tr><th>21</th><td>Avonhead West</td><td>St George&apos;s Hospital</td><td>6.47687</td></tr><tr><th>22</th><td>Avonside</td><td>Forte Health Hospital</td><td>2.80624</td></tr><tr><th>23</th><td>Banks Peninsula Eastern Bays</td><td>Forte Health Hospital</td><td>35.2338</td></tr><tr><th>24</th><td>Barrington North</td><td>Christchurch Hospital</td><td>2.53613</td></tr><tr><th>25</th><td>Barrington South</td><td>Christchurch Hospital</td><td>3.4038</td></tr><tr><th>26</th><td>Beckenham</td><td>Christchurch Hospital</td><td>3.16511</td></tr><tr><th>27</th><td>Belfast</td><td>Burwood Hospital</td><td>5.54542</td></tr><tr><th>28</th><td>Belfast South</td><td>St George&apos;s Hospital</td><td>5.49819</td></tr><tr><th>29</th><td>Ben Mcleod</td><td>Bidwill Trust Hospital</td><td>59.6995</td></tr><tr><th>30</th><td>Bexley</td><td>Burwood Hospital</td><td>4.40324</td></tr><tr><th>&vellip;</th><td>&vellip;</td><td>&vellip;</td><td>&vellip;</td></tr></tbody></table></div>"
      ],
      "text/latex": [
       "\\begin{tabular}{r|ccc}\n",
       "\t& AU2017\\_NAME & Closest\\_Surgical\\_Hospital & Distance\\_Surgical\\_Hospital\\\\\n",
       "\t\\hline\n",
       "\t& String & String & Float64\\\\\n",
       "\t\\hline\n",
       "\t1 & Addington & Christchurch Hospital & 1.11558 \\\\\n",
       "\t2 & Aidanfield & Christchurch Hospital & 5.6341 \\\\\n",
       "\t3 & Akaroa & Christchurch Hospital & 40.8662 \\\\\n",
       "\t4 & Akaroa Harbour & Forte Health Hospital & 36.5193 \\\\\n",
       "\t5 & Allenton East & Bidwill Trust Hospital & 69.0885 \\\\\n",
       "\t6 & Allenton West & Bidwill Trust Hospital & 68.7317 \\\\\n",
       "\t7 & Amberley & Burwood Hospital & 36.4268 \\\\\n",
       "\t8 & Amuri & Burwood Hospital & 99.2386 \\\\\n",
       "\t9 & Aorangi & St George's Hospital & 2.30784 \\\\\n",
       "\t10 & Aranui & Burwood Hospital & 3.55733 \\\\\n",
       "\t11 & Ashburton Central East & Bidwill Trust Hospital & 67.7744 \\\\\n",
       "\t12 & Ashburton Central West & Bidwill Trust Hospital & 67.9931 \\\\\n",
       "\t13 & Ashburton East & Bidwill Trust Hospital & 68.0076 \\\\\n",
       "\t14 & Ashburton North & Bidwill Trust Hospital & 71.0576 \\\\\n",
       "\t15 & Ashley & Burwood Hospital & 25.3596 \\\\\n",
       "\t16 & Ashley Gorge & St George's Hospital & 41.4347 \\\\\n",
       "\t17 & Aviemore & Bidwill Trust Hospital & 95.0892 \\\\\n",
       "\t18 & Avon Loop & Forte Health Hospital & 0.451537 \\\\\n",
       "\t19 & Avondale & Burwood Hospital & 3.01269 \\\\\n",
       "\t20 & Avonhead & St George's Hospital & 5.04301 \\\\\n",
       "\t21 & Avonhead West & St George's Hospital & 6.47687 \\\\\n",
       "\t22 & Avonside & Forte Health Hospital & 2.80624 \\\\\n",
       "\t23 & Banks Peninsula Eastern Bays & Forte Health Hospital & 35.2338 \\\\\n",
       "\t24 & Barrington North & Christchurch Hospital & 2.53613 \\\\\n",
       "\t25 & Barrington South & Christchurch Hospital & 3.4038 \\\\\n",
       "\t26 & Beckenham & Christchurch Hospital & 3.16511 \\\\\n",
       "\t27 & Belfast & Burwood Hospital & 5.54542 \\\\\n",
       "\t28 & Belfast South & St George's Hospital & 5.49819 \\\\\n",
       "\t29 & Ben Mcleod & Bidwill Trust Hospital & 59.6995 \\\\\n",
       "\t30 & Bexley & Burwood Hospital & 4.40324 \\\\\n",
       "\t$\\dots$ & $\\dots$ & $\\dots$ & $\\dots$ \\\\\n",
       "\\end{tabular}\n"
      ],
      "text/plain": [
       "\u001b[1m245×3 DataFrame\u001b[0m\n",
       "\u001b[1m Row \u001b[0m│\u001b[1m AU2017_NAME            \u001b[0m\u001b[1m Closest_Surgical_Hospital \u001b[0m\u001b[1m Distance_Surgical_Ho\u001b[0m ⋯\n",
       "\u001b[1m     \u001b[0m│\u001b[90m String                 \u001b[0m\u001b[90m String                    \u001b[0m\u001b[90m Float64             \u001b[0m ⋯\n",
       "─────┼──────────────────────────────────────────────────────────────────────────\n",
       "   1 │ Addington               Christchurch Hospital                         1 ⋯\n",
       "   2 │ Aidanfield              Christchurch Hospital                         5\n",
       "   3 │ Akaroa                  Christchurch Hospital                        40\n",
       "   4 │ Akaroa Harbour          Forte Health Hospital                        36\n",
       "   5 │ Allenton East           Bidwill Trust Hospital                       69 ⋯\n",
       "   6 │ Allenton West           Bidwill Trust Hospital                       68\n",
       "   7 │ Amberley                Burwood Hospital                             36\n",
       "   8 │ Amuri                   Burwood Hospital                             99\n",
       "   9 │ Aorangi                 St George's Hospital                          2 ⋯\n",
       "  10 │ Aranui                  Burwood Hospital                              3\n",
       "  11 │ Ashburton Central East  Bidwill Trust Hospital                       67\n",
       "  ⋮  │           ⋮                         ⋮                          ⋮        ⋱\n",
       " 236 │ Westmorland             Christchurch Hospital                         5\n",
       " 237 │ Wharenui                Christchurch Hospital                         3 ⋯\n",
       " 238 │ Wigram                  Christchurch Hospital                         5\n",
       " 239 │ Winchester              Bidwill Trust Hospital                       23\n",
       " 240 │ Woodend                 Burwood Hospital                             17\n",
       " 241 │ Woodend Beach           Burwood Hospital                             15 ⋯\n",
       " 242 │ Woodend West            Burwood Hospital                             17\n",
       " 243 │ Woolston South          Forte Health Hospital                         4\n",
       " 244 │ Woolston West           Forte Health Hospital                         3\n",
       " 245 │ Yaldhurst               St George's Hospital                          6 ⋯\n",
       "\u001b[36m                                                   1 column and 224 rows omitted\u001b[0m"
      ]
     },
     "execution_count": 14,
     "metadata": {},
     "output_type": "execute_result"
    }
   ],
   "source": [
    "# create 8 different dataframes for each type that we will eventually groupby by each and join merge\n",
    "\n",
    "# Medical\n",
    "medical_df = select(distance_df[(distance_df[!, :Medical] .== 1),:],\n",
    "                    :AU2017_NAME,\n",
    "                    \"Hospital_Name\" => \"Closest_Medical_Hospital\",\n",
    "                    \"Distance\" => \"Distance_Medical_Hospital\"\n",
    "                    )\n",
    "closest_medical = combine(medical_df -> filter(:Distance_Medical_Hospital => ==(minimum(medical_df.Distance_Medical_Hospital)), medical_df), groupby(medical_df, :AU2017_NAME))\n",
    "\n",
    "# Childrens health\n",
    "childrens_health_df = select(distance_df[(distance_df[!, :Childrens_Health] .== 1),:],\n",
    "                    :AU2017_NAME,\n",
    "                    \"Hospital_Name\" => \"Closest_Childrens_Health_Hospital\",\n",
    "                    \"Distance\" => \"Distance_Childrens_Health_Hospital\"\n",
    "                    )\n",
    "closest_childrens_health = combine(childrens_health_df -> filter(:Distance_Childrens_Health_Hospital => ==(minimum(childrens_health_df.Distance_Childrens_Health_Hospital)), childrens_health_df), groupby(childrens_health_df, :AU2017_NAME))\n",
    "\n",
    "# Dementia care\n",
    "dementia_care_df = select(distance_df[(distance_df[!, :Dementia_Care] .== 1),:],\n",
    "                    :AU2017_NAME,\n",
    "                    \"Hospital_Name\" => \"Closest_Dementia_Care_Hospital\",\n",
    "                    \"Distance\" => \"Distance_Dementia_Care_Hospital\"\n",
    "                    )\n",
    "closest_dementia_care = combine(dementia_care_df -> filter(:Distance_Dementia_Care_Hospital => ==(minimum(dementia_care_df.Distance_Dementia_Care_Hospital)), dementia_care_df), groupby(dementia_care_df, :AU2017_NAME))\n",
    "\n",
    "# Geriatric\n",
    "geriatric_df = select(distance_df[(distance_df[!, :Geriatric] .== 1),:],\n",
    "                    :AU2017_NAME,\n",
    "                    \"Hospital_Name\" => \"Closest_Geriatric_Hospital\",\n",
    "                    \"Distance\" => \"Distance_Geriatric_Hospital\"\n",
    "                    )\n",
    "closest_geriatric = combine(geriatric_df -> filter(:Distance_Geriatric_Hospital => ==(minimum(geriatric_df.Distance_Geriatric_Hospital)), geriatric_df), groupby(geriatric_df, :AU2017_NAME))\n",
    "\n",
    "# Maternity\n",
    "maternity_df = select(distance_df[(distance_df[!, :Maternity] .== 1),:],\n",
    "                    :AU2017_NAME,\n",
    "                    \"Hospital_Name\" => \"Closest_Maternity_Hospital\",\n",
    "                    \"Distance\" => \"Distance_Maternity_Hospital\"\n",
    "                    )\n",
    "closest_maternity = combine(maternity_df -> filter(:Distance_Maternity_Hospital => ==(minimum(maternity_df.Distance_Maternity_Hospital)), maternity_df), groupby(maternity_df, :AU2017_NAME))\n",
    "\n",
    "# Mental health\n",
    "mental_health_df = select(distance_df[(distance_df[!, :Mental_Health] .== 1),:],\n",
    "                    :AU2017_NAME,\n",
    "                    \"Hospital_Name\" => \"Closest_Mental_Health_Hospital\",\n",
    "                    \"Distance\" => \"Distance_Mental_Health_Hospital\"\n",
    "                    )\n",
    "closest_mental_health = combine(mental_health_df -> filter(:Distance_Mental_Health_Hospital => ==(minimum(mental_health_df.Distance_Mental_Health_Hospital)), mental_health_df), groupby(mental_health_df, :AU2017_NAME))\n",
    "\n",
    "# Psychogeriatric\n",
    "psychogeriatric_df = select(distance_df[(distance_df[!, :Psychogeriatric] .== 1),:],\n",
    "                    :AU2017_NAME,\n",
    "                    \"Hospital_Name\" => \"Closest_Psychogeriatric_Hospital\",\n",
    "                    \"Distance\" => \"Distance_Psychogeriatric_Hospital\"\n",
    "                    )\n",
    "closest_psychogeriatric = combine(psychogeriatric_df -> filter(:Distance_Psychogeriatric_Hospital => ==(minimum(psychogeriatric_df.Distance_Psychogeriatric_Hospital)), psychogeriatric_df), groupby(psychogeriatric_df, :AU2017_NAME))\n",
    "\n",
    "# Surgical\n",
    "surgical_df = select(distance_df[(distance_df[!, :Surgical] .== 1),:],\n",
    "                    :AU2017_NAME,\n",
    "                    \"Hospital_Name\" => \"Closest_Surgical_Hospital\",\n",
    "                    \"Distance\" => \"Distance_Surgical_Hospital\"\n",
    "                    )\n",
    "closest_surgical = combine(surgical_df -> filter(:Distance_Surgical_Hospital => ==(minimum(surgical_df.Distance_Surgical_Hospital)), surgical_df), groupby(surgical_df, :AU2017_NAME))"
   ]
  },
  {
   "cell_type": "code",
   "execution_count": 15,
   "id": "bfa700c6",
   "metadata": {},
   "outputs": [
    {
     "data": {
      "text/html": [
       "<div class=\"data-frame\"><p>245 rows × 17 columns (omitted printing of 14 columns)</p><table class=\"data-frame\"><thead><tr><th></th><th>AU2017_NAME</th><th>Closest_Medical_Hospital</th><th>Distance_Medical_Hospital</th></tr><tr><th></th><th title=\"String\">String</th><th title=\"String\">String</th><th title=\"Float64\">Float64</th></tr></thead><tbody><tr><th>1</th><td>Addington</td><td>Christchurch Hospital</td><td>1.11558</td></tr><tr><th>2</th><td>Aidanfield</td><td>Christchurch Hospital</td><td>5.6341</td></tr><tr><th>3</th><td>Akaroa</td><td>Christchurch Hospital</td><td>40.8662</td></tr><tr><th>4</th><td>Akaroa Harbour</td><td>Christchurch Hospital</td><td>36.5427</td></tr><tr><th>5</th><td>Allenton East</td><td>Ashburton Hospital</td><td>0.61726</td></tr><tr><th>6</th><td>Allenton West</td><td>Ashburton Hospital</td><td>0.55411</td></tr><tr><th>7</th><td>Amberley</td><td>Rangiora Hospital</td><td>18.5311</td></tr><tr><th>8</th><td>Amuri</td><td>Waikari Hospital</td><td>42.1628</td></tr><tr><th>9</th><td>Aorangi</td><td>Nurse Maude Hospice</td><td>2.57961</td></tr><tr><th>10</th><td>Aranui</td><td>Burwood Hospital</td><td>3.55733</td></tr><tr><th>11</th><td>Ashburton Central East</td><td>Tuarangi Home</td><td>0.231846</td></tr><tr><th>12</th><td>Ashburton Central West</td><td>Tuarangi Home</td><td>0.671154</td></tr><tr><th>13</th><td>Ashburton East</td><td>Tuarangi Home</td><td>1.66495</td></tr><tr><th>14</th><td>Ashburton North</td><td>Ashburton Hospital</td><td>2.55178</td></tr><tr><th>15</th><td>Ashley</td><td>Rangiora Hospital</td><td>4.06174</td></tr><tr><th>16</th><td>Ashley Gorge</td><td>Oxford Hospital</td><td>0.134761</td></tr><tr><th>17</th><td>Aviemore</td><td>Hospice South Canterbury</td><td>93.2444</td></tr><tr><th>18</th><td>Avon Loop</td><td>Southern Cross Hospital Christchurch</td><td>0.892853</td></tr><tr><th>19</th><td>Avondale</td><td>Burwood Hospital</td><td>3.01269</td></tr><tr><th>20</th><td>Avonhead</td><td>Nurse Maude Hospice</td><td>5.23634</td></tr><tr><th>21</th><td>Avonhead West</td><td>Nurse Maude Hospice</td><td>6.68237</td></tr><tr><th>22</th><td>Avonside</td><td>Southern Cross Hospital Christchurch</td><td>3.06012</td></tr><tr><th>23</th><td>Banks Peninsula Eastern Bays</td><td>Christchurch Hospital</td><td>35.4348</td></tr><tr><th>24</th><td>Barrington North</td><td>Christchurch Hospital</td><td>2.53613</td></tr><tr><th>25</th><td>Barrington South</td><td>Christchurch Hospital</td><td>3.4038</td></tr><tr><th>26</th><td>Beckenham</td><td>Christchurch Hospital</td><td>3.16511</td></tr><tr><th>27</th><td>Belfast</td><td>Burwood Hospital</td><td>5.54542</td></tr><tr><th>28</th><td>Belfast South</td><td>Nurse Maude Hospice</td><td>5.64044</td></tr><tr><th>29</th><td>Ben Mcleod</td><td>Ashburton Hospital</td><td>39.2717</td></tr><tr><th>30</th><td>Bexley</td><td>Burwood Hospital</td><td>4.40324</td></tr><tr><th>&vellip;</th><td>&vellip;</td><td>&vellip;</td><td>&vellip;</td></tr></tbody></table></div>"
      ],
      "text/latex": [
       "\\begin{tabular}{r|cccc}\n",
       "\t& AU2017\\_NAME & Closest\\_Medical\\_Hospital & Distance\\_Medical\\_Hospital & \\\\\n",
       "\t\\hline\n",
       "\t& String & String & Float64 & \\\\\n",
       "\t\\hline\n",
       "\t1 & Addington & Christchurch Hospital & 1.11558 & $\\dots$ \\\\\n",
       "\t2 & Aidanfield & Christchurch Hospital & 5.6341 & $\\dots$ \\\\\n",
       "\t3 & Akaroa & Christchurch Hospital & 40.8662 & $\\dots$ \\\\\n",
       "\t4 & Akaroa Harbour & Christchurch Hospital & 36.5427 & $\\dots$ \\\\\n",
       "\t5 & Allenton East & Ashburton Hospital & 0.61726 & $\\dots$ \\\\\n",
       "\t6 & Allenton West & Ashburton Hospital & 0.55411 & $\\dots$ \\\\\n",
       "\t7 & Amberley & Rangiora Hospital & 18.5311 & $\\dots$ \\\\\n",
       "\t8 & Amuri & Waikari Hospital & 42.1628 & $\\dots$ \\\\\n",
       "\t9 & Aorangi & Nurse Maude Hospice & 2.57961 & $\\dots$ \\\\\n",
       "\t10 & Aranui & Burwood Hospital & 3.55733 & $\\dots$ \\\\\n",
       "\t11 & Ashburton Central East & Tuarangi Home & 0.231846 & $\\dots$ \\\\\n",
       "\t12 & Ashburton Central West & Tuarangi Home & 0.671154 & $\\dots$ \\\\\n",
       "\t13 & Ashburton East & Tuarangi Home & 1.66495 & $\\dots$ \\\\\n",
       "\t14 & Ashburton North & Ashburton Hospital & 2.55178 & $\\dots$ \\\\\n",
       "\t15 & Ashley & Rangiora Hospital & 4.06174 & $\\dots$ \\\\\n",
       "\t16 & Ashley Gorge & Oxford Hospital & 0.134761 & $\\dots$ \\\\\n",
       "\t17 & Aviemore & Hospice South Canterbury & 93.2444 & $\\dots$ \\\\\n",
       "\t18 & Avon Loop & Southern Cross Hospital Christchurch & 0.892853 & $\\dots$ \\\\\n",
       "\t19 & Avondale & Burwood Hospital & 3.01269 & $\\dots$ \\\\\n",
       "\t20 & Avonhead & Nurse Maude Hospice & 5.23634 & $\\dots$ \\\\\n",
       "\t21 & Avonhead West & Nurse Maude Hospice & 6.68237 & $\\dots$ \\\\\n",
       "\t22 & Avonside & Southern Cross Hospital Christchurch & 3.06012 & $\\dots$ \\\\\n",
       "\t23 & Banks Peninsula Eastern Bays & Christchurch Hospital & 35.4348 & $\\dots$ \\\\\n",
       "\t24 & Barrington North & Christchurch Hospital & 2.53613 & $\\dots$ \\\\\n",
       "\t25 & Barrington South & Christchurch Hospital & 3.4038 & $\\dots$ \\\\\n",
       "\t26 & Beckenham & Christchurch Hospital & 3.16511 & $\\dots$ \\\\\n",
       "\t27 & Belfast & Burwood Hospital & 5.54542 & $\\dots$ \\\\\n",
       "\t28 & Belfast South & Nurse Maude Hospice & 5.64044 & $\\dots$ \\\\\n",
       "\t29 & Ben Mcleod & Ashburton Hospital & 39.2717 & $\\dots$ \\\\\n",
       "\t30 & Bexley & Burwood Hospital & 4.40324 & $\\dots$ \\\\\n",
       "\t$\\dots$ & $\\dots$ & $\\dots$ & $\\dots$ &  \\\\\n",
       "\\end{tabular}\n"
      ],
      "text/plain": [
       "\u001b[1m245×17 DataFrame\u001b[0m\n",
       "\u001b[1m Row \u001b[0m│\u001b[1m AU2017_NAME            \u001b[0m\u001b[1m Closest_Medical_Hospital          \u001b[0m\u001b[1m Distance_Med\u001b[0m ⋯\n",
       "\u001b[1m     \u001b[0m│\u001b[90m String                 \u001b[0m\u001b[90m String                            \u001b[0m\u001b[90m Float64     \u001b[0m ⋯\n",
       "─────┼──────────────────────────────────────────────────────────────────────────\n",
       "   1 │ Addington               Christchurch Hospital                           ⋯\n",
       "   2 │ Aidanfield              Christchurch Hospital\n",
       "   3 │ Akaroa                  Christchurch Hospital\n",
       "   4 │ Akaroa Harbour          Christchurch Hospital\n",
       "   5 │ Allenton East           Ashburton Hospital                              ⋯\n",
       "   6 │ Allenton West           Ashburton Hospital\n",
       "   7 │ Amberley                Rangiora Hospital\n",
       "   8 │ Amuri                   Waikari Hospital\n",
       "   9 │ Aorangi                 Nurse Maude Hospice                             ⋯\n",
       "  10 │ Aranui                  Burwood Hospital\n",
       "  11 │ Ashburton Central East  Tuarangi Home\n",
       "  ⋮  │           ⋮                             ⋮                               ⋱\n",
       " 236 │ Westmorland             Christchurch Hospital\n",
       " 237 │ Wharenui                Christchurch Hospital                           ⋯\n",
       " 238 │ Wigram                  Christchurch Hospital\n",
       " 239 │ Winchester              Hospice South Canterbury\n",
       " 240 │ Woodend                 Rangiora Hospital\n",
       " 241 │ Woodend Beach           Rangiora Hospital                               ⋯\n",
       " 242 │ Woodend West            Rangiora Hospital\n",
       " 243 │ Woolston South          Christchurch Hospital\n",
       " 244 │ Woolston West           Southern Cross Hospital Christch…\n",
       " 245 │ Yaldhurst               Nurse Maude Hospice                             ⋯\n",
       "\u001b[36m                                                 15 columns and 224 rows omitted\u001b[0m"
      ]
     },
     "execution_count": 15,
     "metadata": {},
     "output_type": "execute_result"
    }
   ],
   "source": [
    "# Joining all closest hopsitals on AU\n",
    "closest_hospitals_df = innerjoin(closest_medical,\n",
    "    closest_childrens_health,\n",
    "    closest_dementia_care,\n",
    "    closest_geriatric,\n",
    "    closest_maternity,\n",
    "    closest_mental_health,\n",
    "    closest_psychogeriatric,\n",
    "    closest_surgical,\n",
    "    on = :AU2017_NAME)"
   ]
  },
  {
   "cell_type": "code",
   "execution_count": 16,
   "id": "dc71d0ab",
   "metadata": {},
   "outputs": [
    {
     "data": {
      "text/html": [
       "<div class=\"data-frame\"><p>245 rows × 3 columns</p><table class=\"data-frame\"><thead><tr><th></th><th>AU2017_NAME</th><th>Closest_Medical_Hospital</th><th>Closest_Surgical_Hospital</th></tr><tr><th></th><th title=\"String\">String</th><th title=\"String\">String</th><th title=\"String\">String</th></tr></thead><tbody><tr><th>1</th><td>Addington</td><td>Christchurch Hospital</td><td>Christchurch Hospital</td></tr><tr><th>2</th><td>Aidanfield</td><td>Christchurch Hospital</td><td>Christchurch Hospital</td></tr><tr><th>3</th><td>Akaroa</td><td>Christchurch Hospital</td><td>Christchurch Hospital</td></tr><tr><th>4</th><td>Akaroa Harbour</td><td>Christchurch Hospital</td><td>Forte Health Hospital</td></tr><tr><th>5</th><td>Allenton East</td><td>Ashburton Hospital</td><td>Bidwill Trust Hospital</td></tr><tr><th>6</th><td>Allenton West</td><td>Ashburton Hospital</td><td>Bidwill Trust Hospital</td></tr><tr><th>7</th><td>Amberley</td><td>Rangiora Hospital</td><td>Burwood Hospital</td></tr><tr><th>8</th><td>Amuri</td><td>Waikari Hospital</td><td>Burwood Hospital</td></tr><tr><th>9</th><td>Aorangi</td><td>Nurse Maude Hospice</td><td>St George&apos;s Hospital</td></tr><tr><th>10</th><td>Aranui</td><td>Burwood Hospital</td><td>Burwood Hospital</td></tr><tr><th>11</th><td>Ashburton Central East</td><td>Tuarangi Home</td><td>Bidwill Trust Hospital</td></tr><tr><th>12</th><td>Ashburton Central West</td><td>Tuarangi Home</td><td>Bidwill Trust Hospital</td></tr><tr><th>13</th><td>Ashburton East</td><td>Tuarangi Home</td><td>Bidwill Trust Hospital</td></tr><tr><th>14</th><td>Ashburton North</td><td>Ashburton Hospital</td><td>Bidwill Trust Hospital</td></tr><tr><th>15</th><td>Ashley</td><td>Rangiora Hospital</td><td>Burwood Hospital</td></tr><tr><th>16</th><td>Ashley Gorge</td><td>Oxford Hospital</td><td>St George&apos;s Hospital</td></tr><tr><th>17</th><td>Aviemore</td><td>Hospice South Canterbury</td><td>Bidwill Trust Hospital</td></tr><tr><th>18</th><td>Avon Loop</td><td>Southern Cross Hospital Christchurch</td><td>Forte Health Hospital</td></tr><tr><th>19</th><td>Avondale</td><td>Burwood Hospital</td><td>Burwood Hospital</td></tr><tr><th>20</th><td>Avonhead</td><td>Nurse Maude Hospice</td><td>St George&apos;s Hospital</td></tr><tr><th>21</th><td>Avonhead West</td><td>Nurse Maude Hospice</td><td>St George&apos;s Hospital</td></tr><tr><th>22</th><td>Avonside</td><td>Southern Cross Hospital Christchurch</td><td>Forte Health Hospital</td></tr><tr><th>23</th><td>Banks Peninsula Eastern Bays</td><td>Christchurch Hospital</td><td>Forte Health Hospital</td></tr><tr><th>24</th><td>Barrington North</td><td>Christchurch Hospital</td><td>Christchurch Hospital</td></tr><tr><th>25</th><td>Barrington South</td><td>Christchurch Hospital</td><td>Christchurch Hospital</td></tr><tr><th>26</th><td>Beckenham</td><td>Christchurch Hospital</td><td>Christchurch Hospital</td></tr><tr><th>27</th><td>Belfast</td><td>Burwood Hospital</td><td>Burwood Hospital</td></tr><tr><th>28</th><td>Belfast South</td><td>Nurse Maude Hospice</td><td>St George&apos;s Hospital</td></tr><tr><th>29</th><td>Ben Mcleod</td><td>Ashburton Hospital</td><td>Bidwill Trust Hospital</td></tr><tr><th>30</th><td>Bexley</td><td>Burwood Hospital</td><td>Burwood Hospital</td></tr><tr><th>&vellip;</th><td>&vellip;</td><td>&vellip;</td><td>&vellip;</td></tr></tbody></table></div>"
      ],
      "text/latex": [
       "\\begin{tabular}{r|ccc}\n",
       "\t& AU2017\\_NAME & Closest\\_Medical\\_Hospital & Closest\\_Surgical\\_Hospital\\\\\n",
       "\t\\hline\n",
       "\t& String & String & String\\\\\n",
       "\t\\hline\n",
       "\t1 & Addington & Christchurch Hospital & Christchurch Hospital \\\\\n",
       "\t2 & Aidanfield & Christchurch Hospital & Christchurch Hospital \\\\\n",
       "\t3 & Akaroa & Christchurch Hospital & Christchurch Hospital \\\\\n",
       "\t4 & Akaroa Harbour & Christchurch Hospital & Forte Health Hospital \\\\\n",
       "\t5 & Allenton East & Ashburton Hospital & Bidwill Trust Hospital \\\\\n",
       "\t6 & Allenton West & Ashburton Hospital & Bidwill Trust Hospital \\\\\n",
       "\t7 & Amberley & Rangiora Hospital & Burwood Hospital \\\\\n",
       "\t8 & Amuri & Waikari Hospital & Burwood Hospital \\\\\n",
       "\t9 & Aorangi & Nurse Maude Hospice & St George's Hospital \\\\\n",
       "\t10 & Aranui & Burwood Hospital & Burwood Hospital \\\\\n",
       "\t11 & Ashburton Central East & Tuarangi Home & Bidwill Trust Hospital \\\\\n",
       "\t12 & Ashburton Central West & Tuarangi Home & Bidwill Trust Hospital \\\\\n",
       "\t13 & Ashburton East & Tuarangi Home & Bidwill Trust Hospital \\\\\n",
       "\t14 & Ashburton North & Ashburton Hospital & Bidwill Trust Hospital \\\\\n",
       "\t15 & Ashley & Rangiora Hospital & Burwood Hospital \\\\\n",
       "\t16 & Ashley Gorge & Oxford Hospital & St George's Hospital \\\\\n",
       "\t17 & Aviemore & Hospice South Canterbury & Bidwill Trust Hospital \\\\\n",
       "\t18 & Avon Loop & Southern Cross Hospital Christchurch & Forte Health Hospital \\\\\n",
       "\t19 & Avondale & Burwood Hospital & Burwood Hospital \\\\\n",
       "\t20 & Avonhead & Nurse Maude Hospice & St George's Hospital \\\\\n",
       "\t21 & Avonhead West & Nurse Maude Hospice & St George's Hospital \\\\\n",
       "\t22 & Avonside & Southern Cross Hospital Christchurch & Forte Health Hospital \\\\\n",
       "\t23 & Banks Peninsula Eastern Bays & Christchurch Hospital & Forte Health Hospital \\\\\n",
       "\t24 & Barrington North & Christchurch Hospital & Christchurch Hospital \\\\\n",
       "\t25 & Barrington South & Christchurch Hospital & Christchurch Hospital \\\\\n",
       "\t26 & Beckenham & Christchurch Hospital & Christchurch Hospital \\\\\n",
       "\t27 & Belfast & Burwood Hospital & Burwood Hospital \\\\\n",
       "\t28 & Belfast South & Nurse Maude Hospice & St George's Hospital \\\\\n",
       "\t29 & Ben Mcleod & Ashburton Hospital & Bidwill Trust Hospital \\\\\n",
       "\t30 & Bexley & Burwood Hospital & Burwood Hospital \\\\\n",
       "\t$\\dots$ & $\\dots$ & $\\dots$ & $\\dots$ \\\\\n",
       "\\end{tabular}\n"
      ],
      "text/plain": [
       "\u001b[1m245×3 DataFrame\u001b[0m\n",
       "\u001b[1m Row \u001b[0m│\u001b[1m AU2017_NAME            \u001b[0m\u001b[1m Closest_Medical_Hospital          \u001b[0m\u001b[1m Closest_Surg\u001b[0m ⋯\n",
       "\u001b[1m     \u001b[0m│\u001b[90m String                 \u001b[0m\u001b[90m String                            \u001b[0m\u001b[90m String      \u001b[0m ⋯\n",
       "─────┼──────────────────────────────────────────────────────────────────────────\n",
       "   1 │ Addington               Christchurch Hospital              Christchurch ⋯\n",
       "   2 │ Aidanfield              Christchurch Hospital              Christchurch\n",
       "   3 │ Akaroa                  Christchurch Hospital              Christchurch\n",
       "   4 │ Akaroa Harbour          Christchurch Hospital              Forte Health\n",
       "   5 │ Allenton East           Ashburton Hospital                 Bidwill Trus ⋯\n",
       "   6 │ Allenton West           Ashburton Hospital                 Bidwill Trus\n",
       "   7 │ Amberley                Rangiora Hospital                  Burwood Hosp\n",
       "   8 │ Amuri                   Waikari Hospital                   Burwood Hosp\n",
       "   9 │ Aorangi                 Nurse Maude Hospice                St George's  ⋯\n",
       "  10 │ Aranui                  Burwood Hospital                   Burwood Hosp\n",
       "  11 │ Ashburton Central East  Tuarangi Home                      Bidwill Trus\n",
       "  ⋮  │           ⋮                             ⋮                               ⋱\n",
       " 236 │ Westmorland             Christchurch Hospital              Christchurch\n",
       " 237 │ Wharenui                Christchurch Hospital              Christchurch ⋯\n",
       " 238 │ Wigram                  Christchurch Hospital              Christchurch\n",
       " 239 │ Winchester              Hospice South Canterbury           Bidwill Trus\n",
       " 240 │ Woodend                 Rangiora Hospital                  Burwood Hosp\n",
       " 241 │ Woodend Beach           Rangiora Hospital                  Burwood Hosp ⋯\n",
       " 242 │ Woodend West            Rangiora Hospital                  Burwood Hosp\n",
       " 243 │ Woolston South          Christchurch Hospital              Forte Health\n",
       " 244 │ Woolston West           Southern Cross Hospital Christch…  Forte Health\n",
       " 245 │ Yaldhurst               Nurse Maude Hospice                St George's  ⋯\n",
       "\u001b[36m                                                   1 column and 224 rows omitted\u001b[0m"
      ]
     },
     "execution_count": 16,
     "metadata": {},
     "output_type": "execute_result"
    }
   ],
   "source": [
    "# Testing, show selected columns\n",
    "closest_hospitals_df[!, [:AU2017_NAME, :Closest_Medical_Hospital, :Closest_Surgical_Hospital]]"
   ]
  },
  {
   "cell_type": "markdown",
   "id": "4f7f709f",
   "metadata": {},
   "source": [
    "Now we can find what area unit a hospital is in, by grouping by hospital and finding the smallest distance from hospital to any area unit.\n",
    "NB: this is not as precise as checking if hospital in inside a certain boundary, as it is possible for a hospital to be in a certain Area Unit and still be closer to center of a different area unit. However we with the tools at our disposal, we are happy with this result. "
   ]
  },
  {
   "cell_type": "code",
   "execution_count": 22,
   "id": "7e776aa9",
   "metadata": {},
   "outputs": [
    {
     "data": {
      "text/html": [
       "<div class=\"data-frame\"><p>20 rows × 7 columns (omitted printing of 4 columns)</p><table class=\"data-frame\"><thead><tr><th></th><th>variable</th><th>mean</th><th>min</th></tr><tr><th></th><th title=\"Symbol\">Symbol</th><th title=\"Union{Nothing, Float64}\">Union…</th><th title=\"Any\">Any</th></tr></thead><tbody><tr><th>1</th><td>Hospital_Name</td><td></td><td>Ashburton Hospital</td></tr><tr><th>2</th><td>Certification_Service_Type</td><td></td><td>NGO Hospital</td></tr><tr><th>3</th><td>Service_Types</td><td></td><td>Childrens health, Maternity, Surgical, Medical, Mental health</td></tr><tr><th>4</th><td>Total_Beds</td><td>87.0476</td><td>3</td></tr><tr><th>5</th><td>Hospital_Address</td><td></td><td>1 Lincoln Road</td></tr><tr><th>6</th><td>Hospital_Suburb</td><td></td><td>Allenton</td></tr><tr><th>7</th><td>Hospital_City</td><td></td><td>Ashburton</td></tr><tr><th>8</th><td>Hospital_Postcode</td><td>7792.24</td><td>7300</td></tr><tr><th>9</th><td>DHB_Name</td><td></td><td>Canterbury District Health Board</td></tr><tr><th>10</th><td>Childrens_Health</td><td>0.0952381</td><td>0</td></tr><tr><th>11</th><td>Dementia_Care</td><td>0.047619</td><td>0</td></tr><tr><th>12</th><td>Geriatric</td><td>0.333333</td><td>0</td></tr><tr><th>13</th><td>Maternity</td><td>0.333333</td><td>0</td></tr><tr><th>14</th><td>Medical</td><td>0.714286</td><td>0</td></tr><tr><th>15</th><td>Mental_Health</td><td>0.142857</td><td>0</td></tr><tr><th>16</th><td>Psychogeriatric</td><td>0.047619</td><td>0</td></tr><tr><th>17</th><td>Surgical</td><td>0.333333</td><td>0</td></tr><tr><th>18</th><td>Hospital_Lat</td><td>-43.6188</td><td>-44.4082</td></tr><tr><th>19</th><td>Hospital_Long</td><td>155.703</td><td>-176.559</td></tr><tr><th>20</th><td>Hospital_Area_Unit</td><td></td><td>Allenton West</td></tr></tbody></table></div>"
      ],
      "text/latex": [
       "\\begin{tabular}{r|cccc}\n",
       "\t& variable & mean & min & \\\\\n",
       "\t\\hline\n",
       "\t& Symbol & Union… & Any & \\\\\n",
       "\t\\hline\n",
       "\t1 & Hospital\\_Name &  & Ashburton Hospital & $\\dots$ \\\\\n",
       "\t2 & Certification\\_Service\\_Type &  & NGO Hospital & $\\dots$ \\\\\n",
       "\t3 & Service\\_Types &  & Childrens health, Maternity, Surgical, Medical, Mental health & $\\dots$ \\\\\n",
       "\t4 & Total\\_Beds & 87.0476 & 3 & $\\dots$ \\\\\n",
       "\t5 & Hospital\\_Address &  & 1 Lincoln Road & $\\dots$ \\\\\n",
       "\t6 & Hospital\\_Suburb &  & Allenton & $\\dots$ \\\\\n",
       "\t7 & Hospital\\_City &  & Ashburton & $\\dots$ \\\\\n",
       "\t8 & Hospital\\_Postcode & 7792.24 & 7300 & $\\dots$ \\\\\n",
       "\t9 & DHB\\_Name &  & Canterbury District Health Board & $\\dots$ \\\\\n",
       "\t10 & Childrens\\_Health & 0.0952381 & 0 & $\\dots$ \\\\\n",
       "\t11 & Dementia\\_Care & 0.047619 & 0 & $\\dots$ \\\\\n",
       "\t12 & Geriatric & 0.333333 & 0 & $\\dots$ \\\\\n",
       "\t13 & Maternity & 0.333333 & 0 & $\\dots$ \\\\\n",
       "\t14 & Medical & 0.714286 & 0 & $\\dots$ \\\\\n",
       "\t15 & Mental\\_Health & 0.142857 & 0 & $\\dots$ \\\\\n",
       "\t16 & Psychogeriatric & 0.047619 & 0 & $\\dots$ \\\\\n",
       "\t17 & Surgical & 0.333333 & 0 & $\\dots$ \\\\\n",
       "\t18 & Hospital\\_Lat & -43.6188 & -44.4082 & $\\dots$ \\\\\n",
       "\t19 & Hospital\\_Long & 155.703 & -176.559 & $\\dots$ \\\\\n",
       "\t20 & Hospital\\_Area\\_Unit &  & Allenton West & $\\dots$ \\\\\n",
       "\\end{tabular}\n"
      ],
      "text/plain": [
       "\u001b[1m20×7 DataFrame\u001b[0m\n",
       "\u001b[1m Row \u001b[0m│\u001b[1m variable                   \u001b[0m\u001b[1m mean      \u001b[0m\u001b[1m min                             \u001b[0m ⋯\n",
       "\u001b[1m     \u001b[0m│\u001b[90m Symbol                     \u001b[0m\u001b[90m Union…    \u001b[0m\u001b[90m Any                             \u001b[0m ⋯\n",
       "─────┼──────────────────────────────────────────────────────────────────────────\n",
       "   1 │ Hospital_Name              \u001b[90m           \u001b[0m Ashburton Hospital               ⋯\n",
       "   2 │ Certification_Service_Type \u001b[90m           \u001b[0m NGO Hospital\n",
       "   3 │ Service_Types              \u001b[90m           \u001b[0m Childrens health, Maternity, Sur\n",
       "   4 │ Total_Beds                  87.0476    3\n",
       "   5 │ Hospital_Address           \u001b[90m           \u001b[0m 1 Lincoln Road                   ⋯\n",
       "   6 │ Hospital_Suburb            \u001b[90m           \u001b[0m Allenton\n",
       "   7 │ Hospital_City              \u001b[90m           \u001b[0m Ashburton\n",
       "   8 │ Hospital_Postcode           7792.24    7300\n",
       "   9 │ DHB_Name                   \u001b[90m           \u001b[0m Canterbury District Health Board ⋯\n",
       "  10 │ Childrens_Health            0.0952381  0\n",
       "  11 │ Dementia_Care               0.047619   0\n",
       "  12 │ Geriatric                   0.333333   0\n",
       "  13 │ Maternity                   0.333333   0                                ⋯\n",
       "  14 │ Medical                     0.714286   0\n",
       "  15 │ Mental_Health               0.142857   0\n",
       "  16 │ Psychogeriatric             0.047619   0\n",
       "  17 │ Surgical                    0.333333   0                                ⋯\n",
       "  18 │ Hospital_Lat                -43.6188   -44.4082\n",
       "  19 │ Hospital_Long               155.703    -176.559\n",
       "  20 │ Hospital_Area_Unit         \u001b[90m           \u001b[0m Allenton West\n",
       "\u001b[36m                                                               5 columns omitted\u001b[0m"
      ]
     },
     "execution_count": 22,
     "metadata": {},
     "output_type": "execute_result"
    }
   ],
   "source": [
    "# Finding closest centre of area unit for each hospital\n",
    "hospitals_area_unit_df = combine(cross_df -> filter(:Distance => ==(minimum(cross_df.Distance)), cross_df), groupby(cross_df, :Hospital_Name))\n",
    "\n",
    "# Removing columns and renaming one\n",
    "hospitals_area_unit_df =  select!(hospitals_area_unit_df, Not(:Distance))\n",
    "hospitals_area_unit_df =  select!(hospitals_area_unit_df, Not(:AU_Lat))\n",
    "hospitals_area_unit_df =  select!(hospitals_area_unit_df, Not(:AU_Long))\n",
    "hospitals_area_unit_df = rename(hospitals_area_unit_df, \n",
    "    \"AU2017_NAME\" => \"Hospital_Area_Unit\" \n",
    "    )\n",
    "\n",
    "\n",
    "describe(hospitals_area_unit_df)"
   ]
  },
  {
   "cell_type": "markdown",
   "id": "b5fef86f",
   "metadata": {},
   "source": [
    "Now we have our dataframes, we can save them"
   ]
  },
  {
   "cell_type": "code",
   "execution_count": 24,
   "id": "ef0de945",
   "metadata": {},
   "outputs": [
    {
     "data": {
      "text/plain": [
       "\"Hospitals.csv\""
      ]
     },
     "execution_count": 24,
     "metadata": {},
     "output_type": "execute_result"
    }
   ],
   "source": [
    "# Writing df to csv file\n",
    "CSV.write(\"Closest Hospitals.csv\", closest_hospitals_df)\n",
    "CSV.write(\"Hospitals.csv\", hospitals_area_unit_df)"
   ]
  },
  {
   "cell_type": "code",
   "execution_count": null,
   "id": "615da335",
   "metadata": {},
   "outputs": [],
   "source": []
  }
 ],
 "metadata": {
  "kernelspec": {
   "display_name": "Julia 1.6.1",
   "language": "julia",
   "name": "julia-1.6"
  },
  "language_info": {
   "file_extension": ".jl",
   "mimetype": "application/julia",
   "name": "julia",
   "version": "1.6.1"
  }
 },
 "nbformat": 4,
 "nbformat_minor": 5
}
